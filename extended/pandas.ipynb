{
 "cells": [
  {
   "cell_type": "markdown",
   "id": "d071ed6c",
   "metadata": {},
   "source": [
    "conda install pandas"
   ]
  },
  {
   "cell_type": "code",
   "execution_count": 2,
   "id": "3abdd260",
   "metadata": {},
   "outputs": [],
   "source": [
    "import pandas as pd"
   ]
  },
  {
   "cell_type": "code",
   "execution_count": 3,
   "id": "f781e5bc",
   "metadata": {},
   "outputs": [
    {
     "name": "stdout",
     "output_type": "stream",
     "text": [
      "0    10\n",
      "1    20\n",
      "2    30\n",
      "3    40\n",
      "4    50\n",
      "dtype: int64\n"
     ]
    }
   ],
   "source": [
    "s1 = pd.Series([10,20,30,40,50]) # 자동으로 붙은 인덱스와 값 (index,vales)\n",
    "print(s1)"
   ]
  },
  {
   "cell_type": "code",
   "execution_count": 4,
   "id": "c1976f0d",
   "metadata": {},
   "outputs": [
    {
     "name": "stdout",
     "output_type": "stream",
     "text": [
      "RangeIndex(start=0, stop=5, step=1)\n"
     ]
    }
   ],
   "source": [
    "print(s1.index) # 인데스를 찍어보자"
   ]
  },
  {
   "cell_type": "code",
   "execution_count": 8,
   "id": "28f44254",
   "metadata": {},
   "outputs": [
    {
     "name": "stdout",
     "output_type": "stream",
     "text": [
      "[10 20 30 40 50]\n"
     ]
    }
   ],
   "source": [
    "print(s1.values) # 벨률를 찍어보자"
   ]
  },
  {
   "cell_type": "code",
   "execution_count": 11,
   "id": "ee07962b",
   "metadata": {},
   "outputs": [
    {
     "name": "stdout",
     "output_type": "stream",
     "text": [
      "<class 'numpy.ndarray'>\n"
     ]
    }
   ],
   "source": [
    "print(type(s1.values))  #numpy 배열 타입으로 설정되어있다."
   ]
  },
  {
   "cell_type": "code",
   "execution_count": 5,
   "id": "22d02842",
   "metadata": {},
   "outputs": [
    {
     "name": "stdout",
     "output_type": "stream",
     "text": [
      "0    a\n",
      "1    b\n",
      "2    c\n",
      "3    1\n",
      "4    2\n",
      "5    3\n",
      "dtype: object\n"
     ]
    }
   ],
   "source": [
    "#서로 다른 타입을 할수 있지만 타입은 object타입이다. 이렇게 쓰는것을 지양해야한다.\n",
    "s2 = pd.Series(['a', 'b', 'c', 1, 2, 3]) \n",
    "print(s2)"
   ]
  },
  {
   "cell_type": "code",
   "execution_count": 15,
   "id": "124aab13",
   "metadata": {},
   "outputs": [],
   "source": [
    "import numpy as np"
   ]
  },
  {
   "cell_type": "markdown",
   "id": "ccb3015e",
   "metadata": {},
   "source": [
    "null값 출력"
   ]
  },
  {
   "cell_type": "code",
   "execution_count": 17,
   "id": "4a796daa",
   "metadata": {},
   "outputs": [
    {
     "name": "stdout",
     "output_type": "stream",
     "text": [
      "0    NaN\n",
      "1    1.0\n",
      "2    2.0\n",
      "dtype: float64\n"
     ]
    }
   ],
   "source": [
    "s = pd.Series([np.nan,1,2]) # 데이터 없는 부부을 nan(not a number)의로 나타낼수 있다.\n",
    "print(s)"
   ]
  },
  {
   "cell_type": "markdown",
   "id": "38179594",
   "metadata": {},
   "source": [
    "인덱스 부여\n"
   ]
  },
  {
   "cell_type": "code",
   "execution_count": 18,
   "id": "f8b71ed5",
   "metadata": {},
   "outputs": [
    {
     "name": "stdout",
     "output_type": "stream",
     "text": [
      "2020-03-20    200.0\n",
      "2020-03-21    187.0\n",
      "2020-03-22      NaN\n",
      "2020-03-23    210.0\n",
      "dtype: float64\n"
     ]
    }
   ],
   "source": [
    "index_date = ['2020-03-20', '2020-03-21', '2020-03-22', '2020-03-23']\n",
    "s4 = pd.Series([200, 187, np.nan, 210], index=index_date)\n",
    "print(s4)"
   ]
  },
  {
   "cell_type": "markdown",
   "id": "dde4b5f9",
   "metadata": {},
   "source": [
    "판다스를 딕셔어리 타입으로도 만들수있다"
   ]
  },
  {
   "cell_type": "code",
   "execution_count": 20,
   "id": "9da8580e",
   "metadata": {},
   "outputs": [
    {
     "name": "stdout",
     "output_type": "stream",
     "text": [
      "국어    100\n",
      "영어     95\n",
      "수학    100\n",
      "dtype: int64\n"
     ]
    }
   ],
   "source": [
    "s5 = pd.Series({'국어':100, '영어':95, '수학':100})\n",
    "print(s5)"
   ]
  },
  {
   "cell_type": "markdown",
   "id": "c344ea38",
   "metadata": {},
   "source": [
    "date_range"
   ]
  },
  {
   "cell_type": "code",
   "execution_count": 21,
   "id": "c194a452",
   "metadata": {},
   "outputs": [
    {
     "name": "stdout",
     "output_type": "stream",
     "text": [
      "DatetimeIndex(['2020-01-20', '2020-01-21', '2020-01-22', '2020-01-23',\n",
      "               '2020-01-24', '2020-01-25', '2020-01-26', '2020-01-27'],\n",
      "              dtype='datetime64[ns]', freq='D')\n"
     ]
    }
   ],
   "source": [
    "p = pd.date_range(start='2020-01-20', end='2020-01-27')\n",
    "print(p)"
   ]
  },
  {
   "cell_type": "code",
   "execution_count": 22,
   "id": "1f202883",
   "metadata": {},
   "outputs": [
    {
     "name": "stdout",
     "output_type": "stream",
     "text": [
      "DatetimeIndex(['2020-01-20', '2020-01-21', '2020-01-22', '2020-01-23',\n",
      "               '2020-01-24', '2020-01-25', '2020-01-26', '2020-01-27'],\n",
      "              dtype='datetime64[ns]', freq='D')\n"
     ]
    }
   ],
   "source": [
    "p = pd.date_range(start='2020/01/20', end='2020.01.27')  # /과 .을 사용할수 있으나 내부적으로 -이것으로 출력\n",
    "print(p)"
   ]
  },
  {
   "cell_type": "code",
   "execution_count": 24,
   "id": "c1596340",
   "metadata": {},
   "outputs": [
    {
     "name": "stdout",
     "output_type": "stream",
     "text": [
      "DatetimeIndex(['2020-05-01', '2020-05-02', '2020-05-03', '2020-05-04',\n",
      "               '2020-05-05', '2020-05-06', '2020-05-07'],\n",
      "              dtype='datetime64[ns]', freq='D')\n"
     ]
    }
   ],
   "source": [
    "p = pd.date_range(start='2020-05-01', periods=7)  #값을 줘서 출력 가능\n",
    "print(p)"
   ]
  },
  {
   "cell_type": "markdown",
   "id": "91f9be01",
   "metadata": {},
   "source": [
    "#### 판다스 공식 문서   \n",
    "https://pandas.pydata.org/pandas-docs/stable/user_guide/timeseries.html#offset-aliases"
   ]
  },
  {
   "cell_type": "code",
   "execution_count": 25,
   "id": "6bf45492",
   "metadata": {},
   "outputs": [
    {
     "name": "stdout",
     "output_type": "stream",
     "text": [
      "DatetimeIndex(['2020-01-01', '2020-01-03', '2020-01-05', '2020-01-07'], dtype='datetime64[ns]', freq='2D')\n"
     ]
    }
   ],
   "source": [
    "p = pd.date_range(start='2020-01-01', periods=4, freq='2D')\n",
    "print(p)"
   ]
  },
  {
   "cell_type": "code",
   "execution_count": 28,
   "id": "6b3376eb",
   "metadata": {},
   "outputs": [
    {
     "name": "stdout",
     "output_type": "stream",
     "text": [
      "DatetimeIndex(['2023-02-05', '2023-02-12', '2023-02-19', '2023-02-26',\n",
      "               '2023-03-05'],\n",
      "              dtype='datetime64[ns]', freq='W-SUN')\n"
     ]
    }
   ],
   "source": [
    "p = pd.date_range(start='2023-02-01', periods=5, freq='W') # W은 주, 일요일이 디폴트\n",
    "print(p)"
   ]
  },
  {
   "cell_type": "code",
   "execution_count": 29,
   "id": "60fbdba6",
   "metadata": {},
   "outputs": [
    {
     "name": "stdout",
     "output_type": "stream",
     "text": [
      "DatetimeIndex(['2023-02-06', '2023-02-13', '2023-02-20', '2023-02-27',\n",
      "               '2023-03-06'],\n",
      "              dtype='datetime64[ns]', freq='W-MON')\n"
     ]
    }
   ],
   "source": [
    "p = pd.date_range(start='2023-02-01', periods=5, freq='W-MOn') # 월요일로 변경\n",
    "print(p)"
   ]
  },
  {
   "cell_type": "code",
   "execution_count": 30,
   "id": "7742615d",
   "metadata": {},
   "outputs": [
    {
     "name": "stdout",
     "output_type": "stream",
     "text": [
      "DatetimeIndex(['2023-02-28', '2023-04-28', '2023-06-30', '2023-08-31',\n",
      "               '2023-10-31', '2023-12-29', '2024-02-29', '2024-04-30',\n",
      "               '2024-06-28', '2024-08-30', '2024-10-31', '2024-12-31'],\n",
      "              dtype='datetime64[ns]', freq='2BM')\n"
     ]
    }
   ],
   "source": [
    "p = pd.date_range(start='2023-02-01', periods=12, freq='2BM') # 2달씩 평일 마지막날\n",
    "print(p)"
   ]
  },
  {
   "cell_type": "code",
   "execution_count": 3,
   "id": "cc546f90",
   "metadata": {},
   "outputs": [
    {
     "name": "stdout",
     "output_type": "stream",
     "text": [
      "DatetimeIndex(['2023-04-01', '2023-07-01', '2023-10-01', '2024-01-01'], dtype='datetime64[ns]', freq='QS-JAN')\n"
     ]
    }
   ],
   "source": [
    "p = pd.date_range(start='2023-01-03', periods=4, freq='QS')  #사사분기를 현시점에서 출력해줘\n",
    "print(p)"
   ]
  },
  {
   "cell_type": "code",
   "execution_count": 34,
   "id": "2aa0e763",
   "metadata": {},
   "outputs": [
    {
     "name": "stdout",
     "output_type": "stream",
     "text": [
      "DatetimeIndex(['2023-01-01', '2024-01-01', '2025-01-01'], dtype='datetime64[ns]', freq='AS-JAN')\n"
     ]
    }
   ],
   "source": [
    "p = pd.date_range(start='2023-01-01', periods=3, freq='AS') #anual start\n",
    "print(p)"
   ]
  },
  {
   "cell_type": "code",
   "execution_count": 36,
   "id": "dd6c909c",
   "metadata": {},
   "outputs": [
    {
     "name": "stdout",
     "output_type": "stream",
     "text": [
      "DatetimeIndex(['2023-02-01 08:00:00', '2023-02-01 09:00:00',\n",
      "               '2023-02-01 10:00:00', '2023-02-01 11:00:00',\n",
      "               '2023-02-01 12:00:00', '2023-02-01 13:00:00',\n",
      "               '2023-02-01 14:00:00', '2023-02-01 15:00:00',\n",
      "               '2023-02-01 16:00:00', '2023-02-01 17:00:00'],\n",
      "              dtype='datetime64[ns]', freq='H')\n"
     ]
    }
   ],
   "source": [
    "p = pd.date_range(start='2023-02-01 08:00', periods=10, freq='H') # 시간\n",
    "print(p)"
   ]
  },
  {
   "cell_type": "code",
   "execution_count": 37,
   "id": "9c305459",
   "metadata": {},
   "outputs": [
    {
     "name": "stdout",
     "output_type": "stream",
     "text": [
      "DatetimeIndex(['2023-02-01 09:00:00', '2023-02-01 10:00:00',\n",
      "               '2023-02-01 11:00:00', '2023-02-01 12:00:00',\n",
      "               '2023-02-01 13:00:00', '2023-02-01 14:00:00',\n",
      "               '2023-02-01 15:00:00', '2023-02-01 16:00:00',\n",
      "               '2023-02-02 09:00:00', '2023-02-02 10:00:00'],\n",
      "              dtype='datetime64[ns]', freq='BH')\n"
     ]
    }
   ],
   "source": [
    "p = pd.date_range(start='2023-02-01 08:00', periods=10, freq='BH')\n",
    "print(p)"
   ]
  },
  {
   "cell_type": "code",
   "execution_count": 38,
   "id": "2378ba43",
   "metadata": {},
   "outputs": [
    {
     "name": "stdout",
     "output_type": "stream",
     "text": [
      "<CustomBusinessHour: CBH=09:00-18:00>\n",
      "DatetimeIndex(['2023-02-01 09:00:00', '2023-02-01 10:00:00',\n",
      "               '2023-02-01 11:00:00', '2023-02-01 12:00:00',\n",
      "               '2023-02-01 13:00:00', '2023-02-01 14:00:00',\n",
      "               '2023-02-01 15:00:00', '2023-02-01 16:00:00',\n",
      "               '2023-02-01 17:00:00', '2023-02-02 09:00:00'],\n",
      "              dtype='datetime64[ns]', freq='CBH')\n"
     ]
    }
   ],
   "source": [
    "cbh = pd.offsets.CustomBusinessHour(start='09:00', \n",
    "                                    end='18:00', \n",
    "                                    weekmask='Mon Tue Wed Thu Fri')\n",
    "print(cbh)\n",
    "\n",
    "p2 = pd.date_range(start='2023-02-01 08:00', periods=10, freq=cbh)\n",
    "print(p2)"
   ]
  },
  {
   "cell_type": "code",
   "execution_count": 42,
   "id": "e03c8d1f",
   "metadata": {},
   "outputs": [
    {
     "name": "stdout",
     "output_type": "stream",
     "text": [
      "DatetimeIndex(['2020-01-01 10:00:00', '2020-01-01 10:30:00',\n",
      "               '2020-01-01 11:00:00', '2020-01-01 11:30:00'],\n",
      "              dtype='datetime64[ns]', freq='30T')\n"
     ]
    }
   ],
   "source": [
    "p = pd.date_range(start='2020-01-01 10:00', periods=4, freq='30min')\n",
    "print(p)"
   ]
  },
  {
   "cell_type": "code",
   "execution_count": 40,
   "id": "9222f800",
   "metadata": {},
   "outputs": [
    {
     "name": "stdout",
     "output_type": "stream",
     "text": [
      "DatetimeIndex(['2020-01-01 10:00:00', '2020-01-01 10:00:10',\n",
      "               '2020-01-01 10:00:20', '2020-01-01 10:00:30'],\n",
      "              dtype='datetime64[ns]', freq='10S')\n"
     ]
    }
   ],
   "source": [
    "p = pd.date_range(start='2020-01-01 10:00:00', periods=4, freq='10S')\n",
    "print(p)"
   ]
  },
  {
   "cell_type": "code",
   "execution_count": 43,
   "id": "5bbc586b",
   "metadata": {},
   "outputs": [
    {
     "name": "stdout",
     "output_type": "stream",
     "text": [
      "2020-05-01    51\n",
      "2020-05-02    63\n",
      "2020-05-03    59\n",
      "2020-05-04    48\n",
      "2020-05-05    60\n",
      "Freq: D, dtype: int64\n"
     ]
    }
   ],
   "source": [
    "index_date = pd.date_range(start='2020-05-01', periods=5, freq='D')\n",
    "p = pd.Series([51, 63, 59, 48, 60], index=index_date)\n",
    "print(p)"
   ]
  },
  {
   "cell_type": "code",
   "execution_count": null,
   "id": "995d7b74",
   "metadata": {},
   "outputs": [],
   "source": []
  }
 ],
 "metadata": {
  "kernelspec": {
   "display_name": "Python 3 (ipykernel)",
   "language": "python",
   "name": "python3"
  },
  "language_info": {
   "codemirror_mode": {
    "name": "ipython",
    "version": 3
   },
   "file_extension": ".py",
   "mimetype": "text/x-python",
   "name": "python",
   "nbconvert_exporter": "python",
   "pygments_lexer": "ipython3",
   "version": "3.9.16"
  }
 },
 "nbformat": 4,
 "nbformat_minor": 5
}
