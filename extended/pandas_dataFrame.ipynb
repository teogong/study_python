{
 "cells": [
  {
   "cell_type": "markdown",
   "id": "11764166",
   "metadata": {},
   "source": [
    "DataFrame"
   ]
  },
  {
   "cell_type": "code",
   "execution_count": 3,
   "id": "4f799aaf",
   "metadata": {},
   "outputs": [],
   "source": [
    "import pandas as pd"
   ]
  },
  {
   "cell_type": "code",
   "execution_count": 5,
   "id": "b43596be",
   "metadata": {},
   "outputs": [
    {
     "name": "stdout",
     "output_type": "stream",
     "text": [
      "   0  1  2\n",
      "0  1  2  3\n",
      "1  4  5  6\n",
      "2  7  8  9\n"
     ]
    }
   ],
   "source": [
    "df = pd.DataFrame([[1,2,3],[4,5,6],[7,8,9]])\n",
    "print(df)  # 엑셀 생각아면 편하다"
   ]
  },
  {
   "cell_type": "code",
   "execution_count": 6,
   "id": "41d3dd7f",
   "metadata": {},
   "outputs": [],
   "source": [
    "import numpy as np"
   ]
  },
  {
   "cell_type": "code",
   "execution_count": 7,
   "id": "59bd7f8b",
   "metadata": {},
   "outputs": [
    {
     "name": "stdout",
     "output_type": "stream",
     "text": [
      "   0  1  2\n",
      "0  1  2  3\n",
      "1  4  5  6\n",
      "2  7  8  9\n"
     ]
    }
   ],
   "source": [
    "data_list = np.array([[1, 2, 3], [4, 5, 6], [7, 8, 9]])\n",
    "df = pd.DataFrame(data_list)\n",
    "print(df)"
   ]
  },
  {
   "cell_type": "code",
   "execution_count": 8,
   "id": "5e8c3e43",
   "metadata": {},
   "outputs": [
    {
     "name": "stdout",
     "output_type": "stream",
     "text": [
      "             A   B   C\n",
      "2020-05-01   1   2   3\n",
      "2020-05-02   4   5   6\n",
      "2020-05-03   7   8   9\n",
      "2020-05-04  10  11  12\n"
     ]
    }
   ],
   "source": [
    "data = np.array([[1, 2, 3], [4, 5, 6], [7, 8, 9], [10, 11, 12]])\n",
    "index_date = pd.date_range('2020-05-01', periods=4)\n",
    "columns_list = ['A', 'B', 'C']\n",
    "df = pd.DataFrame(data, index=index_date, columns=columns_list)\n",
    "print(df)"
   ]
  },
  {
   "cell_type": "code",
   "execution_count": 10,
   "id": "262824f6",
   "metadata": {},
   "outputs": [
    {
     "name": "stdout",
     "output_type": "stream",
     "text": [
      "     연도  지사  고객 수\n",
      "0  2015  서울   200\n",
      "1  2016  서울   250\n",
      "2  2016  부산   150\n",
      "3  2017  서울   300\n",
      "4  2017  부산   200\n"
     ]
    }
   ],
   "source": [
    "data = {'연도': [2015, 2016, 2016, 2017, 2017], \n",
    "        '지사': ['서울', '서울', '부산', '서울', '부산'],\n",
    "        '고객 수': [200, 250, 150, 300, 200]}\n",
    "df = pd.DataFrame(data)\n",
    "print(df)"
   ]
  },
  {
   "cell_type": "code",
   "execution_count": 12,
   "id": "6d676fc6",
   "metadata": {},
   "outputs": [
    {
     "name": "stdout",
     "output_type": "stream",
     "text": [
      "   지사    연도  고객 수\n",
      "0  서울  2015   200\n",
      "1  서울  2016   250\n",
      "2  부산  2016   150\n",
      "3  서울  2017   300\n",
      "4  부산  2017   200\n"
     ]
    }
   ],
   "source": [
    "data = {'연도': [2015, 2016, 2016, 2017, 2017], \n",
    "        '지사': ['서울', '서울', '부산', '서울', '부산'],\n",
    "        '고객 수': [200, 250, 150, 300, 200]}\n",
    "df = pd.DataFrame(data, columns=['지사','연도','고객 수'])\n",
    "print(df)"
   ]
  },
  {
   "cell_type": "code",
   "execution_count": 14,
   "id": "5d6712ee",
   "metadata": {},
   "outputs": [
    {
     "name": "stdout",
     "output_type": "stream",
     "text": [
      "[['서울' 2015 200]\n",
      " ['서울' 2016 250]\n",
      " ['부산' 2016 150]\n",
      " ['서울' 2017 300]\n",
      " ['부산' 2017 200]]\n"
     ]
    }
   ],
   "source": [
    "print(df.values) # numpy배열 type로 나온다"
   ]
  },
  {
   "cell_type": "code",
   "execution_count": 15,
   "id": "07365199",
   "metadata": {},
   "outputs": [
    {
     "name": "stdout",
     "output_type": "stream",
     "text": [
      "0    11\n",
      "1    22\n",
      "2    33\n",
      "3    44\n",
      "4    55\n",
      "dtype: int64\n",
      "0     9\n",
      "1    18\n",
      "2    27\n",
      "3    36\n",
      "4    45\n",
      "dtype: int64\n",
      "0     10\n",
      "1     40\n",
      "2     90\n",
      "3    160\n",
      "4    250\n",
      "dtype: int64\n",
      "0    10.0\n",
      "1    10.0\n",
      "2    10.0\n",
      "3    10.0\n",
      "4    10.0\n",
      "dtype: float64\n"
     ]
    }
   ],
   "source": [
    "s1 = pd.Series([1, 2, 3, 4, 5])\n",
    "s2 = pd.Series([10, 20, 30, 40, 50])\n",
    "print(s1 + s2)\n",
    "print(s2 - s1)\n",
    "print(s1 * s2)\n",
    "print(s2 / s1)"
   ]
  },
  {
   "cell_type": "code",
   "execution_count": 16,
   "id": "789633aa",
   "metadata": {},
   "outputs": [
    {
     "name": "stdout",
     "output_type": "stream",
     "text": [
      "0    11.0\n",
      "1    22.0\n",
      "2    33.0\n",
      "3    44.0\n",
      "4     NaN\n",
      "dtype: float64\n"
     ]
    }
   ],
   "source": [
    "s3 = pd.Series([1, 2, 3, 4])\n",
    "s4 = pd.Series([10, 20, 30, 40, 50])\n",
    "print(s3 + s4)"
   ]
  },
  {
   "cell_type": "code",
   "execution_count": 17,
   "id": "b60784c9",
   "metadata": {},
   "outputs": [
    {
     "name": "stdout",
     "output_type": "stream",
     "text": [
      "   A   B    C\n",
      "0  1  10  100\n",
      "1  2  20  200\n",
      "2  3  30  300\n",
      "3  4  40  400\n",
      "4  5  50  500\n",
      "   A   B    C\n",
      "0  6  60  600\n",
      "1  7  70  700\n",
      "2  8  80  800\n",
      "====================\n",
      "      A      B       C\n",
      "0   7.0   70.0   700.0\n",
      "1   9.0   90.0   900.0\n",
      "2  11.0  110.0  1100.0\n",
      "3   NaN    NaN     NaN\n",
      "4   NaN    NaN     NaN\n"
     ]
    }
   ],
   "source": [
    "data1 = {'A': [1, 2, 3, 4, 5],\n",
    "         'B': [10, 20, 30, 40, 50],\n",
    "         'C': [100, 200, 300, 400, 500]}\n",
    "df1 = pd.DataFrame(data1)\n",
    "print(df1)\n",
    "\n",
    "data2 = {'A': [6, 7, 8],\n",
    "         'B': [60, 70, 80],\n",
    "         'C': [600, 700, 800]}\n",
    "df2 = pd.DataFrame(data2)\n",
    "print(df2)\n",
    "print('='*20)\n",
    "print(df1 + df2)"
   ]
  },
  {
   "cell_type": "code",
   "execution_count": 18,
   "id": "7a8c237e",
   "metadata": {},
   "outputs": [
    {
     "name": "stdout",
     "output_type": "stream",
     "text": [
      "          봄     여름     가을     겨울\n",
      "2012  256.5  770.6  363.5  139.3\n",
      "2013  264.3  567.5  231.2   59.9\n",
      "2014  215.9  599.8  293.1   76.9\n",
      "2015  223.2  387.1  247.7  109.1\n",
      "2016  312.8  446.2  381.6  108.1\n"
     ]
    }
   ],
   "source": [
    "table_data3 = {'봄':  [256.5, 264.3, 215.9, 223.2, 312.8],\n",
    "              '여름': [770.6, 567.5, 599.8, 387.1, 446.2],\n",
    "              '가을': [363.5, 231.2, 293.1, 247.7, 381.6],\n",
    "              '겨울': [139.3, 59.9, 76.9, 109.1, 108.1]}\n",
    "columns_list = ['봄', '여름', '가을', '겨울']\n",
    "index_list = ['2012', '2013', '2014', '2015', '2016']\n",
    "\n",
    "df3 = pd.DataFrame(table_data3, columns = columns_list, index = index_list)\n",
    "print(df3)"
   ]
  },
  {
   "cell_type": "code",
   "execution_count": 23,
   "id": "a7c09777",
   "metadata": {},
   "outputs": [
    {
     "name": "stdout",
     "output_type": "stream",
     "text": [
      "봄     254.54\n",
      "여름    554.24\n",
      "가을    303.42\n",
      "겨울     98.66\n",
      "dtype: float64\n"
     ]
    }
   ],
   "source": [
    "print(df3.mean()) # axis(축) = 0 디폴트 row에 평균을 구해라   ==>  (row,col) (5,4)  0번째는 row축을 의미"
   ]
  },
  {
   "cell_type": "code",
   "execution_count": 20,
   "id": "78c8795e",
   "metadata": {},
   "outputs": [
    {
     "name": "stdout",
     "output_type": "stream",
     "text": [
      "봄      38.628267\n",
      "여름    148.888895\n",
      "가을     67.358496\n",
      "겨울     30.925523\n",
      "dtype: float64\n"
     ]
    }
   ],
   "source": [
    "print(df3.std())"
   ]
  },
  {
   "cell_type": "code",
   "execution_count": 25,
   "id": "08f15632",
   "metadata": {},
   "outputs": [
    {
     "name": "stdout",
     "output_type": "stream",
     "text": [
      "2012    382.475\n",
      "2013    280.725\n",
      "2014    296.425\n",
      "2015    241.775\n",
      "2016    312.175\n",
      "dtype: float64\n"
     ]
    }
   ],
   "source": [
    "print(df3.mean(axis=1))  # axis연도 별로 나옴, columns에 평균을 구해아, numpy,tenserflow도 동일하 개념을 의미 ==>  (row,col) (5,4)  1번째는 col축을 의미"
   ]
  },
  {
   "cell_type": "code",
   "execution_count": 26,
   "id": "e142b029",
   "metadata": {},
   "outputs": [
    {
     "name": "stdout",
     "output_type": "stream",
     "text": [
      "2012    274.472128\n",
      "2013    211.128782\n",
      "2014    221.150739\n",
      "2015    114.166760\n",
      "2016    146.548658\n",
      "dtype: float64\n"
     ]
    }
   ],
   "source": [
    "print(df3.std(axis=1))"
   ]
  },
  {
   "cell_type": "code",
   "execution_count": 28,
   "id": "8a578ea7",
   "metadata": {},
   "outputs": [
    {
     "name": "stdout",
     "output_type": "stream",
     "text": [
      "               연도        고객 수\n",
      "count     5.00000    5.000000\n",
      "mean   2016.20000  220.000000\n",
      "std       0.83666   57.008771\n",
      "min    2015.00000  150.000000\n",
      "25%    2016.00000  200.000000\n",
      "50%    2016.00000  200.000000\n",
      "75%    2017.00000  250.000000\n",
      "max    2017.00000  300.000000\n"
     ]
    }
   ],
   "source": [
    "print(df.describe())  # 기본적인 통계를 보여줌"
   ]
  },
  {
   "cell_type": "code",
   "execution_count": 30,
   "id": "ceb64ef3",
   "metadata": {},
   "outputs": [
    {
     "name": "stdout",
     "output_type": "stream",
     "text": [
      "<class 'pandas.core.frame.DataFrame'>\n",
      "RangeIndex: 5 entries, 0 to 4\n",
      "Data columns (total 3 columns):\n",
      " #   Column  Non-Null Count  Dtype \n",
      "---  ------  --------------  ----- \n",
      " 0   지사      5 non-null      object\n",
      " 1   연도      5 non-null      int64 \n",
      " 2   고객 수    5 non-null      int64 \n",
      "dtypes: int64(2), object(1)\n",
      "memory usage: 248.0+ bytes\n",
      "None\n"
     ]
    }
   ],
   "source": [
    "print(df.info()) # 정보들이 다나옴"
   ]
  },
  {
   "cell_type": "code",
   "execution_count": 31,
   "id": "c822cecb",
   "metadata": {},
   "outputs": [
    {
     "name": "stdout",
     "output_type": "stream",
     "text": [
      "   지사    연도  고객 수\n",
      "0  서울  2015   200\n",
      "1  서울  2016   250\n",
      "2  부산  2016   150\n",
      "3  서울  2017   300\n",
      "4  부산  2017   200\n"
     ]
    }
   ],
   "source": [
    "print(df.head())"
   ]
  },
  {
   "cell_type": "code",
   "execution_count": 32,
   "id": "89428b96",
   "metadata": {},
   "outputs": [
    {
     "data": {
      "text/html": [
       "<div>\n",
       "<style scoped>\n",
       "    .dataframe tbody tr th:only-of-type {\n",
       "        vertical-align: middle;\n",
       "    }\n",
       "\n",
       "    .dataframe tbody tr th {\n",
       "        vertical-align: top;\n",
       "    }\n",
       "\n",
       "    .dataframe thead th {\n",
       "        text-align: right;\n",
       "    }\n",
       "</style>\n",
       "<table border=\"1\" class=\"dataframe\">\n",
       "  <thead>\n",
       "    <tr style=\"text-align: right;\">\n",
       "      <th></th>\n",
       "      <th>지사</th>\n",
       "      <th>연도</th>\n",
       "      <th>고객 수</th>\n",
       "    </tr>\n",
       "  </thead>\n",
       "  <tbody>\n",
       "    <tr>\n",
       "      <th>0</th>\n",
       "      <td>서울</td>\n",
       "      <td>2015</td>\n",
       "      <td>200</td>\n",
       "    </tr>\n",
       "    <tr>\n",
       "      <th>1</th>\n",
       "      <td>서울</td>\n",
       "      <td>2016</td>\n",
       "      <td>250</td>\n",
       "    </tr>\n",
       "    <tr>\n",
       "      <th>2</th>\n",
       "      <td>부산</td>\n",
       "      <td>2016</td>\n",
       "      <td>150</td>\n",
       "    </tr>\n",
       "    <tr>\n",
       "      <th>3</th>\n",
       "      <td>서울</td>\n",
       "      <td>2017</td>\n",
       "      <td>300</td>\n",
       "    </tr>\n",
       "    <tr>\n",
       "      <th>4</th>\n",
       "      <td>부산</td>\n",
       "      <td>2017</td>\n",
       "      <td>200</td>\n",
       "    </tr>\n",
       "  </tbody>\n",
       "</table>\n",
       "</div>"
      ],
      "text/plain": [
       "   지사    연도  고객 수\n",
       "0  서울  2015   200\n",
       "1  서울  2016   250\n",
       "2  부산  2016   150\n",
       "3  서울  2017   300\n",
       "4  부산  2017   200"
      ]
     },
     "execution_count": 32,
     "metadata": {},
     "output_type": "execute_result"
    }
   ],
   "source": [
    "df.head()"
   ]
  },
  {
   "cell_type": "code",
   "execution_count": 33,
   "id": "ab42bfd1",
   "metadata": {},
   "outputs": [
    {
     "data": {
      "text/html": [
       "<div>\n",
       "<style scoped>\n",
       "    .dataframe tbody tr th:only-of-type {\n",
       "        vertical-align: middle;\n",
       "    }\n",
       "\n",
       "    .dataframe tbody tr th {\n",
       "        vertical-align: top;\n",
       "    }\n",
       "\n",
       "    .dataframe thead th {\n",
       "        text-align: right;\n",
       "    }\n",
       "</style>\n",
       "<table border=\"1\" class=\"dataframe\">\n",
       "  <thead>\n",
       "    <tr style=\"text-align: right;\">\n",
       "      <th></th>\n",
       "      <th>지사</th>\n",
       "      <th>연도</th>\n",
       "      <th>고객 수</th>\n",
       "    </tr>\n",
       "  </thead>\n",
       "  <tbody>\n",
       "    <tr>\n",
       "      <th>0</th>\n",
       "      <td>서울</td>\n",
       "      <td>2015</td>\n",
       "      <td>200</td>\n",
       "    </tr>\n",
       "    <tr>\n",
       "      <th>1</th>\n",
       "      <td>서울</td>\n",
       "      <td>2016</td>\n",
       "      <td>250</td>\n",
       "    </tr>\n",
       "    <tr>\n",
       "      <th>2</th>\n",
       "      <td>부산</td>\n",
       "      <td>2016</td>\n",
       "      <td>150</td>\n",
       "    </tr>\n",
       "    <tr>\n",
       "      <th>3</th>\n",
       "      <td>서울</td>\n",
       "      <td>2017</td>\n",
       "      <td>300</td>\n",
       "    </tr>\n",
       "    <tr>\n",
       "      <th>4</th>\n",
       "      <td>부산</td>\n",
       "      <td>2017</td>\n",
       "      <td>200</td>\n",
       "    </tr>\n",
       "  </tbody>\n",
       "</table>\n",
       "</div>"
      ],
      "text/plain": [
       "   지사    연도  고객 수\n",
       "0  서울  2015   200\n",
       "1  서울  2016   250\n",
       "2  부산  2016   150\n",
       "3  서울  2017   300\n",
       "4  부산  2017   200"
      ]
     },
     "execution_count": 33,
     "metadata": {},
     "output_type": "execute_result"
    }
   ],
   "source": [
    "df.tail()"
   ]
  },
  {
   "cell_type": "code",
   "execution_count": 35,
   "id": "b689c9aa",
   "metadata": {},
   "outputs": [
    {
     "data": {
      "text/html": [
       "<div>\n",
       "<style scoped>\n",
       "    .dataframe tbody tr th:only-of-type {\n",
       "        vertical-align: middle;\n",
       "    }\n",
       "\n",
       "    .dataframe tbody tr th {\n",
       "        vertical-align: top;\n",
       "    }\n",
       "\n",
       "    .dataframe thead th {\n",
       "        text-align: right;\n",
       "    }\n",
       "</style>\n",
       "<table border=\"1\" class=\"dataframe\">\n",
       "  <thead>\n",
       "    <tr style=\"text-align: right;\">\n",
       "      <th></th>\n",
       "      <th>지사</th>\n",
       "      <th>연도</th>\n",
       "      <th>고객 수</th>\n",
       "    </tr>\n",
       "  </thead>\n",
       "  <tbody>\n",
       "    <tr>\n",
       "      <th>0</th>\n",
       "      <td>서울</td>\n",
       "      <td>2015</td>\n",
       "      <td>200</td>\n",
       "    </tr>\n",
       "    <tr>\n",
       "      <th>1</th>\n",
       "      <td>서울</td>\n",
       "      <td>2016</td>\n",
       "      <td>250</td>\n",
       "    </tr>\n",
       "    <tr>\n",
       "      <th>2</th>\n",
       "      <td>부산</td>\n",
       "      <td>2016</td>\n",
       "      <td>150</td>\n",
       "    </tr>\n",
       "  </tbody>\n",
       "</table>\n",
       "</div>"
      ],
      "text/plain": [
       "   지사    연도  고객 수\n",
       "0  서울  2015   200\n",
       "1  서울  2016   250\n",
       "2  부산  2016   150"
      ]
     },
     "execution_count": 35,
     "metadata": {},
     "output_type": "execute_result"
    }
   ],
   "source": [
    "df.head(3)"
   ]
  },
  {
   "cell_type": "code",
   "execution_count": 36,
   "id": "21cc1af4",
   "metadata": {},
   "outputs": [
    {
     "name": "stdout",
     "output_type": "stream",
     "text": [
      "      경부선 KTX  호남선 KTX  경전선 KTX  전라선 KTX  동해선 KTX\n",
      "2011    39060     7313     3627      309      NaN\n",
      "2012    39896     6967     4168     1771      NaN\n",
      "2013    42005     6873     4088     1954      NaN\n",
      "2014    43621     6626     4424     2244      NaN\n",
      "2015    41702     8675     4606     3146   2395.0\n",
      "2016    41266    10622     4984     3945   3786.0\n",
      "2017    32427     9228     5570     5766   6667.0\n"
     ]
    }
   ],
   "source": [
    "KTX_data = {'경부선 KTX': [39060, 39896, 42005, 43621, 41702, 41266, 32427],\n",
    "            '호남선 KTX': [7313, 6967, 6873, 6626, 8675, 10622, 9228],\n",
    "            '경전선 KTX': [3627, 4168, 4088, 4424, 4606, 4984, 5570],\n",
    "            '전라선 KTX': [309, 1771, 1954, 2244, 3146, 3945, 5766],\n",
    "            '동해선 KTX': [np.nan,np.nan, np.nan, np.nan, 2395, 3786, 6667]}\n",
    "col_list = ['경부선 KTX','호남선 KTX','경전선 KTX','전라선 KTX','동해선 KTX']\n",
    "index_list = ['2011', '2012', '2013', '2014', '2015', '2016', '2017']\n",
    "\n",
    "df_KTX = pd.DataFrame(KTX_data, columns = col_list, index = index_list)\n",
    "print(df_KTX)"
   ]
  },
  {
   "cell_type": "code",
   "execution_count": 37,
   "id": "753c5108",
   "metadata": {},
   "outputs": [
    {
     "name": "stdout",
     "output_type": "stream",
     "text": [
      "      경부선 KTX  호남선 KTX  경전선 KTX  전라선 KTX  동해선 KTX\n",
      "2012    39896     6967     4168     1771      NaN\n"
     ]
    }
   ],
   "source": [
    "print(df_KTX[1:2]) # 첨자로 찾기"
   ]
  },
  {
   "cell_type": "code",
   "execution_count": 38,
   "id": "3c5878e3",
   "metadata": {},
   "outputs": [
    {
     "name": "stdout",
     "output_type": "stream",
     "text": [
      "      경부선 KTX  호남선 KTX  경전선 KTX  전라선 KTX  동해선 KTX\n",
      "2013    42005     6873     4088     1954      NaN\n",
      "2014    43621     6626     4424     2244      NaN\n",
      "2015    41702     8675     4606     3146   2395.0\n"
     ]
    }
   ],
   "source": [
    "print(df_KTX[2:5])"
   ]
  },
  {
   "cell_type": "code",
   "execution_count": 39,
   "id": "9389a812",
   "metadata": {},
   "outputs": [
    {
     "name": "stdout",
     "output_type": "stream",
     "text": [
      "경부선 KTX    39060.0\n",
      "호남선 KTX     7313.0\n",
      "경전선 KTX     3627.0\n",
      "전라선 KTX      309.0\n",
      "동해선 KTX        NaN\n",
      "Name: 2011, dtype: float64\n"
     ]
    }
   ],
   "source": [
    "print(df_KTX.loc['2011']) # 이름을 찍접 사용할때"
   ]
  },
  {
   "cell_type": "code",
   "execution_count": 41,
   "id": "980a0e6a",
   "metadata": {},
   "outputs": [
    {
     "name": "stdout",
     "output_type": "stream",
     "text": [
      "      경부선 KTX  호남선 KTX  경전선 KTX  전라선 KTX  동해선 KTX\n",
      "2013    42005     6873     4088     1954      NaN\n",
      "2014    43621     6626     4424     2244      NaN\n",
      "2015    41702     8675     4606     3146   2395.0\n",
      "2016    41266    10622     4984     3945   3786.0\n"
     ]
    }
   ],
   "source": [
    "print(df_KTX.loc['2013':'2016']) #2016이 포함이 된다."
   ]
  },
  {
   "cell_type": "code",
   "execution_count": 42,
   "id": "ed08f176",
   "metadata": {},
   "outputs": [
    {
     "data": {
      "text/html": [
       "<div>\n",
       "<style scoped>\n",
       "    .dataframe tbody tr th:only-of-type {\n",
       "        vertical-align: middle;\n",
       "    }\n",
       "\n",
       "    .dataframe tbody tr th {\n",
       "        vertical-align: top;\n",
       "    }\n",
       "\n",
       "    .dataframe thead th {\n",
       "        text-align: right;\n",
       "    }\n",
       "</style>\n",
       "<table border=\"1\" class=\"dataframe\">\n",
       "  <thead>\n",
       "    <tr style=\"text-align: right;\">\n",
       "      <th></th>\n",
       "      <th>경부선 KTX</th>\n",
       "      <th>호남선 KTX</th>\n",
       "      <th>경전선 KTX</th>\n",
       "      <th>전라선 KTX</th>\n",
       "      <th>동해선 KTX</th>\n",
       "    </tr>\n",
       "  </thead>\n",
       "  <tbody>\n",
       "    <tr>\n",
       "      <th>2011</th>\n",
       "      <td>39060</td>\n",
       "      <td>7313</td>\n",
       "      <td>3627</td>\n",
       "      <td>309</td>\n",
       "      <td>NaN</td>\n",
       "    </tr>\n",
       "    <tr>\n",
       "      <th>2012</th>\n",
       "      <td>39896</td>\n",
       "      <td>6967</td>\n",
       "      <td>4168</td>\n",
       "      <td>1771</td>\n",
       "      <td>NaN</td>\n",
       "    </tr>\n",
       "    <tr>\n",
       "      <th>2013</th>\n",
       "      <td>42005</td>\n",
       "      <td>6873</td>\n",
       "      <td>4088</td>\n",
       "      <td>1954</td>\n",
       "      <td>NaN</td>\n",
       "    </tr>\n",
       "    <tr>\n",
       "      <th>2014</th>\n",
       "      <td>43621</td>\n",
       "      <td>6626</td>\n",
       "      <td>4424</td>\n",
       "      <td>2244</td>\n",
       "      <td>NaN</td>\n",
       "    </tr>\n",
       "    <tr>\n",
       "      <th>2015</th>\n",
       "      <td>41702</td>\n",
       "      <td>8675</td>\n",
       "      <td>4606</td>\n",
       "      <td>3146</td>\n",
       "      <td>2395.0</td>\n",
       "    </tr>\n",
       "    <tr>\n",
       "      <th>2016</th>\n",
       "      <td>41266</td>\n",
       "      <td>10622</td>\n",
       "      <td>4984</td>\n",
       "      <td>3945</td>\n",
       "      <td>3786.0</td>\n",
       "    </tr>\n",
       "    <tr>\n",
       "      <th>2017</th>\n",
       "      <td>32427</td>\n",
       "      <td>9228</td>\n",
       "      <td>5570</td>\n",
       "      <td>5766</td>\n",
       "      <td>6667.0</td>\n",
       "    </tr>\n",
       "  </tbody>\n",
       "</table>\n",
       "</div>"
      ],
      "text/plain": [
       "      경부선 KTX  호남선 KTX  경전선 KTX  전라선 KTX  동해선 KTX\n",
       "2011    39060     7313     3627      309      NaN\n",
       "2012    39896     6967     4168     1771      NaN\n",
       "2013    42005     6873     4088     1954      NaN\n",
       "2014    43621     6626     4424     2244      NaN\n",
       "2015    41702     8675     4606     3146   2395.0\n",
       "2016    41266    10622     4984     3945   3786.0\n",
       "2017    32427     9228     5570     5766   6667.0"
      ]
     },
     "execution_count": 42,
     "metadata": {},
     "output_type": "execute_result"
    }
   ],
   "source": [
    "df_KTX"
   ]
  },
  {
   "cell_type": "code",
   "execution_count": 43,
   "id": "dba71892",
   "metadata": {},
   "outputs": [
    {
     "name": "stdout",
     "output_type": "stream",
     "text": [
      "2011    39060\n",
      "2012    39896\n",
      "2013    42005\n",
      "2014    43621\n",
      "2015    41702\n",
      "2016    41266\n",
      "2017    32427\n",
      "Name: 경부선 KTX, dtype: int64\n"
     ]
    }
   ],
   "source": [
    "print(df_KTX['경부선 KTX'])"
   ]
  },
  {
   "cell_type": "code",
   "execution_count": 45,
   "id": "5cf4549f",
   "metadata": {},
   "outputs": [
    {
     "name": "stdout",
     "output_type": "stream",
     "text": [
      "2013    42005\n",
      "2014    43621\n",
      "2015    41702\n",
      "2016    41266\n",
      "Name: 경부선 KTX, dtype: int64\n"
     ]
    }
   ],
   "source": [
    "print(df_KTX['경부선 KTX']['2013':'2016'])"
   ]
  },
  {
   "cell_type": "code",
   "execution_count": 46,
   "id": "79c531c2",
   "metadata": {},
   "outputs": [
    {
     "name": "stdout",
     "output_type": "stream",
     "text": [
      "2013    42005\n",
      "2014    43621\n",
      "2015    41702\n",
      "2016    41266\n",
      "Name: 경부선 KTX, dtype: int64\n"
     ]
    }
   ],
   "source": [
    "print(df_KTX['경부선 KTX'][2:6])"
   ]
  },
  {
   "cell_type": "code",
   "execution_count": 47,
   "id": "4ff2a5cd",
   "metadata": {},
   "outputs": [
    {
     "name": "stdout",
     "output_type": "stream",
     "text": [
      "10622.0\n",
      "========================================\n",
      "10622\n",
      "========================================\n",
      "10622\n",
      "========================================\n",
      "10622\n",
      "========================================\n",
      "10622\n"
     ]
    }
   ],
   "source": [
    "print(df_KTX.loc['2016']['호남선 KTX'])\n",
    "print('='*40)\n",
    "print(df_KTX.loc['2016','호남선 KTX'])\n",
    "print('='*40)\n",
    "print(df_KTX['호남선 KTX']['2016'])\n",
    "print('='*40)\n",
    "print(df_KTX['호남선 KTX'][5])\n",
    "print('='*40)\n",
    "print(df_KTX['호남선 KTX'].loc['2016'])"
   ]
  },
  {
   "cell_type": "code",
   "execution_count": 50,
   "id": "499f4af7",
   "metadata": {},
   "outputs": [
    {
     "data": {
      "text/html": [
       "<div>\n",
       "<style scoped>\n",
       "    .dataframe tbody tr th:only-of-type {\n",
       "        vertical-align: middle;\n",
       "    }\n",
       "\n",
       "    .dataframe tbody tr th {\n",
       "        vertical-align: top;\n",
       "    }\n",
       "\n",
       "    .dataframe thead th {\n",
       "        text-align: right;\n",
       "    }\n",
       "</style>\n",
       "<table border=\"1\" class=\"dataframe\">\n",
       "  <thead>\n",
       "    <tr style=\"text-align: right;\">\n",
       "      <th></th>\n",
       "      <th>2011</th>\n",
       "      <th>2012</th>\n",
       "      <th>2013</th>\n",
       "      <th>2014</th>\n",
       "      <th>2015</th>\n",
       "      <th>2016</th>\n",
       "      <th>2017</th>\n",
       "    </tr>\n",
       "  </thead>\n",
       "  <tbody>\n",
       "    <tr>\n",
       "      <th>경부선 KTX</th>\n",
       "      <td>39060.0</td>\n",
       "      <td>39896.0</td>\n",
       "      <td>42005.0</td>\n",
       "      <td>43621.0</td>\n",
       "      <td>41702.0</td>\n",
       "      <td>41266.0</td>\n",
       "      <td>32427.0</td>\n",
       "    </tr>\n",
       "    <tr>\n",
       "      <th>호남선 KTX</th>\n",
       "      <td>7313.0</td>\n",
       "      <td>6967.0</td>\n",
       "      <td>6873.0</td>\n",
       "      <td>6626.0</td>\n",
       "      <td>8675.0</td>\n",
       "      <td>10622.0</td>\n",
       "      <td>9228.0</td>\n",
       "    </tr>\n",
       "    <tr>\n",
       "      <th>경전선 KTX</th>\n",
       "      <td>3627.0</td>\n",
       "      <td>4168.0</td>\n",
       "      <td>4088.0</td>\n",
       "      <td>4424.0</td>\n",
       "      <td>4606.0</td>\n",
       "      <td>4984.0</td>\n",
       "      <td>5570.0</td>\n",
       "    </tr>\n",
       "    <tr>\n",
       "      <th>전라선 KTX</th>\n",
       "      <td>309.0</td>\n",
       "      <td>1771.0</td>\n",
       "      <td>1954.0</td>\n",
       "      <td>2244.0</td>\n",
       "      <td>3146.0</td>\n",
       "      <td>3945.0</td>\n",
       "      <td>5766.0</td>\n",
       "    </tr>\n",
       "    <tr>\n",
       "      <th>동해선 KTX</th>\n",
       "      <td>NaN</td>\n",
       "      <td>NaN</td>\n",
       "      <td>NaN</td>\n",
       "      <td>NaN</td>\n",
       "      <td>2395.0</td>\n",
       "      <td>3786.0</td>\n",
       "      <td>6667.0</td>\n",
       "    </tr>\n",
       "  </tbody>\n",
       "</table>\n",
       "</div>"
      ],
      "text/plain": [
       "            2011     2012     2013     2014     2015     2016     2017\n",
       "경부선 KTX  39060.0  39896.0  42005.0  43621.0  41702.0  41266.0  32427.0\n",
       "호남선 KTX   7313.0   6967.0   6873.0   6626.0   8675.0  10622.0   9228.0\n",
       "경전선 KTX   3627.0   4168.0   4088.0   4424.0   4606.0   4984.0   5570.0\n",
       "전라선 KTX    309.0   1771.0   1954.0   2244.0   3146.0   3945.0   5766.0\n",
       "동해선 KTX      NaN      NaN      NaN      NaN   2395.0   3786.0   6667.0"
      ]
     },
     "execution_count": 50,
     "metadata": {},
     "output_type": "execute_result"
    }
   ],
   "source": [
    "df_KTX.T #전치 행과 열을 바꿈"
   ]
  },
  {
   "cell_type": "code",
   "execution_count": 60,
   "id": "97b8cfd7",
   "metadata": {},
   "outputs": [
    {
     "name": "stdout",
     "output_type": "stream",
     "text": [
      "   Class1  Class2\n",
      "0      95      91\n",
      "1      92      93\n",
      "2      98      97\n",
      "3     100      99\n"
     ]
    }
   ],
   "source": [
    "df1 = pd.DataFrame({'Class1': [95, 92, 98, 100],\n",
    "                    'Class2': [91, 93, 97, 99]})\n",
    "print(df1)"
   ]
  },
  {
   "cell_type": "code",
   "execution_count": 61,
   "id": "14503bd5",
   "metadata": {},
   "outputs": [
    {
     "name": "stdout",
     "output_type": "stream",
     "text": [
      "   Class1  Class2\n",
      "0      87      85\n",
      "1      89      90\n"
     ]
    }
   ],
   "source": [
    "df2 = pd.DataFrame({'Class1': [87, 89],\n",
    "                    'Class2': [85, 90]})\n",
    "\n",
    "print(df2)"
   ]
  },
  {
   "cell_type": "code",
   "execution_count": 62,
   "id": "4729760c",
   "metadata": {},
   "outputs": [
    {
     "name": "stderr",
     "output_type": "stream",
     "text": [
      "/var/folders/xf/2ksg4w5n0598m6cy2w06tnpw0000gn/T/ipykernel_55491/3020366529.py:1: FutureWarning: The frame.append method is deprecated and will be removed from pandas in a future version. Use pandas.concat instead.\n",
      "  df1.append(df2)  # 사용못함\n"
     ]
    },
    {
     "data": {
      "text/html": [
       "<div>\n",
       "<style scoped>\n",
       "    .dataframe tbody tr th:only-of-type {\n",
       "        vertical-align: middle;\n",
       "    }\n",
       "\n",
       "    .dataframe tbody tr th {\n",
       "        vertical-align: top;\n",
       "    }\n",
       "\n",
       "    .dataframe thead th {\n",
       "        text-align: right;\n",
       "    }\n",
       "</style>\n",
       "<table border=\"1\" class=\"dataframe\">\n",
       "  <thead>\n",
       "    <tr style=\"text-align: right;\">\n",
       "      <th></th>\n",
       "      <th>Class1</th>\n",
       "      <th>Class2</th>\n",
       "    </tr>\n",
       "  </thead>\n",
       "  <tbody>\n",
       "    <tr>\n",
       "      <th>0</th>\n",
       "      <td>95</td>\n",
       "      <td>91</td>\n",
       "    </tr>\n",
       "    <tr>\n",
       "      <th>1</th>\n",
       "      <td>92</td>\n",
       "      <td>93</td>\n",
       "    </tr>\n",
       "    <tr>\n",
       "      <th>2</th>\n",
       "      <td>98</td>\n",
       "      <td>97</td>\n",
       "    </tr>\n",
       "    <tr>\n",
       "      <th>3</th>\n",
       "      <td>100</td>\n",
       "      <td>99</td>\n",
       "    </tr>\n",
       "    <tr>\n",
       "      <th>0</th>\n",
       "      <td>87</td>\n",
       "      <td>85</td>\n",
       "    </tr>\n",
       "    <tr>\n",
       "      <th>1</th>\n",
       "      <td>89</td>\n",
       "      <td>90</td>\n",
       "    </tr>\n",
       "  </tbody>\n",
       "</table>\n",
       "</div>"
      ],
      "text/plain": [
       "   Class1  Class2\n",
       "0      95      91\n",
       "1      92      93\n",
       "2      98      97\n",
       "3     100      99\n",
       "0      87      85\n",
       "1      89      90"
      ]
     },
     "execution_count": 62,
     "metadata": {},
     "output_type": "execute_result"
    }
   ],
   "source": [
    "df1.append(df2)  # 사용못함"
   ]
  },
  {
   "cell_type": "code",
   "execution_count": 63,
   "id": "691e56b8",
   "metadata": {},
   "outputs": [
    {
     "data": {
      "text/html": [
       "<div>\n",
       "<style scoped>\n",
       "    .dataframe tbody tr th:only-of-type {\n",
       "        vertical-align: middle;\n",
       "    }\n",
       "\n",
       "    .dataframe tbody tr th {\n",
       "        vertical-align: top;\n",
       "    }\n",
       "\n",
       "    .dataframe thead th {\n",
       "        text-align: right;\n",
       "    }\n",
       "</style>\n",
       "<table border=\"1\" class=\"dataframe\">\n",
       "  <thead>\n",
       "    <tr style=\"text-align: right;\">\n",
       "      <th></th>\n",
       "      <th>Class1</th>\n",
       "      <th>Class2</th>\n",
       "    </tr>\n",
       "  </thead>\n",
       "  <tbody>\n",
       "    <tr>\n",
       "      <th>0</th>\n",
       "      <td>95</td>\n",
       "      <td>91</td>\n",
       "    </tr>\n",
       "    <tr>\n",
       "      <th>1</th>\n",
       "      <td>92</td>\n",
       "      <td>93</td>\n",
       "    </tr>\n",
       "    <tr>\n",
       "      <th>2</th>\n",
       "      <td>98</td>\n",
       "      <td>97</td>\n",
       "    </tr>\n",
       "    <tr>\n",
       "      <th>3</th>\n",
       "      <td>100</td>\n",
       "      <td>99</td>\n",
       "    </tr>\n",
       "    <tr>\n",
       "      <th>0</th>\n",
       "      <td>87</td>\n",
       "      <td>85</td>\n",
       "    </tr>\n",
       "    <tr>\n",
       "      <th>1</th>\n",
       "      <td>89</td>\n",
       "      <td>90</td>\n",
       "    </tr>\n",
       "  </tbody>\n",
       "</table>\n",
       "</div>"
      ],
      "text/plain": [
       "   Class1  Class2\n",
       "0      95      91\n",
       "1      92      93\n",
       "2      98      97\n",
       "3     100      99\n",
       "0      87      85\n",
       "1      89      90"
      ]
     },
     "execution_count": 63,
     "metadata": {},
     "output_type": "execute_result"
    }
   ],
   "source": [
    "pd.concat([df1,df2])"
   ]
  },
  {
   "cell_type": "code",
   "execution_count": 65,
   "id": "40bcd308",
   "metadata": {},
   "outputs": [
    {
     "data": {
      "text/html": [
       "<div>\n",
       "<style scoped>\n",
       "    .dataframe tbody tr th:only-of-type {\n",
       "        vertical-align: middle;\n",
       "    }\n",
       "\n",
       "    .dataframe tbody tr th {\n",
       "        vertical-align: top;\n",
       "    }\n",
       "\n",
       "    .dataframe thead th {\n",
       "        text-align: right;\n",
       "    }\n",
       "</style>\n",
       "<table border=\"1\" class=\"dataframe\">\n",
       "  <thead>\n",
       "    <tr style=\"text-align: right;\">\n",
       "      <th></th>\n",
       "      <th>Class1</th>\n",
       "      <th>Class2</th>\n",
       "    </tr>\n",
       "  </thead>\n",
       "  <tbody>\n",
       "    <tr>\n",
       "      <th>0</th>\n",
       "      <td>95</td>\n",
       "      <td>91</td>\n",
       "    </tr>\n",
       "    <tr>\n",
       "      <th>1</th>\n",
       "      <td>92</td>\n",
       "      <td>93</td>\n",
       "    </tr>\n",
       "    <tr>\n",
       "      <th>2</th>\n",
       "      <td>98</td>\n",
       "      <td>97</td>\n",
       "    </tr>\n",
       "    <tr>\n",
       "      <th>3</th>\n",
       "      <td>100</td>\n",
       "      <td>99</td>\n",
       "    </tr>\n",
       "    <tr>\n",
       "      <th>4</th>\n",
       "      <td>87</td>\n",
       "      <td>85</td>\n",
       "    </tr>\n",
       "    <tr>\n",
       "      <th>5</th>\n",
       "      <td>89</td>\n",
       "      <td>90</td>\n",
       "    </tr>\n",
       "  </tbody>\n",
       "</table>\n",
       "</div>"
      ],
      "text/plain": [
       "   Class1  Class2\n",
       "0      95      91\n",
       "1      92      93\n",
       "2      98      97\n",
       "3     100      99\n",
       "4      87      85\n",
       "5      89      90"
      ]
     },
     "execution_count": 65,
     "metadata": {},
     "output_type": "execute_result"
    }
   ],
   "source": [
    "pd.concat([df1,df2], ignore_index = True) ##ignore_index 창이면 기존에 인덱스 무시해라"
   ]
  },
  {
   "cell_type": "code",
   "execution_count": 67,
   "id": "d359358f",
   "metadata": {},
   "outputs": [
    {
     "name": "stdout",
     "output_type": "stream",
     "text": [
      "   Class1\n",
      "0      96\n",
      "1      83\n"
     ]
    }
   ],
   "source": [
    "df3 = pd.DataFrame({'Class1': [96, 83]})\n",
    "print(df3)"
   ]
  },
  {
   "cell_type": "code",
   "execution_count": 68,
   "id": "e78a82ef",
   "metadata": {},
   "outputs": [
    {
     "name": "stdout",
     "output_type": "stream",
     "text": [
      "   Class1  Class2\n",
      "0      87    85.0\n",
      "1      89    90.0\n",
      "2      96     NaN\n",
      "3      83     NaN\n"
     ]
    }
   ],
   "source": [
    "print(pd.concat([df2, df3], ignore_index=True))"
   ]
  },
  {
   "cell_type": "code",
   "execution_count": 69,
   "id": "d055084d",
   "metadata": {},
   "outputs": [
    {
     "name": "stdout",
     "output_type": "stream",
     "text": [
      "   Class3\n",
      "0      93\n",
      "1      91\n",
      "2      95\n",
      "3      98\n"
     ]
    }
   ],
   "source": [
    "df4 = pd.DataFrame({'Class3': [93, 91, 95, 98]})\n",
    "print(df4)"
   ]
  },
  {
   "cell_type": "code",
   "execution_count": 71,
   "id": "1d0043aa",
   "metadata": {},
   "outputs": [
    {
     "name": "stdout",
     "output_type": "stream",
     "text": [
      "   Class1  Class2  Class3\n",
      "0      95      91      93\n",
      "1      92      93      91\n",
      "2      98      97      95\n",
      "3     100      99      98\n"
     ]
    }
   ],
   "source": [
    "print(df1.join(df4)) #옆으로 붙이기, index기준으로 붙임"
   ]
  },
  {
   "cell_type": "code",
   "execution_count": 72,
   "id": "b1d80038",
   "metadata": {},
   "outputs": [
    {
     "name": "stdout",
     "output_type": "stream",
     "text": [
      "   Class1  Class2  Class3\n",
      "a      95      91      93\n",
      "b      92      93      91\n",
      "c      98      97      95\n",
      "d     100      99      98\n"
     ]
    }
   ],
   "source": [
    "index_label = ['a','b','c','d']\n",
    "df1a = pd.DataFrame({'Class1': [95, 92, 98, 100],\n",
    "                    'Class2': [91, 93, 97, 99]}, index= index_label)\n",
    "df4a = pd.DataFrame({'Class3': [93, 91, 95, 98]}, index=index_label)\n",
    "\n",
    "print(df1a.join(df4a))"
   ]
  },
  {
   "cell_type": "code",
   "execution_count": 73,
   "id": "45e8afde",
   "metadata": {},
   "outputs": [
    {
     "name": "stdout",
     "output_type": "stream",
     "text": [
      "   Class1  Class2  Class4\n",
      "0      95      91    82.0\n",
      "1      92      93    92.0\n",
      "2      98      97     NaN\n",
      "3     100      99     NaN\n"
     ]
    }
   ],
   "source": [
    "df5 = pd.DataFrame({'Class4': [82, 92]})\n",
    "print(df1.join(df5))"
   ]
  },
  {
   "cell_type": "code",
   "execution_count": 74,
   "id": "8df8a1a0",
   "metadata": {},
   "outputs": [
    {
     "name": "stdout",
     "output_type": "stream",
     "text": [
      "  판매월  제품A  제품B\n",
      "0  1월  100   90\n",
      "1  2월  150  110\n",
      "2  3월  200  140\n",
      "3  4월  130  170\n"
     ]
    }
   ],
   "source": [
    "df_A_B = pd.DataFrame({'판매월': ['1월', '2월', '3월', '4월'],\n",
    "                       '제품A': [100, 150, 200, 130],\n",
    "                       '제품B': [90, 110, 140, 170]})\n",
    "print(df_A_B)"
   ]
  },
  {
   "cell_type": "code",
   "execution_count": 75,
   "id": "007ee8b1",
   "metadata": {},
   "outputs": [
    {
     "name": "stdout",
     "output_type": "stream",
     "text": [
      "  판매월  제품C  제품D\n",
      "0  1월  112   90\n",
      "1  2월  141  110\n",
      "2  3월  203  140\n",
      "3  4월  134  170\n"
     ]
    }
   ],
   "source": [
    "df_C_D = pd.DataFrame({'판매월': ['1월', '2월', '3월', '4월'],\n",
    "                       '제품C': [112, 141, 203, 134],\n",
    "                       '제품D': [90, 110, 140, 170]})\n",
    "print(df_C_D)"
   ]
  },
  {
   "cell_type": "code",
   "execution_count": 77,
   "id": "83797603",
   "metadata": {},
   "outputs": [
    {
     "name": "stdout",
     "output_type": "stream",
     "text": [
      "  판매월  제품A  제품B  제품C  제품D\n",
      "0  1월  100   90  112   90\n",
      "1  2월  150  110  141  110\n",
      "2  3월  200  140  203  140\n",
      "3  4월  130  170  134  170\n"
     ]
    }
   ],
   "source": [
    "print(df_A_B.merge(df_C_D)) #merge 동일 한 컬럼 기준으로 붙임"
   ]
  },
  {
   "cell_type": "code",
   "execution_count": 78,
   "id": "595f5eb1",
   "metadata": {},
   "outputs": [
    {
     "name": "stdout",
     "output_type": "stream",
     "text": [
      "  key  left\n",
      "0   A     1\n",
      "1   B     2\n",
      "2   C     3\n",
      "========================================\n",
      "  key  right\n",
      "0   A      4\n",
      "1   B      5\n",
      "2   D      6\n"
     ]
    }
   ],
   "source": [
    "df_left = pd.DataFrame({'key':['A','B','C'], 'left': [1, 2, 3]})\n",
    "print(df_left)\n",
    "print('='*40)\n",
    "df_right = pd.DataFrame({'key':['A','B','D'], 'right': [4, 5, 6]})\n",
    "print(df_right)"
   ]
  },
  {
   "cell_type": "code",
   "execution_count": 79,
   "id": "d52ca6c8",
   "metadata": {},
   "outputs": [
    {
     "name": "stdout",
     "output_type": "stream",
     "text": [
      "  key  left  right\n",
      "0   A     1    4.0\n",
      "1   B     2    5.0\n",
      "2   C     3    NaN\n"
     ]
    }
   ],
   "source": [
    "print(df_left.merge(df_right, how='left', on = 'key')) #왼쪽기준"
   ]
  },
  {
   "cell_type": "code",
   "execution_count": 80,
   "id": "205f184f",
   "metadata": {},
   "outputs": [
    {
     "name": "stdout",
     "output_type": "stream",
     "text": [
      "  key  left  right\n",
      "0   A   1.0      4\n",
      "1   B   2.0      5\n",
      "2   D   NaN      6\n"
     ]
    }
   ],
   "source": [
    "print(df_left.merge(df_right, how='right', on = 'key')) #오른쪽기준"
   ]
  },
  {
   "cell_type": "code",
   "execution_count": 81,
   "id": "bb1a84b6",
   "metadata": {},
   "outputs": [
    {
     "name": "stdout",
     "output_type": "stream",
     "text": [
      "  key  left  right\n",
      "0   A   1.0    4.0\n",
      "1   B   2.0    5.0\n",
      "2   C   3.0    NaN\n",
      "3   D   NaN    6.0\n"
     ]
    }
   ],
   "source": [
    "print(df_left.merge(df_right, how='outer', on = 'key')) #양쪽다"
   ]
  },
  {
   "cell_type": "code",
   "execution_count": 83,
   "id": "d7ae7bdf",
   "metadata": {},
   "outputs": [
    {
     "name": "stdout",
     "output_type": "stream",
     "text": [
      "  key  left  right\n",
      "0   A     1      4\n",
      "1   B     2      5\n"
     ]
    }
   ],
   "source": [
    "print(df_left.merge(df_right, how='inner', on = 'key')) #겹치는 값만"
   ]
  },
  {
   "cell_type": "code",
   "execution_count": 84,
   "id": "4127660a",
   "metadata": {},
   "outputs": [
    {
     "name": "stdout",
     "output_type": "stream",
     "text": [
      "   지사    연도  고객 수\n",
      "0  서울  2015   200\n",
      "1  서울  2016   250\n",
      "2  부산  2016   150\n",
      "3  서울  2017   300\n",
      "4  부산  2017   200\n"
     ]
    }
   ],
   "source": [
    "data = {'연도': [2015, 2016, 2016, 2017, 2017], \n",
    "'지사': ['서울', '서울', '부산', '서울', '부산'],\n",
    "    '고객 수': [200, 250, 150, 300, 200]}\n",
    "df = pd.DataFrame(data, columns=['지사','연도', '고객 수'])\n",
    "print(df)"
   ]
  },
  {
   "cell_type": "code",
   "execution_count": 87,
   "id": "f70638e0",
   "metadata": {},
   "outputs": [
    {
     "name": "stdout",
     "output_type": "stream",
     "text": [
      "   지사    연도  고객 수\n",
      "0  서울  2015   200\n",
      "1  서울  2016   250\n",
      "2  부산  2016   150\n",
      "3  서울  2017   300\n",
      "4  부산  2017   200\n",
      "5  대전  2018   500\n"
     ]
    },
    {
     "name": "stderr",
     "output_type": "stream",
     "text": [
      "/var/folders/xf/2ksg4w5n0598m6cy2w06tnpw0000gn/T/ipykernel_55491/2796316203.py:3: FutureWarning: The frame.append method is deprecated and will be removed from pandas in a future version. Use pandas.concat instead.\n",
      "  df = df.append(pd.Series(row, index=df.columns), ignore_index=True)\n"
     ]
    }
   ],
   "source": [
    "#row 추가 방법\n",
    "row = ['대전', 2018, 500]\n",
    "df = df.append(pd.Series(row, index=df.columns), ignore_index=True)\n",
    "print(df)"
   ]
  },
  {
   "cell_type": "markdown",
   "id": "04a5ba9c",
   "metadata": {},
   "source": [
    "### csv(comma separated values)"
   ]
  },
  {
   "cell_type": "code",
   "execution_count": 108,
   "id": "cd5826b5",
   "metadata": {},
   "outputs": [],
   "source": [
    "df = pd.read_csv('data/sea_rain.csv')  #자체를 utf8로 만들거나 판다스에서 utf8로 변경"
   ]
  },
  {
   "cell_type": "code",
   "execution_count": 92,
   "id": "ed8d94ec",
   "metadata": {},
   "outputs": [],
   "source": [
    "df = pd.read_csv('data/sea_rain.csv', encoding='cp949')"
   ]
  },
  {
   "cell_type": "code",
   "execution_count": 109,
   "id": "b1549595",
   "metadata": {},
   "outputs": [
    {
     "name": "stdout",
     "output_type": "stream",
     "text": [
      "     연도       동해       남해       서해       전체\n",
      "0  1996  17.4629  17.2288  14.4360  15.9067\n",
      "1  1997  17.4116  17.4092  14.8248  16.1526\n",
      "2  1998  17.5944  18.0110  15.2512  16.6044\n",
      "3  1999  18.1495  18.3175  14.8979  16.6284\n",
      "4  2000  17.9288  18.1766  15.0504  16.6178\n"
     ]
    }
   ],
   "source": [
    "print(df)"
   ]
  },
  {
   "cell_type": "code",
   "execution_count": 110,
   "id": "85c4e201",
   "metadata": {},
   "outputs": [
    {
     "name": "stdout",
     "output_type": "stream",
     "text": [
      "     연도       동해       남해       서해       전체\n",
      "0  1996  17.4629  17.2288  14.4360  15.9067\n",
      "1  1997  17.4116  17.4092  14.8248  16.1526\n",
      "2  1998  17.5944  18.0110  15.2512  16.6044\n",
      "3  1999  18.1495  18.3175  14.8979  16.6284\n",
      "4  2000  17.9288  18.1766  15.0504  16.6178\n"
     ]
    }
   ],
   "source": [
    "temp = pd.read_csv('data/sea_rain2.csv',sep=' ')\n",
    "print(temp)"
   ]
  },
  {
   "cell_type": "code",
   "execution_count": 111,
   "id": "b24a63ad",
   "metadata": {},
   "outputs": [
    {
     "name": "stdout",
     "output_type": "stream",
     "text": [
      "           동해       남해       서해       전체\n",
      "연도                                      \n",
      "1996  17.4629  17.2288  14.4360  15.9067\n",
      "1997  17.4116  17.4092  14.8248  16.1526\n",
      "1998  17.5944  18.0110  15.2512  16.6044\n",
      "1999  18.1495  18.3175  14.8979  16.6284\n",
      "2000  17.9288  18.1766  15.0504  16.6178\n"
     ]
    }
   ],
   "source": [
    "temp = pd.read_csv('data/sea_rain2.csv',sep=' ',index_col='연도')\n",
    "print(temp)"
   ]
  },
  {
   "cell_type": "code",
   "execution_count": 112,
   "id": "5f004aed",
   "metadata": {},
   "outputs": [
    {
     "name": "stdout",
     "output_type": "stream",
     "text": [
      "      Weight  Height\n",
      "User                \n",
      "ID_1      62     165\n",
      "ID_2      67     177\n",
      "ID_3      55     160\n",
      "ID_4      74     180\n"
     ]
    }
   ],
   "source": [
    "df_WH = pd.DataFrame({'Weight':[62, 67, 55, 74],\n",
    "                      'Height':[165, 177, 160, 180]},\n",
    "                       index=['ID_1', 'ID_2', 'ID_3', 'ID_4'])\n",
    "df_WH.index.name = 'User'\n",
    "print(df_WH)"
   ]
  },
  {
   "cell_type": "code",
   "execution_count": 113,
   "id": "cb648c66",
   "metadata": {},
   "outputs": [],
   "source": [
    "bmi = df_WH['Weight']/(df_WH['Height']/100)**2"
   ]
  },
  {
   "cell_type": "code",
   "execution_count": 116,
   "id": "05384a0b",
   "metadata": {},
   "outputs": [],
   "source": [
    "df_WH['BMI'] = bmi  #컬럼 이름 주고 "
   ]
  },
  {
   "cell_type": "code",
   "execution_count": 117,
   "id": "0ea61fa9",
   "metadata": {},
   "outputs": [
    {
     "name": "stdout",
     "output_type": "stream",
     "text": [
      "      Weight  Height        BMI\n",
      "User                           \n",
      "ID_1      62     165  22.773186\n",
      "ID_2      67     177  21.385936\n",
      "ID_3      55     160  21.484375\n",
      "ID_4      74     180  22.839506\n"
     ]
    }
   ],
   "source": [
    "print(df_WH)"
   ]
  },
  {
   "cell_type": "code",
   "execution_count": 118,
   "id": "0da1d6bc",
   "metadata": {},
   "outputs": [],
   "source": [
    "df_WH.to_csv('data/bmi.csv')"
   ]
  },
  {
   "cell_type": "code",
   "execution_count": 120,
   "id": "7eaa953a",
   "metadata": {},
   "outputs": [],
   "source": [
    "df_WH.to_csv('data/bmi.csv', sep='/')"
   ]
  },
  {
   "cell_type": "code",
   "execution_count": null,
   "id": "759563d9",
   "metadata": {},
   "outputs": [],
   "source": []
  }
 ],
 "metadata": {
  "kernelspec": {
   "display_name": "Python 3 (ipykernel)",
   "language": "python",
   "name": "python3"
  },
  "language_info": {
   "codemirror_mode": {
    "name": "ipython",
    "version": 3
   },
   "file_extension": ".py",
   "mimetype": "text/x-python",
   "name": "python",
   "nbconvert_exporter": "python",
   "pygments_lexer": "ipython3",
   "version": "3.9.16"
  }
 },
 "nbformat": 4,
 "nbformat_minor": 5
}
