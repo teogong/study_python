{
 "cells": [
  {
   "cell_type": "code",
   "execution_count": 3,
   "id": "086dbbb1",
   "metadata": {},
   "outputs": [],
   "source": [
    "def double_func(x):\n",
    "    return x*2"
   ]
  },
  {
   "cell_type": "code",
   "execution_count": 4,
   "id": "0518a640",
   "metadata": {},
   "outputs": [
    {
     "name": "stdout",
     "output_type": "stream",
     "text": [
      "6\n"
     ]
    }
   ],
   "source": [
    "print(double_func(3))"
   ]
  },
  {
   "cell_type": "code",
   "execution_count": 5,
   "id": "bdda53a0",
   "metadata": {},
   "outputs": [
    {
     "name": "stdout",
     "output_type": "stream",
     "text": [
      "<function double_func at 0x7fd72f0b4940>\n",
      "<function double_func at 0x7fd72f0b4940>\n"
     ]
    }
   ],
   "source": [
    "a = double_func\n",
    "print(double_func) #함수를 넘겨줄수도 있고\n",
    "print(a)"
   ]
  },
  {
   "cell_type": "code",
   "execution_count": 6,
   "id": "7aa8b100",
   "metadata": {},
   "outputs": [
    {
     "name": "stdout",
     "output_type": "stream",
     "text": [
      "20\n"
     ]
    }
   ],
   "source": [
    "print(a(10))"
   ]
  },
  {
   "cell_type": "code",
   "execution_count": 10,
   "id": "fa74d3e2",
   "metadata": {},
   "outputs": [],
   "source": [
    "def make_double_list(func,args):\n",
    "    result = []\n",
    "    for i in args:\n",
    "        result.append(func(i))  #함수를 파라미터로 넘겨줄 수도 있다.\n",
    "        \n",
    "    return result"
   ]
  },
  {
   "cell_type": "code",
   "execution_count": 9,
   "id": "439543e3",
   "metadata": {},
   "outputs": [
    {
     "name": "stdout",
     "output_type": "stream",
     "text": [
      "[2, 4, 6, 8, 10]\n"
     ]
    }
   ],
   "source": [
    "input_list  = [ 1,2,3,4,5]\n",
    "double_list = make_double_list(double_func,input_list)\n",
    "print(double_list)"
   ]
  },
  {
   "cell_type": "code",
   "execution_count": 11,
   "id": "a637be1b",
   "metadata": {},
   "outputs": [],
   "source": [
    "def square(x):\n",
    "    return x * x\n",
    "\n",
    "def reflect(x):\n",
    "    return -x"
   ]
  },
  {
   "cell_type": "code",
   "execution_count": 12,
   "id": "a5f96c14",
   "metadata": {},
   "outputs": [
    {
     "name": "stdout",
     "output_type": "stream",
     "text": [
      "[1, 4, 9, 16, 25]\n",
      "[-1, -2, -3, -4, -5]\n"
     ]
    }
   ],
   "source": [
    "square = make_double_list(square,input_list)\n",
    "reflect = make_double_list(reflect,input_list)\n",
    "print(square)\n",
    "print(reflect)"
   ]
  },
  {
   "cell_type": "code",
   "execution_count": 15,
   "id": "df2270b5",
   "metadata": {},
   "outputs": [
    {
     "name": "stdout",
     "output_type": "stream",
     "text": [
      "Hello World\n"
     ]
    }
   ],
   "source": [
    "print('Hello ', end='') # 디폴트 값 end='\\n'\n",
    "print('World')"
   ]
  },
  {
   "cell_type": "code",
   "execution_count": 26,
   "id": "0f09946f",
   "metadata": {},
   "outputs": [],
   "source": [
    "import time\n",
    "def log_formatter(msg):\n",
    "    def log_message():\n",
    "        time_str = time.strftime('%c', time.localtime(time.time()))\n",
    "        print(time_str, end='')\n",
    "        print(' ===> ', end='')\n",
    "        print(msg) \n",
    "        \n",
    "    return log_message\n",
    "# 함수도 리턴이 가능하다."
   ]
  },
  {
   "cell_type": "code",
   "execution_count": 27,
   "id": "5038d718",
   "metadata": {},
   "outputs": [
    {
     "name": "stdout",
     "output_type": "stream",
     "text": [
      "<function log_formatter.<locals>.log_message at 0x7fd72ff5d280>\n"
     ]
    }
   ],
   "source": [
    "log_msg = log_formatter('test log')\n",
    "print(log_msg) #함수를 리턴 해줌"
   ]
  },
  {
   "cell_type": "markdown",
   "id": "ddc58340",
   "metadata": {},
   "source": [
    "● 종료된 이후에도 참조가 가능? log_message 를 클로저(closure) 라 함  \n",
    "● 클로저는 다른 함수의 지역변수값을 그 함수가 종료된 후에도 기억"
   ]
  },
  {
   "cell_type": "code",
   "execution_count": 30,
   "id": "171de08f",
   "metadata": {},
   "outputs": [
    {
     "name": "stdout",
     "output_type": "stream",
     "text": [
      "Fri Feb 24 14:41:20 2023 ===> test log\n"
     ]
    }
   ],
   "source": [
    "log_msg()"
   ]
  },
  {
   "cell_type": "code",
   "execution_count": 31,
   "id": "64d780dc",
   "metadata": {},
   "outputs": [
    {
     "ename": "NameError",
     "evalue": "name 'log_formatter' is not defined",
     "output_type": "error",
     "traceback": [
      "\u001b[0;31m---------------------------------------------------------------------------\u001b[0m",
      "\u001b[0;31mNameError\u001b[0m                                 Traceback (most recent call last)",
      "Cell \u001b[0;32mIn[31], line 1\u001b[0m\n\u001b[0;32m----> 1\u001b[0m \u001b[38;5;28;01mdel\u001b[39;00m log_formatter\n",
      "\u001b[0;31mNameError\u001b[0m: name 'log_formatter' is not defined"
     ]
    }
   ],
   "source": [
    "del log_formatter"
   ]
  },
  {
   "cell_type": "code",
   "execution_count": 32,
   "id": "a110c603",
   "metadata": {},
   "outputs": [
    {
     "ename": "NameError",
     "evalue": "name 'log_formatter' is not defined",
     "output_type": "error",
     "traceback": [
      "\u001b[0;31m---------------------------------------------------------------------------\u001b[0m",
      "\u001b[0;31mNameError\u001b[0m                                 Traceback (most recent call last)",
      "Cell \u001b[0;32mIn[32], line 1\u001b[0m\n\u001b[0;32m----> 1\u001b[0m \u001b[38;5;28mprint\u001b[39m(\u001b[43mlog_formatter\u001b[49m)\n",
      "\u001b[0;31mNameError\u001b[0m: name 'log_formatter' is not defined"
     ]
    }
   ],
   "source": [
    "print(log_formatter)"
   ]
  },
  {
   "cell_type": "code",
   "execution_count": 34,
   "id": "c32234ae",
   "metadata": {},
   "outputs": [
    {
     "name": "stdout",
     "output_type": "stream",
     "text": [
      "Fri Feb 24 14:43:11 2023 ===> test log\n"
     ]
    }
   ],
   "source": [
    "log_msg()   # closure 이다"
   ]
  },
  {
   "cell_type": "markdown",
   "id": "775d4c87",
   "metadata": {},
   "source": [
    "### Closure  \n",
    "● first class function을 지원하는 언어의 네임 바인딩 기술  \n",
    "● 어떤 함수를 함수 자신이 가지고 있는 환경과 함께 저장한 레코드  \n",
    "● 함수가 가진 프리변수(free variable)를 클로저가 만들어지는 당시의 값과 레퍼런스에 매핑하는 역할  \n",
    "● 자신의 영역 밖에서 호출된 함수의 변수값과 레퍼런스를 복사하고 저장  \n",
    "  \n",
    "** free variable  \n",
    "코드블럭 안에서 사용은 되지만 그 코드블럭안에서 정의되지 않은 변수  "
   ]
  },
  {
   "cell_type": "code",
   "execution_count": 37,
   "id": "e7cc9692",
   "metadata": {},
   "outputs": [],
   "source": [
    "def outer_func():\n",
    "    msg = 'Good Morning!'\n",
    "    \n",
    "    def inner_func():\n",
    "        print(msg)\n",
    "    return inner_func() # return 함수() ==> 실행, return 함수 ==> 실행X"
   ]
  },
  {
   "cell_type": "code",
   "execution_count": 36,
   "id": "fb168eda",
   "metadata": {},
   "outputs": [
    {
     "name": "stdout",
     "output_type": "stream",
     "text": [
      "Good Morning!\n"
     ]
    }
   ],
   "source": [
    "outer_func()"
   ]
  },
  {
   "cell_type": "code",
   "execution_count": 38,
   "id": "3d657270",
   "metadata": {},
   "outputs": [],
   "source": [
    "def outer_func():\n",
    "    msg = 'Good Morning!'\n",
    "    \n",
    "    def inner_func():\n",
    "        print(msg)\n",
    "    return inner_func"
   ]
  },
  {
   "cell_type": "code",
   "execution_count": 40,
   "id": "b9e18a9c",
   "metadata": {},
   "outputs": [
    {
     "name": "stdout",
     "output_type": "stream",
     "text": [
      "Good Morning!\n"
     ]
    }
   ],
   "source": [
    "func = outer_func()\n",
    "func()"
   ]
  },
  {
   "cell_type": "code",
   "execution_count": 49,
   "id": "91f0242e",
   "metadata": {},
   "outputs": [
    {
     "name": "stdout",
     "output_type": "stream",
     "text": [
      "['__annotations__', '__call__', '__class__', '__closure__', '__code__', '__defaults__', '__delattr__', '__dict__', '__dir__', '__doc__', '__eq__', '__format__', '__ge__', '__get__', '__getattribute__', '__globals__', '__gt__', '__hash__', '__init__', '__init_subclass__', '__kwdefaults__', '__le__', '__lt__', '__module__', '__name__', '__ne__', '__new__', '__qualname__', '__reduce__', '__reduce_ex__', '__repr__', '__setattr__', '__sizeof__', '__str__', '__subclasshook__']\n"
     ]
    }
   ],
   "source": [
    "print(dir(func)) ##dir()변수나 메소드를 보여준다, closure를 내부에 뭐가 있나 보자"
   ]
  },
  {
   "cell_type": "code",
   "execution_count": 43,
   "id": "a99b68d9",
   "metadata": {},
   "outputs": [
    {
     "name": "stdout",
     "output_type": "stream",
     "text": [
      "<class 'tuple'>\n"
     ]
    }
   ],
   "source": [
    "print(type(func.__closure__)) # 튜플"
   ]
  },
  {
   "cell_type": "code",
   "execution_count": 44,
   "id": "8f583110",
   "metadata": {},
   "outputs": [
    {
     "name": "stdout",
     "output_type": "stream",
     "text": [
      "(<cell at 0x7fd72f5667c0: str object at 0x7fd72ffa2b30>,)\n"
     ]
    }
   ],
   "source": [
    "print(func.__closure__) #첫번째 항목만 있는 튜플"
   ]
  },
  {
   "cell_type": "code",
   "execution_count": 45,
   "id": "a176994f",
   "metadata": {},
   "outputs": [
    {
     "name": "stdout",
     "output_type": "stream",
     "text": [
      "<cell at 0x7fd72f5667c0: str object at 0x7fd72ffa2b30>\n"
     ]
    }
   ],
   "source": [
    "print(func.__closure__[0])"
   ]
  },
  {
   "cell_type": "code",
   "execution_count": 47,
   "id": "aaffb7ed",
   "metadata": {},
   "outputs": [
    {
     "name": "stdout",
     "output_type": "stream",
     "text": [
      "['__class__', '__delattr__', '__dir__', '__doc__', '__eq__', '__format__', '__ge__', '__getattribute__', '__gt__', '__hash__', '__init__', '__init_subclass__', '__le__', '__lt__', '__ne__', '__new__', '__reduce__', '__reduce_ex__', '__repr__', '__setattr__', '__sizeof__', '__str__', '__subclasshook__', 'cell_contents']\n"
     ]
    }
   ],
   "source": [
    "print(dir(func.__closure__[0]))"
   ]
  },
  {
   "cell_type": "code",
   "execution_count": 48,
   "id": "3a6b346a",
   "metadata": {},
   "outputs": [
    {
     "name": "stdout",
     "output_type": "stream",
     "text": [
      "Good Morning!\n"
     ]
    }
   ],
   "source": [
    "print(func.__closure__[0].cell_contents)"
   ]
  },
  {
   "cell_type": "markdown",
   "id": "5368baea",
   "metadata": {},
   "source": [
    "### Decorator"
   ]
  },
  {
   "cell_type": "code",
   "execution_count": 169,
   "id": "ea033250",
   "metadata": {},
   "outputs": [],
   "source": [
    "import time"
   ]
  },
  {
   "cell_type": "code",
   "execution_count": 50,
   "id": "ddf2e316",
   "metadata": {},
   "outputs": [],
   "source": [
    "def log_formatter(msg):\n",
    "    def log_message():\n",
    "        time_str = time.strftime('%c', time.localtime(time.time()))\n",
    "        print(time_str, end='')\n",
    "        print(' ===> ', end='')\n",
    "        print(msg) \n",
    "        \n",
    "    return log_message"
   ]
  },
  {
   "cell_type": "code",
   "execution_count": 56,
   "id": "20a0860a",
   "metadata": {},
   "outputs": [],
   "source": [
    "test_log_msg = log_formatter('test log')\n",
    "runtime_log_msg = log_formatter('runtime log')"
   ]
  },
  {
   "cell_type": "code",
   "execution_count": 57,
   "id": "4a04a71f",
   "metadata": {},
   "outputs": [
    {
     "name": "stdout",
     "output_type": "stream",
     "text": [
      "Fri Feb 24 15:15:37 2023 ===> test log\n",
      "Fri Feb 24 15:15:37 2023 ===> runtime log\n"
     ]
    }
   ],
   "source": [
    "test_log_msg()\n",
    "runtime_log_msg()"
   ]
  },
  {
   "cell_type": "code",
   "execution_count": 58,
   "id": "5fe79115",
   "metadata": {},
   "outputs": [],
   "source": [
    "def log_decorator(param_func):  #함수 실행하는것으로 변경\n",
    "    def log_message():\n",
    "        time_str = time.strftime('%c', time.localtime(time.time()))\n",
    "        print(time_str, end='')\n",
    "        print(' ===> ', end='')\n",
    "        return param_func()\n",
    "        \n",
    "    return log_message"
   ]
  },
  {
   "cell_type": "code",
   "execution_count": 59,
   "id": "5d234de3",
   "metadata": {},
   "outputs": [],
   "source": [
    "def test_log_msg():\n",
    "    print('This is test log.....')\n",
    "    \n",
    "def runtime_log_msg():\n",
    "    print('This is runtime log.....')"
   ]
  },
  {
   "cell_type": "code",
   "execution_count": 60,
   "id": "a9856301",
   "metadata": {},
   "outputs": [],
   "source": [
    "test_log = log_decorator(test_log_msg)"
   ]
  },
  {
   "cell_type": "code",
   "execution_count": 61,
   "id": "f96795e3",
   "metadata": {},
   "outputs": [],
   "source": [
    "runtime_log = log_decorator(runtime_log_msg)"
   ]
  },
  {
   "cell_type": "code",
   "execution_count": 66,
   "id": "af54d307",
   "metadata": {},
   "outputs": [
    {
     "name": "stdout",
     "output_type": "stream",
     "text": [
      "Fri Feb 24 15:22:17 2023 ===> This is test log.....\n"
     ]
    }
   ],
   "source": [
    "test_log() # 로그를 꾸며주는 힘수"
   ]
  },
  {
   "cell_type": "code",
   "execution_count": 67,
   "id": "19213093",
   "metadata": {},
   "outputs": [
    {
     "name": "stdout",
     "output_type": "stream",
     "text": [
      "Fri Feb 24 15:22:17 2023 ===> This is runtime log.....\n"
     ]
    }
   ],
   "source": [
    "runtime_log() # 로그를 꾸며주는 힘수"
   ]
  },
  {
   "cell_type": "code",
   "execution_count": 68,
   "id": "413b1c57",
   "metadata": {},
   "outputs": [
    {
     "name": "stdout",
     "output_type": "stream",
     "text": [
      "This is test log.....\n"
     ]
    }
   ],
   "source": [
    "test_log_msg() # 그대로 출력"
   ]
  },
  {
   "cell_type": "code",
   "execution_count": 69,
   "id": "ce6bcfb4",
   "metadata": {},
   "outputs": [
    {
     "name": "stdout",
     "output_type": "stream",
     "text": [
      "This is runtime log.....\n"
     ]
    }
   ],
   "source": [
    "runtime_log_msg() # 그대로 출력"
   ]
  },
  {
   "cell_type": "code",
   "execution_count": 165,
   "id": "a67b9929",
   "metadata": {},
   "outputs": [],
   "source": [
    "# @ 이것은 파이썬에서는 Decorator의미\n",
    "@log_decorator # closure가 되는 함수 만들어줌\n",
    "def test_log_msg(): # 함수 선언\n",
    "    print('This is test log.....')"
   ]
  },
  {
   "cell_type": "code",
   "execution_count": 74,
   "id": "a92cb334",
   "metadata": {},
   "outputs": [],
   "source": [
    "@log_decorator \n",
    "def runtime_log_msg():\n",
    "    print('This is runtime log.....')"
   ]
  },
  {
   "cell_type": "code",
   "execution_count": 75,
   "id": "961600dc",
   "metadata": {},
   "outputs": [
    {
     "name": "stdout",
     "output_type": "stream",
     "text": [
      "Fri Feb 24 15:29:17 2023 ===> This is test log.....\n"
     ]
    }
   ],
   "source": [
    "test_log_msg()"
   ]
  },
  {
   "cell_type": "code",
   "execution_count": 76,
   "id": "a3b94c03",
   "metadata": {},
   "outputs": [
    {
     "name": "stdout",
     "output_type": "stream",
     "text": [
      "Fri Feb 24 15:29:23 2023 ===> This is runtime log.....\n"
     ]
    }
   ],
   "source": [
    "runtime_log_msg()"
   ]
  },
  {
   "cell_type": "code",
   "execution_count": 77,
   "id": "f6458afe",
   "metadata": {},
   "outputs": [],
   "source": [
    "@log_decorator \n",
    "def runtime_log_msg(hote, ip):\n",
    "    print(f'This is runtime log from {host}: {ip}')"
   ]
  },
  {
   "cell_type": "code",
   "execution_count": 78,
   "id": "20b8070d",
   "metadata": {},
   "outputs": [
    {
     "ename": "TypeError",
     "evalue": "log_message() takes 0 positional arguments but 2 were given",
     "output_type": "error",
     "traceback": [
      "\u001b[0;31m---------------------------------------------------------------------------\u001b[0m",
      "\u001b[0;31mTypeError\u001b[0m                                 Traceback (most recent call last)",
      "Cell \u001b[0;32mIn[78], line 1\u001b[0m\n\u001b[0;32m----> 1\u001b[0m \u001b[43mruntime_log_msg\u001b[49m\u001b[43m(\u001b[49m\u001b[38;5;124;43m'\u001b[39;49m\u001b[38;5;124;43mlocalhost\u001b[39;49m\u001b[38;5;124;43m'\u001b[39;49m\u001b[43m,\u001b[49m\u001b[38;5;124;43m'\u001b[39;49m\u001b[38;5;124;43m192.168.34\u001b[39;49m\u001b[38;5;124;43m'\u001b[39;49m\u001b[43m)\u001b[49m\n",
      "\u001b[0;31mTypeError\u001b[0m: log_message() takes 0 positional arguments but 2 were given"
     ]
    }
   ],
   "source": [
    "runtime_log_msg('localhost','192.168.34')"
   ]
  },
  {
   "cell_type": "code",
   "execution_count": 168,
   "id": "76522280",
   "metadata": {},
   "outputs": [],
   "source": [
    "def log_decorator(param_func):  #함수 실행하는것으로 변경\n",
    "    def log_message(*args, **kargs):\n",
    "        time_str = time.strftime('%c', time.localtime(time.time()))\n",
    "        print(time_str, end='')\n",
    "        print(' ===> ', end='')\n",
    "        return param_func(*args, **kargs)\n",
    "        \n",
    "    return log_message"
   ]
  },
  {
   "cell_type": "code",
   "execution_count": 148,
   "id": "a0ec9bc4",
   "metadata": {},
   "outputs": [],
   "source": [
    "@log_decorator # closure가 되는 함수 만들어줌\n",
    "def test_log_msg(): # 함수 선언\n",
    "    print('This is test log.....')"
   ]
  },
  {
   "cell_type": "code",
   "execution_count": 149,
   "id": "053748e1",
   "metadata": {},
   "outputs": [],
   "source": [
    "@log_decorator \n",
    "def runtime_log_msg(host, ip):\n",
    "    print(f'This is runtime log from {host}: {ip}')"
   ]
  },
  {
   "cell_type": "code",
   "execution_count": 150,
   "id": "4ff95774",
   "metadata": {},
   "outputs": [
    {
     "name": "stdout",
     "output_type": "stream",
     "text": [
      "Fri Feb 24 15:51:15 2023 ===> This is test log.....\n"
     ]
    }
   ],
   "source": [
    "test_log_msg()"
   ]
  },
  {
   "cell_type": "code",
   "execution_count": 151,
   "id": "25fc5b0b",
   "metadata": {},
   "outputs": [
    {
     "name": "stdout",
     "output_type": "stream",
     "text": [
      "Fri Feb 24 15:51:16 2023 ===> This is runtime log from localhost: 192.168.34\n"
     ]
    }
   ],
   "source": [
    "runtime_log_msg('localhost','192.168.34')"
   ]
  },
  {
   "cell_type": "markdown",
   "id": "ac77aa87",
   "metadata": {},
   "source": [
    "*변수, **변수"
   ]
  },
  {
   "cell_type": "code",
   "execution_count": 103,
   "id": "d306bb8d",
   "metadata": {},
   "outputs": [],
   "source": [
    "def f1(a,b , *args):  # *변수 : 나머지 인자를 패킹해서 받아라, 일반 리스트 패킹\n",
    "        print(a)\n",
    "        print(b)\n",
    "        print(args)\n",
    "        i, j, k = args\n",
    "        print(i,j,k)"
   ]
  },
  {
   "cell_type": "code",
   "execution_count": 104,
   "id": "f7aa6d2d",
   "metadata": {},
   "outputs": [
    {
     "name": "stdout",
     "output_type": "stream",
     "text": [
      "1\n",
      "2\n",
      "(3, 4, 5)\n",
      "3 4 5\n"
     ]
    }
   ],
   "source": [
    "f1(1,2,3,4,5)"
   ]
  },
  {
   "cell_type": "code",
   "execution_count": 166,
   "id": "e8b1fbeb",
   "metadata": {},
   "outputs": [],
   "source": [
    "def key_variale_length(**args): #딕션어리로 패킹\n",
    "    print(args)\n",
    "    print(\"First value is {first}\".format(**args))\n",
    "    print(f\"First value is {args.get('first')}\")\n",
    "    print(\"Second value is {second}\".format(**args))\n",
    "    print(\"Third value is {third}\".format(**args))"
   ]
  },
  {
   "cell_type": "code",
   "execution_count": 105,
   "id": "bc6edb67",
   "metadata": {},
   "outputs": [
    {
     "name": "stdout",
     "output_type": "stream",
     "text": [
      "{'first': 3, 'second': 4, 'third': 5}\n",
      "First value is 3\n",
      "First value is 3\n",
      "Second value is 4\n",
      "Third value is 5\n"
     ]
    }
   ],
   "source": [
    "#a = {'first' : 3, 'second' :4,'third':5}\n",
    "key_variale_length(first=3,second=4,third=5)"
   ]
  },
  {
   "cell_type": "markdown",
   "id": "90dd4566",
   "metadata": {},
   "source": [
    "### Generator"
   ]
  },
  {
   "cell_type": "code",
   "execution_count": 132,
   "id": "8167de75",
   "metadata": {},
   "outputs": [],
   "source": [
    "def square_numbers(nums):\n",
    "    result = []\n",
    "    for i in nums:\n",
    "        result.append(i * i)\n",
    "    return result"
   ]
  },
  {
   "cell_type": "code",
   "execution_count": 133,
   "id": "2cab47dd",
   "metadata": {},
   "outputs": [],
   "source": [
    "my_nums = square_numbers([1, 2, 3, 4, 5])  # 리소스가 낭비된다."
   ]
  },
  {
   "cell_type": "code",
   "execution_count": 134,
   "id": "e740eb32",
   "metadata": {},
   "outputs": [
    {
     "name": "stdout",
     "output_type": "stream",
     "text": [
      "[1, 4, 9, 16, 25]\n"
     ]
    }
   ],
   "source": [
    "print(my_nums)"
   ]
  },
  {
   "cell_type": "code",
   "execution_count": 160,
   "id": "d47329ee",
   "metadata": {},
   "outputs": [],
   "source": [
    "def square_numbers(nums):\n",
    "    for i in nums:\n",
    "        yield i * i  #원하는 메뉴를 만들수 있는 Generator를 가지고 만든다. \n",
    "#커피사장님이 100잔을 주문 받았다 \n",
    "# 우유 커피콩, 물, 컵 다 따로 가져가서 거기서 만들어주는것이 Generator같은 거"
   ]
  },
  {
   "cell_type": "code",
   "execution_count": 161,
   "id": "dcbb6188",
   "metadata": {},
   "outputs": [],
   "source": [
    "my_nums = square_numbers([1, 2, 3, 4, 5])"
   ]
  },
  {
   "cell_type": "code",
   "execution_count": 162,
   "id": "71f91e9f",
   "metadata": {
    "scrolled": true
   },
   "outputs": [
    {
     "name": "stdout",
     "output_type": "stream",
     "text": [
      "<generator object square_numbers at 0x7fd7300dd660>\n"
     ]
    }
   ],
   "source": [
    "print(my_nums)  # Generator객체가 튀어나옴"
   ]
  },
  {
   "cell_type": "code",
   "execution_count": 164,
   "id": "8bd736f4",
   "metadata": {},
   "outputs": [
    {
     "name": "stdout",
     "output_type": "stream",
     "text": [
      "4\n",
      "9\n",
      "16\n",
      "25\n"
     ]
    }
   ],
   "source": [
    "#print(next(my_nums)) \n",
    "# 내부적으로는 next() 함수를 이용해서 출력한다.\n",
    "for i in my_nums:\n",
    "    print(i)"
   ]
  },
  {
   "cell_type": "code",
   "execution_count": null,
   "id": "2e1c13c2",
   "metadata": {},
   "outputs": [],
   "source": []
  }
 ],
 "metadata": {
  "kernelspec": {
   "display_name": "Python 3 (ipykernel)",
   "language": "python",
   "name": "python3"
  },
  "language_info": {
   "codemirror_mode": {
    "name": "ipython",
    "version": 3
   },
   "file_extension": ".py",
   "mimetype": "text/x-python",
   "name": "python",
   "nbconvert_exporter": "python",
   "pygments_lexer": "ipython3",
   "version": "3.9.16"
  }
 },
 "nbformat": 4,
 "nbformat_minor": 5
}
