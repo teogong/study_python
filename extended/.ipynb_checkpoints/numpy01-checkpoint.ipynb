{
 "cells": [
  {
   "cell_type": "markdown",
   "id": "a51eeff8",
   "metadata": {},
   "source": [
    "# numpy\n",
    "파이썬의 리스트를 대체할 numpy 속도 빠름 C++로 만들어졌음  \n",
    "cmd 창에 가상환경 들어가서 설정  \n",
    "conda install numpy"
   ]
  },
  {
   "cell_type": "code",
   "execution_count": 4,
   "id": "34a89119",
   "metadata": {},
   "outputs": [],
   "source": [
    "import numpy as np"
   ]
  },
  {
   "cell_type": "code",
   "execution_count": 5,
   "id": "ed8b3173",
   "metadata": {},
   "outputs": [
    {
     "name": "stdout",
     "output_type": "stream",
     "text": [
      "[0 1 2 3 4 5]\n"
     ]
    }
   ],
   "source": [
    "a1 = np.array([0,1,2,3,4,5])\n",
    "print(a1)"
   ]
  },
  {
   "cell_type": "markdown",
   "id": "6c016d0e",
   "metadata": {},
   "source": [
    "list랑 다른점은 ,가 없다"
   ]
  },
  {
   "cell_type": "code",
   "execution_count": 6,
   "id": "8a25de1a",
   "metadata": {},
   "outputs": [
    {
     "name": "stdout",
     "output_type": "stream",
     "text": [
      "<class 'numpy.ndarray'>\n"
     ]
    }
   ],
   "source": [
    "print(type(a1))"
   ]
  },
  {
   "cell_type": "code",
   "execution_count": 7,
   "id": "39199d92",
   "metadata": {},
   "outputs": [
    {
     "name": "stdout",
     "output_type": "stream",
     "text": [
      "int64\n"
     ]
    }
   ],
   "source": [
    "print(a1.dtype) # dtype은 속성을 알수있음, 맥이라 32비트가 아니라 64비트 찍힘"
   ]
  },
  {
   "cell_type": "code",
   "execution_count": 8,
   "id": "88065272",
   "metadata": {},
   "outputs": [
    {
     "name": "stdout",
     "output_type": "stream",
     "text": [
      "[ 0.   1.   4.   5.  10.   0.5]\n"
     ]
    }
   ],
   "source": [
    "a2 = np.array([0,1,4,5,10,0.5])  #실수 타입이란는 거, numpy 하나에 여러타입을 들어가는것을 허용하지 않는다\n",
    "print(a2)"
   ]
  },
  {
   "cell_type": "code",
   "execution_count": 9,
   "id": "8de1fc39",
   "metadata": {},
   "outputs": [
    {
     "name": "stdout",
     "output_type": "stream",
     "text": [
      "float64\n"
     ]
    }
   ],
   "source": [
    "print(a2.dtype)"
   ]
  },
  {
   "cell_type": "markdown",
   "id": "9100c7b8",
   "metadata": {},
   "source": [
    "### 2차원 list"
   ]
  },
  {
   "cell_type": "code",
   "execution_count": 10,
   "id": "bca496a0",
   "metadata": {},
   "outputs": [
    {
     "name": "stdout",
     "output_type": "stream",
     "text": [
      "[[1 2 3]\n",
      " [4 5 6]\n",
      " [7 8 9]]\n"
     ]
    }
   ],
   "source": [
    "a3 = np.array([[1,2,3],[4,5,6],[7,8,9]])  #numpy이 2차원 list는 행과 열로 나주어준다.\n",
    "print(a3)"
   ]
  },
  {
   "cell_type": "code",
   "execution_count": 11,
   "id": "3b230555",
   "metadata": {},
   "outputs": [
    {
     "name": "stdout",
     "output_type": "stream",
     "text": [
      "[[1, 2, 3], [4, 5, 6], [7, 8, 9]]\n"
     ]
    }
   ],
   "source": [
    "temp_list = ([[1,2,3],[4,5,6],[7,8,9]])\n",
    "print(temp_list)"
   ]
  },
  {
   "cell_type": "markdown",
   "id": "859a8928",
   "metadata": {},
   "source": [
    "### arange"
   ]
  },
  {
   "cell_type": "code",
   "execution_count": 12,
   "id": "6cd94251",
   "metadata": {},
   "outputs": [
    {
     "name": "stdout",
     "output_type": "stream",
     "text": [
      "[0 2 4 6 8]\n"
     ]
    }
   ],
   "source": [
    "a4 = np.arange(0,10,2) #numpy는 range가 아니라 arange로 한다.\n",
    "print(a4)"
   ]
  },
  {
   "cell_type": "code",
   "execution_count": 13,
   "id": "db034f3c",
   "metadata": {},
   "outputs": [
    {
     "name": "stdout",
     "output_type": "stream",
     "text": [
      "[1 2 3 4 5 6 7 8 9]\n"
     ]
    }
   ],
   "source": [
    "a5 =np.arange(1,10)\n",
    "print(a5)"
   ]
  },
  {
   "cell_type": "code",
   "execution_count": 14,
   "id": "aeff6f5f",
   "metadata": {},
   "outputs": [
    {
     "name": "stdout",
     "output_type": "stream",
     "text": [
      "[0 1 2 3 4]\n"
     ]
    }
   ],
   "source": [
    "a6 = np.arange(5)\n",
    "print(a6)"
   ]
  },
  {
   "cell_type": "markdown",
   "id": "82bbf93e",
   "metadata": {},
   "source": [
    "### reshape"
   ]
  },
  {
   "cell_type": "code",
   "execution_count": 15,
   "id": "a19be8cb",
   "metadata": {},
   "outputs": [
    {
     "name": "stdout",
     "output_type": "stream",
     "text": [
      "[[ 0  1  2]\n",
      " [ 3  4  5]\n",
      " [ 6  7  8]\n",
      " [ 9 10 11]]\n"
     ]
    }
   ],
   "source": [
    "a7= np.arange(12).reshape(4,3)\n",
    "print(a7)"
   ]
  },
  {
   "cell_type": "code",
   "execution_count": 16,
   "id": "8d2204db",
   "metadata": {},
   "outputs": [
    {
     "name": "stdout",
     "output_type": "stream",
     "text": [
      "(4, 3)\n"
     ]
    }
   ],
   "source": [
    "print(a7.shape) ##shape를 알고 싶을때는 shape"
   ]
  },
  {
   "cell_type": "code",
   "execution_count": 18,
   "id": "fa4073d8",
   "metadata": {},
   "outputs": [
    {
     "ename": "ValueError",
     "evalue": "cannot reshape array of size 11 into shape (4,3)",
     "output_type": "error",
     "traceback": [
      "\u001b[0;31m---------------------------------------------------------------------------\u001b[0m",
      "\u001b[0;31mValueError\u001b[0m                                Traceback (most recent call last)",
      "Cell \u001b[0;32mIn[18], line 1\u001b[0m\n\u001b[0;32m----> 1\u001b[0m a8 \u001b[38;5;241m=\u001b[39m \u001b[43mnp\u001b[49m\u001b[38;5;241;43m.\u001b[39;49m\u001b[43marange\u001b[49m\u001b[43m(\u001b[49m\u001b[38;5;241;43m11\u001b[39;49m\u001b[43m)\u001b[49m\u001b[38;5;241;43m.\u001b[39;49m\u001b[43mreshape\u001b[49m\u001b[43m(\u001b[49m\u001b[38;5;241;43m4\u001b[39;49m\u001b[43m,\u001b[49m\u001b[38;5;241;43m3\u001b[39;49m\u001b[43m)\u001b[49m\n",
      "\u001b[0;31mValueError\u001b[0m: cannot reshape array of size 11 into shape (4,3)"
     ]
    }
   ],
   "source": [
    "a8 = np.arange(11).reshape(4,3)"
   ]
  },
  {
   "cell_type": "markdown",
   "id": "10aedcee",
   "metadata": {},
   "source": [
    "###  linspace\n"
   ]
  },
  {
   "cell_type": "code",
   "execution_count": 19,
   "id": "f611d7e8",
   "metadata": {},
   "outputs": [
    {
     "name": "stdout",
     "output_type": "stream",
     "text": [
      "[ 1.  2.  3.  4.  5.  6.  7.  8.  9. 10.]\n"
     ]
    }
   ],
   "source": [
    "a = np.linspace(1,10,10) # 1부터 10까지 사이를 10개의 구간으로 쪼갠다 , 그래프 만들때 많이 사용한다.\n",
    "\n",
    "print(a)"
   ]
  },
  {
   "cell_type": "code",
   "execution_count": 20,
   "id": "7170bd31",
   "metadata": {},
   "outputs": [
    {
     "name": "stdout",
     "output_type": "stream",
     "text": [
      "[ 1.          2.28571429  3.57142857  4.85714286  6.14285714  7.42857143\n",
      "  8.71428571 10.        ]\n"
     ]
    }
   ],
   "source": [
    "a = np.linspace(1,10,8) # 1부터 10까지 사이를 8개의 구간으로 쪼갠다\n",
    "print(a)"
   ]
  },
  {
   "cell_type": "code",
   "execution_count": 21,
   "id": "752f342e",
   "metadata": {},
   "outputs": [
    {
     "name": "stdout",
     "output_type": "stream",
     "text": [
      "[1.         1.1127154  1.22543081 1.33814621 1.45086161 1.56357701\n",
      " 1.67629242 1.78900782 1.90172322 2.01443863 2.12715403 2.23986943\n",
      " 2.35258483 2.46530024 2.57801564 2.69073104 2.80344645 2.91616185\n",
      " 3.02887725 3.14159265]\n"
     ]
    }
   ],
   "source": [
    "a = np.linspace(1,np.pi,20) # 1부터 np.pi까지 사이를 20개의 구간으로 쪼갠다\n",
    "print(a)"
   ]
  },
  {
   "cell_type": "markdown",
   "id": "da080fd0",
   "metadata": {},
   "source": [
    "### zeros, ones, eye"
   ]
  },
  {
   "cell_type": "code",
   "execution_count": 22,
   "id": "a75c2b87",
   "metadata": {},
   "outputs": [
    {
     "name": "stdout",
     "output_type": "stream",
     "text": [
      "[0 0 0 0 0 0 0 0 0 0]\n",
      "[[0 0 0 0]\n",
      " [0 0 0 0]\n",
      " [0 0 0 0]]\n",
      "[1. 1. 1. 1. 1.]\n",
      "[[1. 1. 1. 1. 1.]\n",
      " [1. 1. 1. 1. 1.]\n",
      " [1. 1. 1. 1. 1.]]\n",
      "[[1. 0. 0.]\n",
      " [0. 1. 0.]\n",
      " [0. 0. 1.]]\n"
     ]
    }
   ],
   "source": [
    "a1 = np.zeros(10, int)  # 0으로 채워준다 (항목,타입)\n",
    "print(a1)\n",
    "a2 = np.zeros((3, 4), int) # (shape,타입)\n",
    "print(a2)\n",
    "a3 = np.ones(5) #ones 1로 채워준다 디폴트는 실수 타입\n",
    "print(a3)\n",
    "a4 = np.ones((3, 5)) #((shape))\n",
    "print(a4)\n",
    "a5 = np.eye(3) # 단위행열(좌상단에서 우상단으로 주대각이 1이고 나머지 0인 경우)을 eye (단위행렬 기호 : I)\n",
    "print(a5)"
   ]
  },
  {
   "cell_type": "markdown",
   "id": "8c52f4a5",
   "metadata": {},
   "source": [
    "### 문자열 타입 읽는 법"
   ]
  },
  {
   "cell_type": "code",
   "execution_count": 23,
   "id": "f59449b6",
   "metadata": {
    "scrolled": true
   },
   "outputs": [
    {
     "name": "stdout",
     "output_type": "stream",
     "text": [
      "['abc' 'whoami' 'chemistry']\n",
      "<U9\n"
     ]
    }
   ],
   "source": [
    "a1 = np.array(['abc', 'whoami', 'chemistry'])\n",
    "print(a1)\n",
    "print(a1.dtype)  # 문자열 타입 읽는 법    <U9    제일긴 놈보다 작다.,유니코드,제일긴 높이9자리"
   ]
  },
  {
   "cell_type": "markdown",
   "id": "d2dd74ea",
   "metadata": {},
   "source": [
    "### astype 변환"
   ]
  },
  {
   "cell_type": "code",
   "execution_count": 24,
   "id": "332dc5db",
   "metadata": {},
   "outputs": [
    {
     "name": "stdout",
     "output_type": "stream",
     "text": [
      "<U5\n"
     ]
    }
   ],
   "source": [
    "a1 = np.array(['1.567', '0.123', '5.232', '5', '8'])\n",
    "print(a1.dtype)"
   ]
  },
  {
   "cell_type": "code",
   "execution_count": 26,
   "id": "d0a35ad5",
   "metadata": {},
   "outputs": [
    {
     "name": "stdout",
     "output_type": "stream",
     "text": [
      "float64\n"
     ]
    }
   ],
   "source": [
    "num = a1.astype(float) # astype으로 변경 a1은 타입이 변환되지 않고 변환 된것을 출력해준다.\n",
    "print(num.dtype)"
   ]
  },
  {
   "cell_type": "markdown",
   "id": "4068ac3c",
   "metadata": {},
   "source": [
    "### random"
   ]
  },
  {
   "cell_type": "code",
   "execution_count": 27,
   "id": "ad3bb058",
   "metadata": {},
   "outputs": [
    {
     "name": "stdout",
     "output_type": "stream",
     "text": [
      "0.17448629919631353\n"
     ]
    }
   ],
   "source": [
    "a1 = np.random.rand() # rand가 0~1사이를 램덤하게 찍어준다.\n",
    "print(a1)"
   ]
  },
  {
   "cell_type": "code",
   "execution_count": 28,
   "id": "788b24ab",
   "metadata": {},
   "outputs": [
    {
     "name": "stdout",
     "output_type": "stream",
     "text": [
      "[[0.52957992 0.54863176 0.15638135]\n",
      " [0.75617984 0.79418924 0.27881849]]\n"
     ]
    }
   ],
   "source": [
    "a1 = np.random.rand(2,3) \n",
    "print(a1)"
   ]
  },
  {
   "cell_type": "code",
   "execution_count": 29,
   "id": "0d00c766",
   "metadata": {},
   "outputs": [
    {
     "name": "stdout",
     "output_type": "stream",
     "text": [
      "[[[0.5470765  0.95435497 0.06787311 0.47724108]\n",
      "  [0.23874965 0.56364438 0.82629561 0.65404172]\n",
      "  [0.42396918 0.98051809 0.77150868 0.21593737]]\n",
      "\n",
      " [[0.80996927 0.78146647 0.33457137 0.60104074]\n",
      "  [0.7390031  0.81931344 0.78181395 0.18777739]\n",
      "  [0.6751     0.71961211 0.82656915 0.07690835]]]\n"
     ]
    }
   ],
   "source": [
    "a1 = np.random.rand(2,3,4) \n",
    "print(a1)"
   ]
  },
  {
   "cell_type": "code",
   "execution_count": 30,
   "id": "c364b00c",
   "metadata": {},
   "outputs": [
    {
     "name": "stdout",
     "output_type": "stream",
     "text": [
      "[[7 3 6 5]\n",
      " [1 2 9 5]\n",
      " [0 5 2 8]]\n"
     ]
    }
   ],
   "source": [
    "a1 = np.random.randint(10,size=(3,4)) # 정수 0~9까지 3바이 4\n",
    "print(a1)"
   ]
  },
  {
   "cell_type": "code",
   "execution_count": 31,
   "id": "ea39a3f5",
   "metadata": {},
   "outputs": [
    {
     "name": "stdout",
     "output_type": "stream",
     "text": [
      "11\n"
     ]
    }
   ],
   "source": [
    "a1 = np.random.randint(1,30) # 정수 1~29까지 1개\n",
    "print(a1)"
   ]
  },
  {
   "cell_type": "markdown",
   "id": "efbfa5f9",
   "metadata": {},
   "source": [
    "### 항목끼리 사측연산 가능\n",
    "항목끼리 연산하는것을 element wise 연산  \n",
    "단, 2개의 shape이 같아야한다."
   ]
  },
  {
   "cell_type": "code",
   "execution_count": 32,
   "id": "8c80c813",
   "metadata": {},
   "outputs": [
    {
     "name": "stdout",
     "output_type": "stream",
     "text": [
      "[11 22 33 44]\n",
      "[ 9 18 27 36]\n",
      "[20 40 60 80]\n",
      "[ 100  400  900 1600]\n",
      "[ 10  40  90 160]\n",
      "[10. 10. 10. 10.]\n",
      "[10.          5.          3.33333333  2.5       ]\n",
      "[False False  True  True]\n"
     ]
    }
   ],
   "source": [
    "a1 = np.array([10, 20, 30, 40])  \n",
    "a2 = np.array([1, 2, 3, 4])\n",
    "print(a1 + a2)\n",
    "print(a1 - a2)\n",
    "print(a1 * 2)\n",
    "print(a1 ** 2)\n",
    "print(a1 * a2)\n",
    "print(a1 / a2)\n",
    "print(a1 / (a2 ** 2))\n",
    "print(a1 > 20)"
   ]
  },
  {
   "cell_type": "markdown",
   "id": "07a3d0ca",
   "metadata": {},
   "source": [
    "### 기본적인 수학함수 지원"
   ]
  },
  {
   "cell_type": "code",
   "execution_count": 33,
   "id": "b3891d50",
   "metadata": {},
   "outputs": [
    {
     "name": "stdout",
     "output_type": "stream",
     "text": [
      "[1 2 3 4 5]\n",
      "15\n",
      "3.0\n",
      "1.4142135623730951\n",
      "2.0\n",
      "1\n",
      "5\n",
      "[ 1  3  6 10 15]\n",
      "[  1   2   6  24 120]\n"
     ]
    }
   ],
   "source": [
    "a1 = np.arange(1, 6)\n",
    "print(a1)\n",
    "print(a1.sum())\n",
    "print(a1.mean()) # 평균\n",
    "print(a1.std())  # 표존편차\n",
    "print(a1.var())  # 분산\n",
    "print(a1.min())\n",
    "print(a1.max())\n",
    "print(a1.cumsum())  # 누적 합계\n",
    "print(a1.cumprod()) # 누적 곱"
   ]
  },
  {
   "cell_type": "markdown",
   "id": "61b6f525",
   "metadata": {},
   "source": [
    "### 선형 대수학을 지원해서 행렬도 지원"
   ]
  },
  {
   "cell_type": "code",
   "execution_count": 34,
   "id": "52f977d3",
   "metadata": {},
   "outputs": [
    {
     "name": "stdout",
     "output_type": "stream",
     "text": [
      "[[0 1]\n",
      " [2 3]]\n",
      "[[3 2]\n",
      " [0 1]]\n",
      "--------------------\n",
      "[[0 1]\n",
      " [6 7]]\n",
      "[[0 1]\n",
      " [6 7]]\n",
      "--------------------\n",
      "[[0 2]\n",
      " [1 3]]\n",
      "[[0 2]\n",
      " [1 3]]\n",
      "--------------------\n",
      "[[-1.5  0.5]\n",
      " [ 1.   0. ]]\n",
      "-2.0\n"
     ]
    }
   ],
   "source": [
    "## NumPy는 선형 대수(Linear Algebra)를 위한 행렬 연산을 지원\n",
    "\n",
    "a = np.array([0, 1, 2, 3]).reshape(2, 2)\n",
    "print(a)\n",
    "\n",
    "b = np.array([3, 2, 0, 1]).reshape(2, 2)\n",
    "print(b)\n",
    "print('-'*20)\n",
    "print(a.dot(b)) # 행렬곲\n",
    "print(np.dot(a, b)) # 행렬곲\n",
    "print('-'*20)\n",
    "print(np.transpose(a)) # 전치행렬\n",
    "print(a.transpose()) # 전치행렬\n",
    "print('-'*20)\n",
    "print(np.linalg.inv(a)) # 역행렬\n",
    "print(np.linalg.det(a)) # 행렬식"
   ]
  },
  {
   "cell_type": "markdown",
   "id": "fcd29e5b",
   "metadata": {},
   "source": [
    "### 인데씽 지원"
   ]
  },
  {
   "cell_type": "code",
   "execution_count": 35,
   "id": "781a6d48",
   "metadata": {},
   "outputs": [
    {
     "name": "stdout",
     "output_type": "stream",
     "text": [
      "0\n",
      "40\n"
     ]
    }
   ],
   "source": [
    "a = np.array([0,10,20,30,40,50])  ## 인데싱 지원\n",
    "print(a[0])\n",
    "print(a[4])"
   ]
  },
  {
   "cell_type": "code",
   "execution_count": 36,
   "id": "0f2d70d7",
   "metadata": {},
   "outputs": [
    {
     "name": "stdout",
     "output_type": "stream",
     "text": [
      "[10 30 40]\n"
     ]
    }
   ],
   "source": [
    "print(a[[1,3,4]])"
   ]
  },
  {
   "cell_type": "code",
   "execution_count": 37,
   "id": "46e52f37",
   "metadata": {},
   "outputs": [
    {
     "name": "stdout",
     "output_type": "stream",
     "text": [
      "10 30 40\n"
     ]
    }
   ],
   "source": [
    "a, b, c = a[[1,3,4]]\n",
    "print(a,b,c)"
   ]
  },
  {
   "cell_type": "code",
   "execution_count": 38,
   "id": "59f64b0b",
   "metadata": {
    "scrolled": true
   },
   "outputs": [
    {
     "name": "stdout",
     "output_type": "stream",
     "text": [
      "[[10 20 30]\n",
      " [40 50 60]\n",
      " [70 80 90]]\n",
      "30\n",
      "[[10 20 30]\n",
      " [40 50 60]\n",
      " [70 80 97]]\n",
      "[40 50 60]\n",
      "--------------------\n",
      "[[10 20 30]\n",
      " [45 55 65]\n",
      " [70 80 97]]\n",
      "[[10 20 30]\n",
      " [45 55 65]\n",
      " [75 85 95]]\n",
      "--------------------\n",
      "[10 85]\n"
     ]
    }
   ],
   "source": [
    "b = np.arange(10, 100, 10).reshape(3, 3)\n",
    "print(b)\n",
    "print(b[0, 2])  \n",
    "b[2, 2] = 97  \n",
    "print(b)\n",
    "print(b[1])\n",
    "print('-'*20)\n",
    "b[1] = np.array([45, 55, 65])\n",
    "print(b)\n",
    "b[2] = [75, 85, 95]\n",
    "print(b)\n",
    "print('-'*20)\n",
    "print(b[[0, 2], [0, 1]])"
   ]
  },
  {
   "cell_type": "code",
   "execution_count": 106,
   "id": "252ac5b2",
   "metadata": {},
   "outputs": [
    {
     "name": "stdout",
     "output_type": "stream",
     "text": [
      "[4 5 6]\n",
      "[2 4 6]\n"
     ]
    }
   ],
   "source": [
    "a = np.array([1, 2, 3, 4, 5, 6])\n",
    "print(a[a > 3])\n",
    "print(a[(a % 2) == 0])"
   ]
  },
  {
   "cell_type": "markdown",
   "id": "7592ec13",
   "metadata": {},
   "source": [
    "### 슬라이씽   \n",
    "파이썬 기본적문법 먹음"
   ]
  },
  {
   "cell_type": "code",
   "execution_count": 108,
   "id": "e962821d",
   "metadata": {},
   "outputs": [
    {
     "name": "stdout",
     "output_type": "stream",
     "text": [
      "[10 20 30]\n",
      "[ 0 10 20]\n",
      "[20 30 40 50]\n",
      "[ 0 10 25 35 45 50]\n"
     ]
    }
   ],
   "source": [
    "a = np.array([0, 10, 20, 30, 40, 50])\n",
    "print(a[1:4])\n",
    "print(a[:3])\n",
    "print(a[2:])\n",
    "a[2:5] = np.array([25, 35, 45])\n",
    "print(a)"
   ]
  },
  {
   "cell_type": "code",
   "execution_count": 109,
   "id": "a816e12b",
   "metadata": {},
   "outputs": [
    {
     "name": "stdout",
     "output_type": "stream",
     "text": [
      "[[10 20 30]\n",
      " [40 50 60]\n",
      " [70 80 90]]\n",
      "[[50 60]\n",
      " [80 90]]\n",
      "[[20 30]\n",
      " [50 60]\n",
      " [80 90]]\n",
      "[40 50]\n",
      "[[10 25 35]\n",
      " [40 55 65]\n",
      " [70 80 90]]\n"
     ]
    }
   ],
   "source": [
    "a = np.arange(10, 100, 10).reshape(3, 3)\n",
    "print(a)\n",
    "print(a[1:3, 1:3])\n",
    "print(a[:3, 1:])\n",
    "print(a[1][0:2])\n",
    "a[0:2, 1:3] = np.array([[25, 35], [55, 65]])\n",
    "print(a)"
   ]
  },
  {
   "cell_type": "code",
   "execution_count": null,
   "id": "11f8b531",
   "metadata": {},
   "outputs": [],
   "source": []
  }
 ],
 "metadata": {
  "kernelspec": {
   "display_name": "Python 3 (ipykernel)",
   "language": "python",
   "name": "python3"
  },
  "language_info": {
   "codemirror_mode": {
    "name": "ipython",
    "version": 3
   },
   "file_extension": ".py",
   "mimetype": "text/x-python",
   "name": "python",
   "nbconvert_exporter": "python",
   "pygments_lexer": "ipython3",
   "version": "3.9.16"
  }
 },
 "nbformat": 4,
 "nbformat_minor": 5
}
