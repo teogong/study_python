{
 "cells": [
  {
   "cell_type": "code",
   "execution_count": 1,
   "id": "9bac9636",
   "metadata": {},
   "outputs": [],
   "source": [
    "kor_score = [60, 65, 85, 100, 90]\n",
    "eng_score = [75, 80, 90, 85, 100]\n",
    "math_score = [100, 90, 70, 90, 85]\n",
    "term_score = [kor_score, eng_score, math_score]"
   ]
  },
  {
   "cell_type": "markdown",
   "id": "f5b11873",
   "metadata": {},
   "source": [
    "  \n",
    "math_backup_score는 math_score의 주소 값을 stack에 가지고 있어서 heap 영역에 값을 변경하면 같이 변경되고 즉 같은 객체를 공유하고 있다."
   ]
  },
  {
   "cell_type": "code",
   "execution_count": 2,
   "id": "ecfe31a8",
   "metadata": {},
   "outputs": [
    {
     "name": "stdout",
     "output_type": "stream",
     "text": [
      "[[60, 65, 85, 100, 90], [75, 80, 90, 85, 100], [100, 90, 70, 90, 85]]\n"
     ]
    }
   ],
   "source": [
    "math_backup_score = math_score\n",
    "print(term_score)"
   ]
  },
  {
   "cell_type": "code",
   "execution_count": 3,
   "id": "28ec23fe",
   "metadata": {},
   "outputs": [],
   "source": [
    "math_score[0] = 0"
   ]
  },
  {
   "cell_type": "code",
   "execution_count": 4,
   "id": "68b86276",
   "metadata": {},
   "outputs": [
    {
     "name": "stdout",
     "output_type": "stream",
     "text": [
      "[0, 90, 70, 90, 85]\n"
     ]
    }
   ],
   "source": [
    "print(math_score)"
   ]
  },
  {
   "cell_type": "code",
   "execution_count": 5,
   "id": "d685e00c",
   "metadata": {},
   "outputs": [
    {
     "name": "stdout",
     "output_type": "stream",
     "text": [
      "[0, 90, 70, 90, 85]\n"
     ]
    }
   ],
   "source": [
    "print(math_backup_score)"
   ]
  },
  {
   "cell_type": "markdown",
   "id": "a9694207",
   "metadata": {},
   "source": [
    "reverse() 리스트 자체가 갱신된다."
   ]
  },
  {
   "cell_type": "code",
   "execution_count": 4,
   "id": "5bb2db04",
   "metadata": {},
   "outputs": [],
   "source": [
    "a = [1, 10, 5, 7 , 6]"
   ]
  },
  {
   "cell_type": "code",
   "execution_count": 5,
   "id": "28edbb5d",
   "metadata": {},
   "outputs": [],
   "source": [
    "a.reverse()"
   ]
  },
  {
   "cell_type": "code",
   "execution_count": 6,
   "id": "a74fa87b",
   "metadata": {},
   "outputs": [
    {
     "name": "stdout",
     "output_type": "stream",
     "text": [
      "[6, 7, 5, 10, 1]\n"
     ]
    }
   ],
   "source": [
    "print(a)"
   ]
  },
  {
   "cell_type": "markdown",
   "id": "d2b54e35",
   "metadata": {},
   "source": [
    "sort() 순서대로 정렬, 기본이 언센딩sort"
   ]
  },
  {
   "cell_type": "code",
   "execution_count": 9,
   "id": "8791ace5",
   "metadata": {},
   "outputs": [
    {
     "name": "stdout",
     "output_type": "stream",
     "text": [
      "[1, 5, 6, 7, 10]\n"
     ]
    }
   ],
   "source": [
    "a.sort()\n",
    "print(a)"
   ]
  },
  {
   "cell_type": "markdown",
   "id": "8dc5260e",
   "metadata": {},
   "source": [
    "디센딩sort"
   ]
  },
  {
   "cell_type": "code",
   "execution_count": 10,
   "id": "81cff60e",
   "metadata": {},
   "outputs": [
    {
     "name": "stdout",
     "output_type": "stream",
     "text": [
      "[10, 7, 6, 5, 1]\n"
     ]
    }
   ],
   "source": [
    "a.sort(reverse=True)\n",
    "print(a)"
   ]
  },
  {
   "cell_type": "markdown",
   "id": "1306f0db",
   "metadata": {},
   "source": [
    "sorted가 sort새로운 리스트를 생성한고, 기존에 있는것은 건드리지 않는다."
   ]
  },
  {
   "cell_type": "code",
   "execution_count": 11,
   "id": "1b2fe0ba",
   "metadata": {},
   "outputs": [
    {
     "name": "stdout",
     "output_type": "stream",
     "text": [
      "[3, 2, 1, 4] [1, 2, 3, 4]\n"
     ]
    }
   ],
   "source": [
    "a = [3, 2, 1, 4]\n",
    "b = sorted(a)\n",
    "print(a,b)"
   ]
  },
  {
   "cell_type": "markdown",
   "id": "71d6c7cc",
   "metadata": {},
   "source": [
    "파이썬 스타일은 reverse=True 붙여쓴다"
   ]
  },
  {
   "cell_type": "code",
   "execution_count": 12,
   "id": "3af99818",
   "metadata": {},
   "outputs": [
    {
     "name": "stdout",
     "output_type": "stream",
     "text": [
      "[3, 2, 1, 4] [4, 3, 2, 1]\n"
     ]
    }
   ],
   "source": [
    "b = sorted(a, reverse=True)\n",
    "print(a,b)"
   ]
  },
  {
   "cell_type": "markdown",
   "id": "8bc02cb1",
   "metadata": {},
   "source": [
    "count()안에 있는거 세줌"
   ]
  },
  {
   "cell_type": "code",
   "execution_count": 13,
   "id": "d3086c6d",
   "metadata": {},
   "outputs": [],
   "source": [
    "a = [1,2,2,4,4,4,5]"
   ]
  },
  {
   "cell_type": "code",
   "execution_count": 14,
   "id": "bbbe8a6a",
   "metadata": {},
   "outputs": [
    {
     "name": "stdout",
     "output_type": "stream",
     "text": [
      "2\n",
      "3\n",
      "1\n"
     ]
    }
   ],
   "source": [
    "print(a.count(2))\n",
    "print(a.count(4))\n",
    "print(a.count(5))"
   ]
  },
  {
   "cell_type": "code",
   "execution_count": 7,
   "id": "54ac8dd6",
   "metadata": {},
   "outputs": [
    {
     "name": "stdout",
     "output_type": "stream",
     "text": [
      "[['egg', 'salad', 'bread'], ['lamb', 'chicken'], ['ice cream', 'pudding']]\n"
     ]
    }
   ],
   "source": [
    "appetizer = ['egg', 'salad', 'bread', 'soup', 'canape']\n",
    "main_dish = ['fish', 'lamb', 'pork', 'beef', 'chicken']\n",
    "dessert = ['apple', 'ice cream', 'pudding', 'cookies', 'cake']\n",
    "\n",
    "order = [appetizer, main_dish, dessert]\n",
    "jane = [order[0][:-2], main_dish[1::3], dessert[1:3]]\n",
    "print(jane)\n",
    "\n",
    "del jane[2]\n",
    "jane.extend([order[2][0:1]])"
   ]
  },
  {
   "cell_type": "code",
   "execution_count": 8,
   "id": "43a30f46",
   "metadata": {},
   "outputs": [
    {
     "name": "stdout",
     "output_type": "stream",
     "text": [
      "[['egg', 'salad', 'bread'], ['lamb', 'chicken'], ['apple']]\n"
     ]
    }
   ],
   "source": [
    "print(jane)"
   ]
  },
  {
   "cell_type": "markdown",
   "id": "2198af08",
   "metadata": {},
   "source": [
    "if 문 "
   ]
  },
  {
   "cell_type": "code",
   "execution_count": 17,
   "id": "2eb34109",
   "metadata": {},
   "outputs": [
    {
     "name": "stdout",
     "output_type": "stream",
     "text": [
      "Input your age40\n",
      "Oh! you ar not allowed\n"
     ]
    }
   ],
   "source": [
    "my_age = int(input(\"Input your age\"))\n",
    "if my_age < 30:\n",
    "    print('Welcome to the Club')\n",
    "else:\n",
    "    print(\"Oh! you ar not allowed\")"
   ]
  },
  {
   "cell_type": "code",
   "execution_count": 18,
   "id": "99954fc2",
   "metadata": {},
   "outputs": [
    {
     "name": "stdout",
     "output_type": "stream",
     "text": [
      "Enter your score30\n",
      "F\n"
     ]
    }
   ],
   "source": [
    "score = int(input('Enter your score'))\n",
    "if score >= 90:\n",
    "    grade = 'A'\n",
    "elif score >= 80:\n",
    "    grade = 'B'\n",
    "elif score >= 70:\n",
    "    grade = 'C'\n",
    "elif score >= 60:\n",
    "    grade = 'D'\n",
    "else:\n",
    "    grade ='F'\n",
    "    \n",
    "print(grade)"
   ]
  },
  {
   "cell_type": "markdown",
   "id": "b7859ca7",
   "metadata": {},
   "source": [
    "### one line if  \n",
    "한 라인은 if 짜는 방법"
   ]
  },
  {
   "cell_type": "code",
   "execution_count": 19,
   "id": "2396245b",
   "metadata": {},
   "outputs": [
    {
     "name": "stdout",
     "output_type": "stream",
     "text": [
      "19\n"
     ]
    }
   ],
   "source": [
    "a = 9\n",
    "b = a * 10 if a % 2 == 0 else a + 10\n",
    "print(b)"
   ]
  },
  {
   "cell_type": "markdown",
   "id": "81424ecb",
   "metadata": {},
   "source": [
    "### for 문  \n",
    "in 다음에는 list가 온다 순서대로 값이 직접 들어온다 for in 형태"
   ]
  },
  {
   "cell_type": "code",
   "execution_count": 20,
   "id": "d5036075",
   "metadata": {},
   "outputs": [
    {
     "name": "stdout",
     "output_type": "stream",
     "text": [
      "No 1\n",
      "No 2\n",
      "No 3\n",
      "No 4\n",
      "No 5\n"
     ]
    }
   ],
   "source": [
    "for n in [1,2,3,4,5]:\n",
    "    print('No',n)"
   ]
  },
  {
   "cell_type": "markdown",
   "id": "6fbe6953",
   "metadata": {},
   "source": [
    "range는 0부터 5찍전 까지 출력"
   ]
  },
  {
   "cell_type": "code",
   "execution_count": 21,
   "id": "76fbf513",
   "metadata": {},
   "outputs": [
    {
     "name": "stdout",
     "output_type": "stream",
     "text": [
      "No 0\n",
      "No 1\n",
      "No 2\n",
      "No 3\n",
      "No 4\n"
     ]
    }
   ],
   "source": [
    "for n in range(5):\n",
    "    print('No',n)"
   ]
  },
  {
   "cell_type": "code",
   "execution_count": 22,
   "id": "9317ee5a",
   "metadata": {},
   "outputs": [
    {
     "name": "stdout",
     "output_type": "stream",
     "text": [
      "No 1\n",
      "No 2\n",
      "No 3\n",
      "No 4\n",
      "No 5\n"
     ]
    }
   ],
   "source": [
    "for n in range(1,6):\n",
    "    print('No',n)"
   ]
  },
  {
   "cell_type": "code",
   "execution_count": 23,
   "id": "bdddecf4",
   "metadata": {},
   "outputs": [
    {
     "name": "stdout",
     "output_type": "stream",
     "text": [
      "No 1\n",
      "No 3\n",
      "No 5\n"
     ]
    }
   ],
   "source": [
    "for n in range(1,6,2):\n",
    "    print('No',n)"
   ]
  },
  {
   "cell_type": "code",
   "execution_count": 24,
   "id": "9fda3bfe",
   "metadata": {},
   "outputs": [
    {
     "name": "stdout",
     "output_type": "stream",
     "text": [
      "No a\n",
      "No b\n",
      "No c\n",
      "No d\n",
      "No f\n"
     ]
    }
   ],
   "source": [
    "for n in  'abcdf':\n",
    "    print('No',n)"
   ]
  },
  {
   "cell_type": "code",
   "execution_count": 25,
   "id": "4a668b31",
   "metadata": {},
   "outputs": [
    {
     "name": "stdout",
     "output_type": "stream",
     "text": [
      "banana\n",
      "pineapple\n",
      "mango\n"
     ]
    }
   ],
   "source": [
    "for n in ['banana',  'pineapple','mango']:\n",
    "    print(n)"
   ]
  },
  {
   "cell_type": "code",
   "execution_count": 26,
   "id": "a5a08170",
   "metadata": {},
   "outputs": [
    {
     "name": "stdout",
     "output_type": "stream",
     "text": [
      "b\n",
      "a\n",
      "n\n",
      "a\n",
      "n\n",
      "a\n",
      "\n",
      "p\n",
      "i\n",
      "n\n",
      "e\n",
      "a\n",
      "p\n",
      "p\n",
      "l\n",
      "e\n",
      "\n",
      "m\n",
      "a\n",
      "n\n",
      "g\n",
      "o\n",
      "\n"
     ]
    }
   ],
   "source": [
    "for n in ['banana',  'pineapple','mango']:\n",
    "    for k in n:\n",
    "        print(k)\n",
    "    print()   "
   ]
  },
  {
   "cell_type": "code",
   "execution_count": 42,
   "id": "97e3301d",
   "metadata": {},
   "outputs": [
    {
     "name": "stdout",
     "output_type": "stream",
     "text": [
      "1\n",
      "2\n",
      "3\n",
      "4\n",
      "5\n",
      "6\n",
      "7\n",
      "8\n",
      "9\n"
     ]
    }
   ],
   "source": [
    "i = 1 \n",
    "while i < 10:\n",
    "    print(i)\n",
    "    i += 1"
   ]
  },
  {
   "cell_type": "code",
   "execution_count": 43,
   "id": "fcbdf58b",
   "metadata": {},
   "outputs": [
    {
     "name": "stdout",
     "output_type": "stream",
     "text": [
      "0\n",
      "1\n",
      "2\n",
      "3\n",
      "4\n",
      "End of program\n"
     ]
    }
   ],
   "source": [
    "for i in range(10):\n",
    "    if i == 5:\n",
    "        break\n",
    "    print(i)\n",
    "print('End of program')"
   ]
  },
  {
   "cell_type": "code",
   "execution_count": 45,
   "id": "f0ee4b41",
   "metadata": {},
   "outputs": [
    {
     "name": "stdout",
     "output_type": "stream",
     "text": [
      "0\n",
      "1\n",
      "2\n",
      "3\n",
      "4\n",
      "6\n",
      "7\n",
      "8\n",
      "9\n",
      "End of program\n"
     ]
    }
   ],
   "source": [
    "for i in range(10):\n",
    "    if i == 5:\n",
    "        continue\n",
    "    print(i)\n",
    "print('End of program')"
   ]
  },
  {
   "cell_type": "code",
   "execution_count": 51,
   "id": "ab4ab79c",
   "metadata": {},
   "outputs": [
    {
     "name": "stdout",
     "output_type": "stream",
     "text": [
      "몇단? \n",
      "3\n",
      "구구단 3 단 계산\n",
      "3  X  1  =  3\n",
      "3  X  2  =  6\n",
      "3  X  3  =  9\n",
      "3  X  4  =  12\n",
      "3  X  5  =  15\n",
      "3  X  6  =  18\n",
      "3  X  7  =  21\n",
      "3  X  8  =  24\n",
      "3  X  9  =  27\n"
     ]
    }
   ],
   "source": [
    "print(\"몇단? \")\n",
    "dan = input()\n",
    "print(\"구구단\", dan, \"단 계산\")\n",
    "int_dan = int(dan)\n",
    "for i in range(1,10):\n",
    "    result = int_dan * i\n",
    "    print (dan,\" X \",i,' = ',result )"
   ]
  },
  {
   "cell_type": "code",
   "execution_count": 56,
   "id": "cfd5bcae",
   "metadata": {},
   "outputs": [
    {
     "name": "stdout",
     "output_type": "stream",
     "text": [
      "uoy evol I\n"
     ]
    }
   ],
   "source": [
    "sentence = 'I love you'\n",
    "reverse_sentence = ''\n",
    "for char in sentence:\n",
    "    reverse_sentence = char + reverse_sentence\n",
    "print(reverse_sentence)"
   ]
  },
  {
   "cell_type": "markdown",
   "id": "8e8488cf",
   "metadata": {},
   "source": [
    "십진수를 이진수로 변환  \n",
    "내 코드  "
   ]
  },
  {
   "cell_type": "code",
   "execution_count": 13,
   "id": "236076ed",
   "metadata": {},
   "outputs": [
    {
     "name": "stdout",
     "output_type": "stream",
     "text": [
      "1\n",
      "1\n",
      "1\n",
      "0\n",
      "1110\n"
     ]
    }
   ],
   "source": [
    "decunak = 14\n",
    "# 십진수를 이진수로 변환\n",
    "result = ''\n",
    "while decunak > 0 :\n",
    "    for i in range(0,4):\n",
    "        i+=1\n",
    "        decunak = int(decunak / 2)\n",
    "        print('%s' %str(decunak % 2))\n",
    "        result =  result + str(decunak % 2)\n",
    "print(result)"
   ]
  },
  {
   "cell_type": "markdown",
   "id": "290c4b6f",
   "metadata": {},
   "source": [
    "선생님 코드"
   ]
  },
  {
   "cell_type": "code",
   "execution_count": 1,
   "id": "4ea68201",
   "metadata": {},
   "outputs": [
    {
     "name": "stdout",
     "output_type": "stream",
     "text": [
      "1110\n"
     ]
    }
   ],
   "source": [
    "decimal = 14\n",
    "result  = ''\n",
    "while decimal > 0:\n",
    "    remainder = decimal % 2\n",
    "    decimal //= 2\n",
    "    result = str(remainder) + result\n",
    "print(result)"
   ]
  },
  {
   "cell_type": "markdown",
   "id": "da403723",
   "metadata": {},
   "source": [
    "\n",
    "# 함수\n",
    "def 함수이름 (인자1, 인자2, ...옵션):  \n",
    "        실행문1  \n",
    "        실행문2    \n",
    "        return 반환값(옵션)"
   ]
  },
  {
   "cell_type": "code",
   "execution_count": 1,
   "id": "97568671",
   "metadata": {},
   "outputs": [],
   "source": [
    "def calculate_rectangle_area(x,y):\n",
    "    return x*y"
   ]
  },
  {
   "cell_type": "code",
   "execution_count": 2,
   "id": "f997c68f",
   "metadata": {},
   "outputs": [
    {
     "name": "stdout",
     "output_type": "stream",
     "text": [
      "200\n"
     ]
    }
   ],
   "source": [
    "rec_width  =10\n",
    "rec_height = 20\n",
    "print(calculate_rectangle_area(rec_width,rec_height))"
   ]
  },
  {
   "cell_type": "markdown",
   "id": "18e36ca0",
   "metadata": {},
   "source": [
    "    대표적으로 레퍼런스 넘기는 예제 --> 함수 내부에서는 동일한 객체 사용  \n",
    "                 stack | heap  \n",
    "    shopping_list[100] | 100['bean', 'salt','beef']  \n",
    "            goods[100] | 200[1,2]"
   ]
  },
  {
   "cell_type": "code",
   "execution_count": 4,
   "id": "529bb6d1",
   "metadata": {},
   "outputs": [],
   "source": [
    "def shopping_cart(goods):\n",
    "    goods.append('coupon')\n",
    "    goods = [ 1, 2]\n",
    "    print('In shopping_cart:', goods)"
   ]
  },
  {
   "cell_type": "code",
   "execution_count": 5,
   "id": "703ac24b",
   "metadata": {},
   "outputs": [
    {
     "name": "stdout",
     "output_type": "stream",
     "text": [
      "In shopping_cart: [1, 2]\n",
      "I bouht: ['bean', 'salt', 'beef', 'coupon']\n"
     ]
    }
   ],
   "source": [
    "shopping_list = ['bean', 'salt','beef']\n",
    "shopping_cart(shopping_list)\n",
    "print('I bouht:',shopping_list)"
   ]
  },
  {
   "cell_type": "markdown",
   "id": "029d3449",
   "metadata": {},
   "source": [
    "x 와 t는 함수 내에서만 존재하는 변수,  따라서 접근이 불가능하다. \n",
    "\n",
    "함수 안에서는 a가 300이 찍히는데 밖에 서는 10임 :   \n",
    "java나 c는 타입을 정해줘서 글로벌에서 접근이 불가능함 but 파이썬은 특별한 문법 제공\n"
   ]
  },
  {
   "cell_type": "code",
   "execution_count": 12,
   "id": "7ea4d133",
   "metadata": {},
   "outputs": [],
   "source": [
    "def test(x):\n",
    "    print(x)\n",
    "    t = 20\n",
    "    a = 300\n",
    "    print('In funtion:',t, a)"
   ]
  },
  {
   "cell_type": "code",
   "execution_count": 13,
   "id": "161e474d",
   "metadata": {},
   "outputs": [
    {
     "name": "stdout",
     "output_type": "stream",
     "text": [
      "10\n",
      "In funtion: 20 300\n",
      "In Global a 10\n"
     ]
    }
   ],
   "source": [
    "a = 10 \n",
    "test(a)\n",
    "print('In Global a' , a)\n",
    "# print('In Global t' , t)"
   ]
  },
  {
   "cell_type": "markdown",
   "id": "cb04a484",
   "metadata": {},
   "source": [
    "지역 변수 s를 안만들어서 접근이 가능하나  \n",
    "함수 내에서 s에 변수 값을 집어 넣으면 로컬 변수가 된다.  \n",
    "global 키워드로 지정해서 쓰면 함수 내에 변수 접근 가능"
   ]
  },
  {
   "cell_type": "code",
   "execution_count": 17,
   "id": "b1a77490",
   "metadata": {},
   "outputs": [],
   "source": [
    "def f():\n",
    "    global s\n",
    "    s = 'I love Doosan!'\n",
    "    print(s)"
   ]
  },
  {
   "cell_type": "code",
   "execution_count": 18,
   "id": "cafaa1c3",
   "metadata": {},
   "outputs": [
    {
     "name": "stdout",
     "output_type": "stream",
     "text": [
      "I love Doosan!\n",
      "I love Doosan!\n"
     ]
    }
   ],
   "source": [
    "s = 'I love hanhwa!'\n",
    "f()\n",
    "print(s)"
   ]
  },
  {
   "cell_type": "markdown",
   "id": "2db07253",
   "metadata": {},
   "source": [
    "### 함수 파라미터\n",
    "\n",
    "print('Hello {0}, my name is {1}' . format(your_name, my_name))  \n",
    "{0} ,{1} 인덱스"
   ]
  },
  {
   "cell_type": "code",
   "execution_count": 19,
   "id": "87ef73bd",
   "metadata": {},
   "outputs": [],
   "source": [
    "def print_name(my_name, your_name):\n",
    "    print('Hello {0}, my name is {1}' . format(your_name, my_name))"
   ]
  },
  {
   "cell_type": "code",
   "execution_count": 20,
   "id": "25dbeaf5",
   "metadata": {},
   "outputs": [
    {
     "name": "stdout",
     "output_type": "stream",
     "text": [
      "Hello Jane, my name is Tom\n"
     ]
    }
   ],
   "source": [
    "print_name('Tom', 'Jane')"
   ]
  },
  {
   "cell_type": "markdown",
   "id": "d1d5094a",
   "metadata": {},
   "source": [
    "이름 지정하면 순서 바뀌어도 된다"
   ]
  },
  {
   "cell_type": "code",
   "execution_count": 22,
   "id": "f0c203a5",
   "metadata": {},
   "outputs": [
    {
     "name": "stdout",
     "output_type": "stream",
     "text": [
      "Hello Jane, my name is Tom\n"
     ]
    }
   ],
   "source": [
    "print_name(your_name ='Jane',my_name ='Tom' )"
   ]
  },
  {
   "cell_type": "markdown",
   "id": "d86266d6",
   "metadata": {},
   "source": [
    "디폴드 벨류 정해주기  \n",
    "디폴트 주면 리버스가 True아니면 false"
   ]
  },
  {
   "cell_type": "code",
   "execution_count": 23,
   "id": "0b296700",
   "metadata": {},
   "outputs": [],
   "source": [
    "def print_name(my_name, your_name='Jane'):\n",
    "    print('Hello {0}, my name is {1}' . format(your_name, my_name))"
   ]
  },
  {
   "cell_type": "code",
   "execution_count": 24,
   "id": "5e09779d",
   "metadata": {},
   "outputs": [
    {
     "name": "stdout",
     "output_type": "stream",
     "text": [
      "Hello Jane, my name is Tom\n"
     ]
    }
   ],
   "source": [
    "print_name('Tom', 'Jane')"
   ]
  },
  {
   "cell_type": "code",
   "execution_count": 25,
   "id": "e1d9ca99",
   "metadata": {},
   "outputs": [
    {
     "name": "stdout",
     "output_type": "stream",
     "text": [
      "Hello Jane, my name is Tom\n"
     ]
    }
   ],
   "source": [
    "print_name('Tom')"
   ]
  },
  {
   "cell_type": "code",
   "execution_count": 26,
   "id": "eb580e0b",
   "metadata": {},
   "outputs": [
    {
     "name": "stdout",
     "output_type": "stream",
     "text": [
      "Hello Kate, my name is Tom\n"
     ]
    }
   ],
   "source": [
    "print_name('Tom', 'Kate')"
   ]
  },
  {
   "cell_type": "markdown",
   "id": "b883a1d1",
   "metadata": {},
   "source": [
    "디폴드 값은 뒤에서 부터 줄수있다 앞에서 부터는 못준다"
   ]
  },
  {
   "cell_type": "code",
   "execution_count": 28,
   "id": "c2d26495",
   "metadata": {},
   "outputs": [
    {
     "ename": "SyntaxError",
     "evalue": "non-default argument follows default argument (1423261159.py, line 1)",
     "output_type": "error",
     "traceback": [
      "\u001b[0;36m  Cell \u001b[0;32mIn[28], line 1\u001b[0;36m\u001b[0m\n\u001b[0;31m    def print_name(my_name = 'Tom', your_name):\u001b[0m\n\u001b[0m                                             ^\u001b[0m\n\u001b[0;31mSyntaxError\u001b[0m\u001b[0;31m:\u001b[0m non-default argument follows default argument\n"
     ]
    }
   ],
   "source": [
    "def print_name(my_name = 'Tom', your_name):\n",
    "    print('Hello {0}, my name is {1}' . format(your_name, my_name))"
   ]
  },
  {
   "cell_type": "markdown",
   "id": "c78c3b79",
   "metadata": {},
   "source": []
  },
  {
   "cell_type": "code",
   "execution_count": 12,
   "id": "150220ba",
   "metadata": {},
   "outputs": [
    {
     "name": "stdout",
     "output_type": "stream",
     "text": [
      "uoy evol I\n"
     ]
    }
   ],
   "source": [
    "sentence = 'I love you'\n",
    "reverse_sentence = ''\n",
    "for char in sentence:\n",
    "    reverse_sentence = char + reverse_sentence\n",
    "print(reverse_sentence)"
   ]
  },
  {
   "cell_type": "code",
   "execution_count": 15,
   "id": "039685e3",
   "metadata": {},
   "outputs": [
    {
     "name": "stdout",
     "output_type": "stream",
     "text": [
      "BLACK LIVES MATTER\n",
      "black lives matter\n",
      "Black Lives Matter\n",
      "Black lives matter\n",
      "2\n",
      "True\n",
      "True\n"
     ]
    }
   ],
   "source": [
    "s = \"BLACK LIVES MATTER\"\n",
    "print(s.upper()) # 대문자\n",
    "print(s.lower()) # 소문자\n",
    "print(s.title()) # 제목 \n",
    "print(s.capitalize()) # 첫글자만 대문자\n",
    "print(s.count(\"T\")) # 갯수 출력\n",
    "print(s.startswith(\"B\")) # 처음 시작하는 문자 부울\n",
    "\n",
    "k = \"123\"\n",
    "print(k.isdigit()) # 숫자인지 판별"
   ]
  },
  {
   "cell_type": "code",
   "execution_count": 32,
   "id": "abf41606",
   "metadata": {},
   "outputs": [
    {
     "name": "stdout",
     "output_type": "stream",
     "text": [
      "1 2 3\n",
      "1 2 3\n",
      "abc--def--ghi\n",
      "abc def ghi\n",
      "def abc ghi\n",
      "def abc ghi\n",
      "    python\n",
      "python    \n",
      "    python\n",
      "python    \n"
     ]
    }
   ],
   "source": [
    "print(1, 2, 3)\n",
    "print(\"%d %d %d\" %(1, 2, 3))   # C언어\n",
    "print(\"%s--%s--%s\" %('abc','def', 'ghi')) # C언어\n",
    "print(\"{} {} {}\".format('abc', 'def', 'ghi')) # 인덱스\n",
    "print(\"{1} {0} {2}\".format('abc', 'def', 'ghi')) # 인덱스\n",
    "print(f\"{'def'} {'abc'} {'ghi'}\") # 인덱스 빼고 바로 찍어줌 'f'를 사용\n",
    "print(\"{0:>10s}\".format('python')) # 10칸 잡아서 오른쪽 정렬\n",
    "print(\"{0:<10s}\".format('python')) # 10칸 잡아서 왼쪽 정렬\n",
    "print(f\"{'python':>10s}\")\n",
    "print(f\"{'python':<10s}\")"
   ]
  },
  {
   "cell_type": "code",
   "execution_count": 36,
   "id": "970a031f",
   "metadata": {},
   "outputs": [
    {
     "name": "stdout",
     "output_type": "stream",
     "text": [
      "['zero', 'one', 'two', 'three']\n"
     ]
    }
   ],
   "source": [
    "items = 'zero one two three'.split() # 띄어쓰기 인식해서 list에 담아줌\n",
    "print(items) "
   ]
  },
  {
   "cell_type": "code",
   "execution_count": 39,
   "id": "7a589804",
   "metadata": {},
   "outputs": [
    {
     "name": "stdout",
     "output_type": "stream",
     "text": [
      "['python', 'javascript', 'sql']\n"
     ]
    }
   ],
   "source": [
    "examples = 'python,javascript,sql' \n",
    "print(examples.split(',')) # ',' 주면 ,로 구별해라"
   ]
  },
  {
   "cell_type": "code",
   "execution_count": 43,
   "id": "bfd92fc4",
   "metadata": {},
   "outputs": [
    {
     "name": "stdout",
     "output_type": "stream",
     "text": [
      "python sql\n"
     ]
    }
   ],
   "source": [
    "a, _, b = examples.split(',') # 언패킹 바로사용\n",
    "print(a,b)"
   ]
  },
  {
   "cell_type": "code",
   "execution_count": 44,
   "id": "8d82081d",
   "metadata": {},
   "outputs": [],
   "source": [
    "colors = ['red','blue','green','yellow']"
   ]
  },
  {
   "cell_type": "code",
   "execution_count": 47,
   "id": "ff48df00",
   "metadata": {},
   "outputs": [
    {
     "name": "stdout",
     "output_type": "stream",
     "text": [
      "redbluegreenyellow\n"
     ]
    }
   ],
   "source": [
    "result = ''.join(colors) # join은 다 붙혀줌\n",
    "print(result)"
   ]
  },
  {
   "cell_type": "code",
   "execution_count": 48,
   "id": "5daceaa1",
   "metadata": {},
   "outputs": [
    {
     "name": "stdout",
     "output_type": "stream",
     "text": [
      "red blue green yellow\n"
     ]
    }
   ],
   "source": [
    "result = ' '.join(colors) # join은 다 붙혀줌\n",
    "print(result)"
   ]
  },
  {
   "cell_type": "code",
   "execution_count": 49,
   "id": "6aaa3396",
   "metadata": {},
   "outputs": [
    {
     "name": "stdout",
     "output_type": "stream",
     "text": [
      "red,blue,green,yellow\n"
     ]
    }
   ],
   "source": [
    "result = ','.join(colors) # join은 다 붙혀줌\n",
    "print(result)"
   ]
  },
  {
   "cell_type": "code",
   "execution_count": 50,
   "id": "2c07def0",
   "metadata": {},
   "outputs": [
    {
     "name": "stdout",
     "output_type": "stream",
     "text": [
      "red_blue_green_yellow\n"
     ]
    }
   ],
   "source": [
    "result = '_'.join(colors) # join은 다 붙혀줌\n",
    "print(result)"
   ]
  },
  {
   "cell_type": "markdown",
   "id": "e1c75555",
   "metadata": {},
   "source": [
    "# 특별한 자료구조\n",
    "\n",
    "## Tuple"
   ]
  },
  {
   "cell_type": "code",
   "execution_count": 51,
   "id": "afae1208",
   "metadata": {},
   "outputs": [
    {
     "name": "stdout",
     "output_type": "stream",
     "text": [
      "(1, 2, 3, 1, 2, 3)\n"
     ]
    }
   ],
   "source": [
    "t = (1,2,3)\n",
    "print(t+t)"
   ]
  },
  {
   "cell_type": "code",
   "execution_count": 52,
   "id": "6c2236eb",
   "metadata": {},
   "outputs": [
    {
     "name": "stdout",
     "output_type": "stream",
     "text": [
      "(1, 2, 3, 1, 2, 3)\n"
     ]
    }
   ],
   "source": [
    "print(t*2)"
   ]
  },
  {
   "cell_type": "code",
   "execution_count": 55,
   "id": "a1a9c65d",
   "metadata": {},
   "outputs": [
    {
     "name": "stdout",
     "output_type": "stream",
     "text": [
      "2\n"
     ]
    }
   ],
   "source": [
    "print(t[1])"
   ]
  },
  {
   "cell_type": "code",
   "execution_count": 58,
   "id": "c9d30dda",
   "metadata": {},
   "outputs": [
    {
     "ename": "TypeError",
     "evalue": "'tuple' object does not support item assignment",
     "output_type": "error",
     "traceback": [
      "\u001b[0;31m---------------------------------------------------------------------------\u001b[0m",
      "\u001b[0;31mTypeError\u001b[0m                                 Traceback (most recent call last)",
      "Cell \u001b[0;32mIn[58], line 1\u001b[0m\n\u001b[0;32m----> 1\u001b[0m t[\u001b[38;5;241m1\u001b[39m] \u001b[38;5;241m=\u001b[39m \u001b[38;5;241m100\u001b[39m\n",
      "\u001b[0;31mTypeError\u001b[0m: 'tuple' object does not support item assignment"
     ]
    }
   ],
   "source": [
    "t[1] = 100 # 이미 만들어진 Tuple은 안 바뀜"
   ]
  },
  {
   "cell_type": "code",
   "execution_count": 59,
   "id": "19079e75",
   "metadata": {},
   "outputs": [
    {
     "name": "stdout",
     "output_type": "stream",
     "text": [
      "<class 'tuple'>\n"
     ]
    }
   ],
   "source": [
    "print(type(t))"
   ]
  },
  {
   "cell_type": "code",
   "execution_count": 60,
   "id": "4ae5f5a5",
   "metadata": {},
   "outputs": [
    {
     "name": "stdout",
     "output_type": "stream",
     "text": [
      "<class 'int'>\n"
     ]
    }
   ],
   "source": [
    "t2 = (10)\n",
    "print(type(t2))"
   ]
  },
  {
   "cell_type": "code",
   "execution_count": 61,
   "id": "f5f9de4e",
   "metadata": {},
   "outputs": [
    {
     "name": "stdout",
     "output_type": "stream",
     "text": [
      "<class 'tuple'>\n"
     ]
    }
   ],
   "source": [
    "t2 = (10,) # 원소가 하나있을때는 ',' 써줘야한다\n",
    "print(type(t2))"
   ]
  },
  {
   "cell_type": "code",
   "execution_count": 62,
   "id": "4eebaea3",
   "metadata": {},
   "outputs": [
    {
     "name": "stdout",
     "output_type": "stream",
     "text": [
      "{1, 2, 3}\n"
     ]
    }
   ],
   "source": [
    "s = set([1,2,3,1,2,3]) #중복 데이터 없어줌\n",
    "print(s)"
   ]
  },
  {
   "cell_type": "code",
   "execution_count": 65,
   "id": "31452438",
   "metadata": {},
   "outputs": [
    {
     "name": "stdout",
     "output_type": "stream",
     "text": [
      "{1, 2, 3, 4, 5, 6, 7}\n",
      "{1, 2, 3, 4, 5, 6, 7}\n",
      "{3, 4, 5}\n",
      "{3, 4, 5}\n",
      "{1, 2}\n",
      "{1, 2}\n"
     ]
    }
   ],
   "source": [
    "s1 = set([1, 2, 3, 4, 5])\n",
    "s2 = set([3, 4, 5, 6, 7])\n",
    "\n",
    "print(s1.union(s2)) # 합집합\n",
    "print(s1 | s2) # 합집합\n",
    "\n",
    "print(s1.intersection(s2)) # 교집합\n",
    "print(s1 & s2) # 교집합\n",
    "\n",
    "print(s1.difference(s2)) # 차집합\n",
    "print(s1-s2) # 차집합"
   ]
  },
  {
   "cell_type": "markdown",
   "id": "a6e48d6b",
   "metadata": {},
   "source": [
    "# Dictionary  \n",
    "키: 벨류 , 키: 벨류 ,키: 벨류 ,키: 벨류 "
   ]
  },
  {
   "cell_type": "code",
   "execution_count": 66,
   "id": "ad5ea505",
   "metadata": {},
   "outputs": [],
   "source": [
    "student_info = {20190001:'Tom', 20190002:'Jane', 20190003:'Mike', 20190004:'Jessica'}"
   ]
  },
  {
   "cell_type": "code",
   "execution_count": 67,
   "id": "1701736b",
   "metadata": {},
   "outputs": [
    {
     "name": "stdout",
     "output_type": "stream",
     "text": [
      "Tom\n"
     ]
    }
   ],
   "source": [
    "print(student_info[20190001])"
   ]
  },
  {
   "cell_type": "code",
   "execution_count": 79,
   "id": "887836cc",
   "metadata": {},
   "outputs": [
    {
     "name": "stdout",
     "output_type": "stream",
     "text": [
      "{20190001: 'Kate', 20190002: 'Jane', 20190003: 'Mike', 20190004: 'Jessica'}\n"
     ]
    }
   ],
   "source": [
    "student_info[20190001] = 'Kate'\n",
    "print(student_info)"
   ]
  },
  {
   "cell_type": "code",
   "execution_count": 73,
   "id": "e3bd37d1",
   "metadata": {},
   "outputs": [
    {
     "name": "stdout",
     "output_type": "stream",
     "text": [
      "{'USA': 1, 'Korea': 82, 'China': 86, 'Malaysia': 60}\n",
      "dict_keys(['USA', 'Korea', 'China', 'Malaysia'])\n",
      "{'USA': 1, 'Korea': 82, 'China': 86, 'Malaysia': 60, 'German': 49}\n",
      "dict_values([1, 82, 86, 60, 49])\n",
      "dict_items([('USA', 1), ('Korea', 82), ('China', 86), ('Malaysia', 60), ('German', 49)])\n",
      "\n",
      "Key: USA\n",
      "Value: 1\n",
      "Key: Korea\n",
      "Value: 82\n",
      "Key: China\n",
      "Value: 86\n",
      "Key: Malaysia\n",
      "Value: 60\n",
      "Key: German\n",
      "Value: 49\n",
      "True\n",
      "False\n"
     ]
    }
   ],
   "source": [
    "country_code = {'USA':1, 'Korea':82, 'China':86, 'Malaysia':60}\n",
    "print(country_code)     # 키:벨류 다 출력\n",
    "\n",
    "print(country_code.keys()) # 키 값만 출력\n",
    "\n",
    "country_code['German'] = 49\n",
    "print(country_code) # 키:밸류 추가\n",
    "\n",
    "print(country_code.values()) # 벨류만 출력\n",
    "print(country_code.items()) # 키:벨류를 각각의 리스트로 만들어줌\n",
    "print()\n",
    "\n",
    "for k, v in country_code.items():  # 튜플로 바로 언팩킹\n",
    "    print('Key:', k)\n",
    "    print('Value:', v)\n",
    "\n",
    "print('Korea' in country_code.keys()) # 값이 존재하면 부울로 표현\n",
    "print(85 in country_code.values())  # 값이 존재하면 부울로 표현"
   ]
  },
  {
   "cell_type": "code",
   "execution_count": 78,
   "id": "bad4a39c",
   "metadata": {},
   "outputs": [
    {
     "name": "stdout",
     "output_type": "stream",
     "text": [
      "USA 1\n",
      "Korea 82\n",
      "China 86\n",
      "Malaysia 60\n",
      "German 49\n"
     ]
    }
   ],
   "source": [
    "for k,v in country_code.items(): # 투플을 바로 언팩킹한다.\n",
    "    print(k,v)"
   ]
  },
  {
   "cell_type": "code",
   "execution_count": 80,
   "id": "17f5c3b2",
   "metadata": {},
   "outputs": [],
   "source": [
    "from collections import OrderedDict"
   ]
  },
  {
   "cell_type": "markdown",
   "id": "9e902674",
   "metadata": {},
   "source": [
    "나중에 합시다"
   ]
  },
  {
   "cell_type": "code",
   "execution_count": 81,
   "id": "07d2be5a",
   "metadata": {},
   "outputs": [
    {
     "name": "stdout",
     "output_type": "stream",
     "text": [
      "{'x': 100, 'y': 200, 'z': 300, 'a': 400}\n"
     ]
    }
   ],
   "source": [
    "d = dict()\n",
    "d['x'] = 100\n",
    "d['y'] = 200\n",
    "d['z'] = 300\n",
    "d['a'] = 400\n",
    "print(d)"
   ]
  },
  {
   "cell_type": "markdown",
   "id": "e7c49c56",
   "metadata": {},
   "source": [
    "익명구현 객체를 표현하기 위해 람다 채용 : 자바  \n",
    "익명구현 함수를 표현하기 위해 람다 채용 : 파이썬 "
   ]
  },
  {
   "cell_type": "code",
   "execution_count": 82,
   "id": "4ac778b8",
   "metadata": {},
   "outputs": [],
   "source": [
    "def f(x,y):\n",
    "    return x+y"
   ]
  },
  {
   "cell_type": "code",
   "execution_count": 85,
   "id": "c2e0826e",
   "metadata": {},
   "outputs": [
    {
     "name": "stdout",
     "output_type": "stream",
     "text": [
      "5\n"
     ]
    }
   ],
   "source": [
    "print(f(1,4))"
   ]
  },
  {
   "cell_type": "code",
   "execution_count": 86,
   "id": "70d641f6",
   "metadata": {},
   "outputs": [
    {
     "name": "stdout",
     "output_type": "stream",
     "text": [
      "5\n"
     ]
    }
   ],
   "source": [
    "f1 = lambda x,y : x+y  # 파이썬은 제약사항이 있다 한줄뿐이 사용 못한다.\n",
    "print(f1(1,4))"
   ]
  },
  {
   "cell_type": "code",
   "execution_count": 88,
   "id": "705ed42e",
   "metadata": {},
   "outputs": [
    {
     "name": "stdout",
     "output_type": "stream",
     "text": [
      "5\n"
     ]
    }
   ],
   "source": [
    "print((lambda x,y : x+y)(1,4)) # 변수 안 거치고 사용가능"
   ]
  },
  {
   "cell_type": "code",
   "execution_count": 89,
   "id": "1bc83c24",
   "metadata": {},
   "outputs": [
    {
     "name": "stdout",
     "output_type": "stream",
     "text": [
      "3\n",
      "\n",
      "2\n"
     ]
    }
   ],
   "source": [
    "f = lambda n, m: n if n%2 == 0 else m\n",
    "print(f(1, 3))\n",
    "print()\n",
    "print(f(2, 3))"
   ]
  },
  {
   "cell_type": "code",
   "execution_count": 94,
   "id": "dfc44707",
   "metadata": {},
   "outputs": [
    {
     "name": "stdout",
     "output_type": "stream",
     "text": [
      "True\n",
      "False\n"
     ]
    }
   ],
   "source": [
    "def makeFunc(n):\n",
    "    return lambda a : a % n == 1 # 함수를 제작해서 리턴 해줌\n",
    "\n",
    "isOdd = makeFunc(2) # lambda a : a % 2 == 1 ,함수를 만들어주는 것\n",
    "print(isOdd(3))  # 함수를 호출 할때만 값을 넣을 수 있다.\n",
    "print(isOdd(4))"
   ]
  },
  {
   "cell_type": "code",
   "execution_count": 106,
   "id": "c066410e",
   "metadata": {},
   "outputs": [],
   "source": [
    "# from collections import OrderedDict"
   ]
  },
  {
   "cell_type": "code",
   "execution_count": 96,
   "id": "a18ca7a9",
   "metadata": {},
   "outputs": [
    {
     "name": "stdout",
     "output_type": "stream",
     "text": [
      "{'x': 100, 'y': 200, 'z': 300, 'a': 400}\n"
     ]
    }
   ],
   "source": [
    "d = dict()\n",
    "d['x'] = 100\n",
    "d['y'] = 200\n",
    "d['z'] = 300\n",
    "d['a'] = 400\n",
    "print(d)"
   ]
  },
  {
   "cell_type": "code",
   "execution_count": 97,
   "id": "bff9e9d3",
   "metadata": {},
   "outputs": [],
   "source": [
    "def first_out(x):\n",
    "    return x[0]"
   ]
  },
  {
   "cell_type": "code",
   "execution_count": 98,
   "id": "38796c7c",
   "metadata": {},
   "outputs": [],
   "source": [
    "od = OrderedDict(sorted(d.items()),key=first_out)"
   ]
  },
  {
   "cell_type": "code",
   "execution_count": 99,
   "id": "f9891f10",
   "metadata": {},
   "outputs": [
    {
     "name": "stdout",
     "output_type": "stream",
     "text": [
      "OrderedDict([('a', 400), ('x', 100), ('y', 200), ('z', 300), ('key', <function first_out at 0x7fbc74e3e430>)])\n"
     ]
    }
   ],
   "source": [
    "print(od)"
   ]
  },
  {
   "cell_type": "code",
   "execution_count": 101,
   "id": "4a3b83b7",
   "metadata": {},
   "outputs": [
    {
     "name": "stdout",
     "output_type": "stream",
     "text": [
      "OrderedDict([('a', 400), ('x', 100), ('y', 200), ('z', 300)])\n"
     ]
    }
   ],
   "source": [
    "od = OrderedDict(sorted(d.items(),key=lambda x:x[0])) #키 순서대로\n",
    "print(od)"
   ]
  },
  {
   "cell_type": "code",
   "execution_count": 103,
   "id": "bc30d527",
   "metadata": {},
   "outputs": [
    {
     "name": "stdout",
     "output_type": "stream",
     "text": [
      "OrderedDict([('x', 100), ('y', 200), ('z', 300), ('a', 400)])\n"
     ]
    }
   ],
   "source": [
    "od = OrderedDict(sorted(d.items(),key=lambda x:x[1])) #벨류 순서대로\n",
    "print(od)"
   ]
  },
  {
   "cell_type": "code",
   "execution_count": 105,
   "id": "5057ab2b",
   "metadata": {},
   "outputs": [
    {
     "name": "stdout",
     "output_type": "stream",
     "text": [
      "OrderedDict([('a', 400), ('z', 300), ('y', 200), ('x', 100)])\n"
     ]
    }
   ],
   "source": [
    "od = OrderedDict(sorted(d.items(),key=lambda x:x[1], reverse = True)) #내림차순으로 정렬\n",
    "print(od)"
   ]
  },
  {
   "cell_type": "markdown",
   "id": "39db82cf",
   "metadata": {},
   "source": [
    " k"
   ]
  },
  {
   "cell_type": "markdown",
   "id": "a0e006af",
   "metadata": {},
   "source": [
    "   \n",
    " Defaultdict 값이 존재하지 않아도 만들어서 실행 try: except 알아서 해줌"
   ]
  },
  {
   "cell_type": "code",
   "execution_count": 114,
   "id": "1b3dc3cb",
   "metadata": {},
   "outputs": [
    {
     "ename": "KeyError",
     "evalue": "'yellow'",
     "output_type": "error",
     "traceback": [
      "\u001b[0;31m---------------------------------------------------------------------------\u001b[0m",
      "\u001b[0;31mKeyError\u001b[0m                                  Traceback (most recent call last)",
      "Cell \u001b[0;32mIn[114], line 4\u001b[0m\n\u001b[1;32m      2\u001b[0m d \u001b[38;5;241m=\u001b[39m \u001b[38;5;28mdict\u001b[39m()\n\u001b[1;32m      3\u001b[0m \u001b[38;5;28;01mfor\u001b[39;00m k, v \u001b[38;5;129;01min\u001b[39;00m s:\n\u001b[0;32m----> 4\u001b[0m     \u001b[43md\u001b[49m\u001b[43m[\u001b[49m\u001b[43mk\u001b[49m\u001b[43m]\u001b[49m\u001b[38;5;241m.\u001b[39mappend(v)\n",
      "\u001b[0;31mKeyError\u001b[0m: 'yellow'"
     ]
    }
   ],
   "source": [
    "s = [('yellow', 1), ('blue', 2), ('yellow', 3), ('blue', 4), ('red', 5)]\n",
    "d = dict()\n",
    "for k, v in s:\n",
    "    d[k].append(v) # k값이 존재해야지 append로 들어갈수 있음"
   ]
  },
  {
   "cell_type": "code",
   "execution_count": 115,
   "id": "decaf7cd",
   "metadata": {},
   "outputs": [],
   "source": [
    "s = [('yellow', 1), ('blue', 2), ('yellow', 3), ('blue', 4), ('red', 5)]\n",
    "d = dict()\n",
    "for k, v in s:\n",
    "    try:\n",
    "        d[k].append(v) # k값이 존재해야지 append로 들어갈수 있음\n",
    "    except KeyError:\n",
    "        d[k] = list()\n",
    "        d[k].append(v)\n"
   ]
  },
  {
   "cell_type": "code",
   "execution_count": 116,
   "id": "236bdde5",
   "metadata": {},
   "outputs": [
    {
     "name": "stdout",
     "output_type": "stream",
     "text": [
      "{'yellow': [1, 3], 'blue': [2, 4], 'red': [5]}\n"
     ]
    }
   ],
   "source": [
    "print(d)"
   ]
  },
  {
   "cell_type": "code",
   "execution_count": 117,
   "id": "3ab15900",
   "metadata": {},
   "outputs": [],
   "source": [
    "from collections import defaultdict"
   ]
  },
  {
   "cell_type": "code",
   "execution_count": 118,
   "id": "4acb9a33",
   "metadata": {},
   "outputs": [],
   "source": [
    "d = defaultdict(list)\n",
    "for k, v in s:\n",
    "    d[k].append(v)"
   ]
  },
  {
   "cell_type": "code",
   "execution_count": 119,
   "id": "41a116e1",
   "metadata": {},
   "outputs": [
    {
     "name": "stdout",
     "output_type": "stream",
     "text": [
      "defaultdict(<class 'list'>, {'yellow': [1, 3], 'blue': [2, 4], 'red': [5]})\n"
     ]
    }
   ],
   "source": [
    "print(d)"
   ]
  },
  {
   "cell_type": "code",
   "execution_count": 121,
   "id": "85ff3978",
   "metadata": {},
   "outputs": [
    {
     "name": "stdout",
     "output_type": "stream",
     "text": [
      "dict_items([('yellow', [1, 3]), ('blue', [2, 4]), ('red', [5])])\n"
     ]
    }
   ],
   "source": [
    "print(d.items())  # 함수 호출해서 기본 값으로 만들어준다"
   ]
  },
  {
   "cell_type": "code",
   "execution_count": 123,
   "id": "7725f5f6",
   "metadata": {},
   "outputs": [
    {
     "name": "stdout",
     "output_type": "stream",
     "text": [
      "100\n"
     ]
    }
   ],
   "source": [
    "d = defaultdict(lambda : 100) #100을 디폴트로 넣고 싶으면 람다를 사용하면됨\n",
    "print(d['name'])"
   ]
  },
  {
   "cell_type": "markdown",
   "id": "3b33e1fb",
   "metadata": {},
   "source": [
    "# 연습  "
   ]
  },
  {
   "cell_type": "code",
   "execution_count": 125,
   "id": "fcf1b634",
   "metadata": {},
   "outputs": [],
   "source": [
    "text = \"\"\"A press release is the quickest and easiest way to get free publicity. If\n",
    " well written, a press release can result in multiple published articles about your \n",
    "firm and its products. And that can mean new prospects contacting you \n",
    "asking you to sell to them. ….\"\"\".lower().split()"
   ]
  },
  {
   "cell_type": "code",
   "execution_count": 126,
   "id": "f535617b",
   "metadata": {},
   "outputs": [
    {
     "name": "stdout",
     "output_type": "stream",
     "text": [
      "['a', 'press', 'release', 'is', 'the', 'quickest', 'and', 'easiest', 'way', 'to', 'get', 'free', 'publicity.', 'if', 'well', 'written,', 'a', 'press', 'release', 'can', 'result', 'in', 'multiple', 'published', 'articles', 'about', 'your', 'firm', 'and', 'its', 'products.', 'and', 'that', 'can', 'mean', 'new', 'prospects', 'contacting', 'you', 'asking', 'you', 'to', 'sell', 'to', 'them.', '….']\n"
     ]
    }
   ],
   "source": [
    "print(text)"
   ]
  },
  {
   "cell_type": "code",
   "execution_count": 182,
   "id": "5d8aba96",
   "metadata": {},
   "outputs": [
    {
     "name": "stdout",
     "output_type": "stream",
     "text": [
      "dict_items([('a', 2), ('press', 2), ('release', 2), ('is', 1), ('the', 1), ('quickest', 1), ('and', 3), ('easiest', 1), ('way', 1), ('to', 3), ('get', 1), ('free', 1), ('publicity.', 1), ('if', 1), ('well', 1), ('written,', 1), ('can', 2), ('result', 1), ('in', 1), ('multiple', 1), ('published', 1), ('articles', 1), ('about', 1), ('your', 1), ('firm', 1), ('its', 1), ('products.', 1), ('that', 1), ('mean', 1), ('new', 1), ('prospects', 1), ('contacting', 1), ('you', 2), ('asking', 1), ('sell', 1), ('them.', 1), ('….', 1)])\n"
     ]
    }
   ],
   "source": [
    "word_count = defaultdict(lambda: 0)\n",
    "for word in text:\n",
    "    word_count[word] += 1\n",
    "    \n",
    "print(word_count.items())"
   ]
  },
  {
   "cell_type": "code",
   "execution_count": 183,
   "id": "27de9252",
   "metadata": {},
   "outputs": [
    {
     "name": "stdout",
     "output_type": "stream",
     "text": [
      "OrderedDict([('and', 3), ('to', 3), ('a', 2), ('press', 2), ('release', 2), ('can', 2), ('you', 2), ('is', 1), ('the', 1), ('quickest', 1), ('easiest', 1), ('way', 1), ('get', 1), ('free', 1), ('publicity.', 1), ('if', 1), ('well', 1), ('written,', 1), ('result', 1), ('in', 1), ('multiple', 1), ('published', 1), ('articles', 1), ('about', 1), ('your', 1), ('firm', 1), ('its', 1), ('products.', 1), ('that', 1), ('mean', 1), ('new', 1), ('prospects', 1), ('contacting', 1), ('asking', 1), ('sell', 1), ('them.', 1), ('….', 1)])\n"
     ]
    }
   ],
   "source": [
    "# 내가 한거\n",
    "od = OrderedDict(sorted(word_count.items(),key=lambda x:x[1], reverse = True))\n",
    "print(od)"
   ]
  },
  {
   "cell_type": "code",
   "execution_count": 184,
   "id": "5bd26552",
   "metadata": {},
   "outputs": [
    {
     "name": "stdout",
     "output_type": "stream",
     "text": [
      "and 3\n",
      "to 3\n",
      "a 2\n",
      "press 2\n",
      "release 2\n",
      "can 2\n",
      "you 2\n",
      "is 1\n",
      "the 1\n",
      "quickest 1\n",
      "easiest 1\n",
      "way 1\n",
      "get 1\n",
      "free 1\n",
      "publicity. 1\n",
      "if 1\n",
      "well 1\n",
      "written, 1\n",
      "result 1\n",
      "in 1\n",
      "multiple 1\n",
      "published 1\n",
      "articles 1\n",
      "about 1\n",
      "your 1\n",
      "firm 1\n",
      "its 1\n",
      "products. 1\n",
      "that 1\n",
      "mean 1\n",
      "new 1\n",
      "prospects 1\n",
      "contacting 1\n",
      "asking 1\n",
      "sell 1\n",
      "them. 1\n",
      "…. 1\n"
     ]
    }
   ],
   "source": [
    "# 선생님이 알려주신거\n",
    "for k, v in OrderedDict(sorted(word_count.items(), key=lambda t: t[1], reverse=True)).items():\n",
    "    print(k, v)"
   ]
  },
  {
   "cell_type": "markdown",
   "id": "644e0e3a",
   "metadata": {},
   "source": [
    "### List  Comprehension"
   ]
  },
  {
   "cell_type": "code",
   "execution_count": 185,
   "id": "918158b0",
   "metadata": {},
   "outputs": [
    {
     "name": "stdout",
     "output_type": "stream",
     "text": [
      "[0, 1, 2, 3, 4, 5, 6, 7, 8, 9]\n"
     ]
    }
   ],
   "source": [
    "result = []\n",
    "for i in range(10):\n",
    "    result.append(i)\n",
    "    \n",
    "print(result)"
   ]
  },
  {
   "cell_type": "code",
   "execution_count": 186,
   "id": "21dc307f",
   "metadata": {},
   "outputs": [
    {
     "name": "stdout",
     "output_type": "stream",
     "text": [
      "[0, 1, 2, 3, 4, 5, 6, 7, 8, 9]\n"
     ]
    }
   ],
   "source": [
    "result = [i for i in range(10)] #0-9 까지 추가 , 내부적으로 성능이 좋음\n",
    "print(result)"
   ]
  },
  {
   "cell_type": "code",
   "execution_count": 187,
   "id": "ccc8158e",
   "metadata": {},
   "outputs": [
    {
     "name": "stdout",
     "output_type": "stream",
     "text": [
      "[0, 2, 4, 6, 8]\n"
     ]
    }
   ],
   "source": [
    "result = []\n",
    "for i in range(10):\n",
    "    if i % 2 == 0:\n",
    "        result.append(i)\n",
    "    \n",
    "print(result)"
   ]
  },
  {
   "cell_type": "code",
   "execution_count": 190,
   "id": "0f1b3ca0",
   "metadata": {},
   "outputs": [
    {
     "name": "stdout",
     "output_type": "stream",
     "text": [
      "[0, 2, 4, 6, 8]\n"
     ]
    }
   ],
   "source": [
    "result = [i for i in range(10) if i %2 ==0] # if저거 일때만 적용하겠다\n",
    "print(result)"
   ]
  },
  {
   "cell_type": "code",
   "execution_count": 191,
   "id": "d99656a9",
   "metadata": {},
   "outputs": [
    {
     "name": "stdout",
     "output_type": "stream",
     "text": [
      "[0, 99, 2, 99, 4, 99, 6, 99, 8, 99]\n"
     ]
    }
   ],
   "source": [
    "result = []\n",
    "for i in range(10):\n",
    "    if i % 2 == 0:\n",
    "        result.append(i)\n",
    "    else:\n",
    "        result.append(99)\n",
    "    \n",
    "print(result)"
   ]
  },
  {
   "cell_type": "code",
   "execution_count": 204,
   "id": "4f397ae6",
   "metadata": {},
   "outputs": [
    {
     "name": "stdout",
     "output_type": "stream",
     "text": [
      "[0, 99, 2, 99, 4, 99, 6, 99, 8, 99]\n"
     ]
    }
   ],
   "source": [
    "result = [i if i %2 ==0 else 99 for i in range(10)] # else 가 있으면 for문 앞으로 끄집어내야한다.\n",
    "print(result)"
   ]
  },
  {
   "cell_type": "code",
   "execution_count": 207,
   "id": "448ed4b1",
   "metadata": {},
   "outputs": [
    {
     "name": "stdout",
     "output_type": "stream",
     "text": [
      "['HW', 'Ho', 'Hr', 'Hl', 'Hd', 'eW', 'eo', 'er', 'el', 'ed', 'lW', 'lo', 'lr', 'll', 'ld', 'lW', 'lo', 'lr', 'll', 'ld', 'oW', 'oo', 'or', 'ol', 'od']\n"
     ]
    }
   ],
   "source": [
    "result = []\n",
    "word1 = 'Hello'\n",
    "word2 = 'World'\n",
    "for i in word1:\n",
    "    for k in word2:\n",
    "        result.append(i+k)\n",
    "        \n",
    "print(result)"
   ]
  },
  {
   "cell_type": "code",
   "execution_count": 208,
   "id": "a4700ce9",
   "metadata": {},
   "outputs": [
    {
     "name": "stdout",
     "output_type": "stream",
     "text": [
      "['HW', 'Ho', 'Hr', 'Hl', 'Hd', 'eW', 'eo', 'er', 'el', 'ed', 'lW', 'lo', 'lr', 'll', 'ld', 'lW', 'lo', 'lr', 'll', 'ld', 'oW', 'oo', 'or', 'ol', 'od']\n"
     ]
    }
   ],
   "source": [
    "result = [i + j for i in word1 for j in word2]  # 안에 쓰고 밖에쓴다\n",
    "print(result)"
   ]
  },
  {
   "cell_type": "code",
   "execution_count": 209,
   "id": "27756e04",
   "metadata": {},
   "outputs": [],
   "source": [
    "case1 = ['A', 'B', 'C']\n",
    "case2 = ['A', 'B', 'C']"
   ]
  },
  {
   "cell_type": "code",
   "execution_count": 210,
   "id": "fc1f2118",
   "metadata": {},
   "outputs": [
    {
     "name": "stdout",
     "output_type": "stream",
     "text": [
      "['AB', 'AC', 'BA', 'BC', 'CA', 'CB']\n"
     ]
    }
   ],
   "source": [
    "result = []\n",
    "for i in case1:\n",
    "    for j in case2:\n",
    "        if i != j:\n",
    "            result.append(i+j)\n",
    "\n",
    "print(result)"
   ]
  },
  {
   "cell_type": "code",
   "execution_count": 212,
   "id": "0a298676",
   "metadata": {},
   "outputs": [
    {
     "name": "stdout",
     "output_type": "stream",
     "text": [
      "['AB', 'AC', 'BA', 'BC', 'CA', 'CB']\n"
     ]
    }
   ],
   "source": [
    "result = [ i + j for i in case1 for j in case2 if i != j]\n",
    "print(result)"
   ]
  },
  {
   "cell_type": "code",
   "execution_count": 218,
   "id": "46ed73f9",
   "metadata": {},
   "outputs": [
    {
     "name": "stdout",
     "output_type": "stream",
     "text": [
      "tic\n",
      "tac\n",
      "toe\n"
     ]
    }
   ],
   "source": [
    "\n",
    "for v in ['tic','tac','toe']:  # 값에 인덱스가 필요한 경우???\n",
    "    print(v)"
   ]
  },
  {
   "cell_type": "code",
   "execution_count": 217,
   "id": "01a85551",
   "metadata": {},
   "outputs": [
    {
     "name": "stdout",
     "output_type": "stream",
     "text": [
      "0 tic\n",
      "1 tac\n",
      "2 toe\n"
     ]
    }
   ],
   "source": [
    "## 요긴하게 쓸거\n",
    "for i,v in enumerate(['tic','tac','toe']):  # 값에 인덱스가 필요한 경우\n",
    "    print(i,v)"
   ]
  },
  {
   "cell_type": "code",
   "execution_count": null,
   "id": "2bc55d71",
   "metadata": {},
   "outputs": [],
   "source": []
  }
 ],
 "metadata": {
  "kernelspec": {
   "display_name": "Python 3 (ipykernel)",
   "language": "python",
   "name": "python3"
  },
  "language_info": {
   "codemirror_mode": {
    "name": "ipython",
    "version": 3
   },
   "file_extension": ".py",
   "mimetype": "text/x-python",
   "name": "python",
   "nbconvert_exporter": "python",
   "pygments_lexer": "ipython3",
   "version": "3.9.16"
  }
 },
 "nbformat": 4,
 "nbformat_minor": 5
}
