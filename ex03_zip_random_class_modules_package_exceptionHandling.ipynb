{
 "cells": [
  {
   "cell_type": "markdown",
   "id": "15f09c26",
   "metadata": {},
   "source": [
    "## zip"
   ]
  },
  {
   "cell_type": "code",
   "execution_count": 15,
   "id": "5540fc1b",
   "metadata": {},
   "outputs": [],
   "source": [
    "# 요긴하게 써먹을 꺼\n",
    "alist = ['a1', 'a2', 'a3']\n",
    "blist = ['b1', 'b2', 'b3', 'b4']"
   ]
  },
  {
   "cell_type": "code",
   "execution_count": 16,
   "id": "3c194d06",
   "metadata": {},
   "outputs": [
    {
     "name": "stdout",
     "output_type": "stream",
     "text": [
      "a1 b1\n",
      "a2 b2\n",
      "a3 b3\n"
     ]
    }
   ],
   "source": [
    "for a, b in  zip(alist, blist): \n",
    "    print(a,b)"
   ]
  },
  {
   "cell_type": "code",
   "execution_count": 5,
   "id": "83d20bbd",
   "metadata": {},
   "outputs": [
    {
     "name": "stdout",
     "output_type": "stream",
     "text": [
      "a1 b1 apple\n",
      "a2 b2 mango\n",
      "a3 b3 cherry\n"
     ]
    }
   ],
   "source": [
    "# 요긴하게 써먹을 꺼\n",
    "\n",
    "alist = ['a1', 'a2', 'a3']\n",
    "blist = ['b1', 'b2', 'b3', 'b4']\n",
    "clist = ['apple','mango','cherry']\n",
    "\n",
    "for a, b, c in  zip(alist, blist, clist): # zip은 같은 인덱스는 묶이고 나머지 인덱스는 탈락\n",
    "    print(a,b,c)"
   ]
  },
  {
   "cell_type": "code",
   "execution_count": 7,
   "id": "0896709e",
   "metadata": {},
   "outputs": [
    {
     "name": "stdout",
     "output_type": "stream",
     "text": [
      "(1, 10, 100) (2, 20, 200) (3, 30, 300)\n"
     ]
    }
   ],
   "source": [
    "a, b, c, = zip((1,2,3),(10,20,30),(100,200,300))\n",
    "print(a,b,c)"
   ]
  },
  {
   "cell_type": "code",
   "execution_count": 9,
   "id": "0d9d77ba",
   "metadata": {},
   "outputs": [
    {
     "name": "stdout",
     "output_type": "stream",
     "text": [
      "[111, 222, 333]\n"
     ]
    }
   ],
   "source": [
    "result = [sum(x) for x in  zip((1,2,3),(10,20,30),(100,200,300))]\n",
    "print(result) # sum과 for문 한줄로 출력하기"
   ]
  },
  {
   "cell_type": "markdown",
   "id": "5c2484f1",
   "metadata": {},
   "source": [
    "### Random"
   ]
  },
  {
   "cell_type": "code",
   "execution_count": 10,
   "id": "0d382154",
   "metadata": {},
   "outputs": [],
   "source": [
    "import random"
   ]
  },
  {
   "cell_type": "code",
   "execution_count": 12,
   "id": "db80673a",
   "metadata": {},
   "outputs": [
    {
     "name": "stdout",
     "output_type": "stream",
     "text": [
      "0.9050946945096298\n"
     ]
    }
   ],
   "source": [
    "print(random.random())"
   ]
  },
  {
   "cell_type": "code",
   "execution_count": 13,
   "id": "4f6ec30e",
   "metadata": {},
   "outputs": [
    {
     "name": "stdout",
     "output_type": "stream",
     "text": [
      "0.3760853925851626\n"
     ]
    }
   ],
   "source": [
    "print(random.random())"
   ]
  },
  {
   "cell_type": "code",
   "execution_count": 15,
   "id": "4f15b7cc",
   "metadata": {},
   "outputs": [
    {
     "name": "stdout",
     "output_type": "stream",
     "text": [
      "6\n"
     ]
    }
   ],
   "source": [
    "print(random.randrange(10))"
   ]
  },
  {
   "cell_type": "markdown",
   "id": "2005831d",
   "metadata": {},
   "source": [
    "Random seed : 변하는 값  \n",
    "가지고 seed 값(현재 시간, 기계값, 등등 time,merchine, ....) 이런것을 가지고 변하는 값 만듬"
   ]
  },
  {
   "cell_type": "code",
   "execution_count": 6,
   "id": "4f498292",
   "metadata": {},
   "outputs": [],
   "source": [
    "import random\n",
    "random.seed(10)  # seed 값을 고정해서 random하지 않게 하기"
   ]
  },
  {
   "cell_type": "code",
   "execution_count": 5,
   "id": "708aaa6b",
   "metadata": {},
   "outputs": [
    {
     "name": "stdout",
     "output_type": "stream",
     "text": [
      "0\n",
      "3\n",
      "7\n",
      "7\n",
      "4\n"
     ]
    }
   ],
   "source": [
    "for n in range(5):\n",
    "    print(random.randrange(10))"
   ]
  },
  {
   "cell_type": "markdown",
   "id": "e463b344",
   "metadata": {},
   "source": [
    "### class"
   ]
  },
  {
   "cell_type": "code",
   "execution_count": 13,
   "id": "99181cc0",
   "metadata": {},
   "outputs": [],
   "source": [
    "class SoccerPlayer:\n",
    "    #생성자 메소드 (클래스 안에 있는 것은 함수라고 안하고 메소드라 한다.)\n",
    "    #self는 들어가있고 현재 함수 파라미터는 3개이다.\n",
    "    def __init__(self, name, position, back_number):\n",
    "        self.name = name\n",
    "        self.position = position\n",
    "        self.back_number = back_number\n",
    "    #self는 this랑 같음 \n",
    "    \n",
    "    def change_back_number(self, new_number):\n",
    "        print('선수 등번호 변경 : From %d to %d' %(self.back_number ,new_number))\n",
    "        self.back_number = new_number\n",
    "    \n",
    "    def __str__(self):  # __str__은 객체를 찍을때 정해줄 수 있다.\n",
    "        return 'Hello, My name is %s. I play in %s in center.' % (self.name, self.position)"
   ]
  },
  {
   "cell_type": "markdown",
   "id": "dea33c29",
   "metadata": {},
   "source": [
    " '\\_\\_str\\_\\_' 객체를 찍어줄때 정해줄수 있다."
   ]
  },
  {
   "cell_type": "code",
   "execution_count": 17,
   "id": "883ace92",
   "metadata": {},
   "outputs": [
    {
     "name": "stdout",
     "output_type": "stream",
     "text": [
      "현재 선수의 등번호: 11\n",
      "선수 등번호 변경 : From 11 to 9\n",
      "현재 선수의 등번호: 9\n",
      "\n",
      "Hello, My name is Chaboom. I play in CF in center.\n"
     ]
    }
   ],
   "source": [
    "chaboom = SoccerPlayer(\"Chaboom\", \"CF\", 11)\n",
    "\n",
    "print(\"현재 선수의 등번호:\", chaboom.back_number)\n",
    "chaboom.change_back_number(9)\n",
    "print(\"현재 선수의 등번호:\", chaboom.back_number)\n",
    "print()\n",
    "print(chaboom)"
   ]
  },
  {
   "cell_type": "markdown",
   "id": "b6504534",
   "metadata": {},
   "source": [
    "상속"
   ]
  },
  {
   "cell_type": "code",
   "execution_count": 18,
   "id": "880586b0",
   "metadata": {},
   "outputs": [],
   "source": [
    "class Bicycle:\n",
    "    def __init__(self, wheel_size, color):\n",
    "        self.wheel_size = wheel_size\n",
    "        self.color = color\n",
    "\n",
    "    def move(self, speed):\n",
    "        print(f\"자전거 시속 {speed}킬로미터로 전진\")\n",
    "\n",
    "    def turn(self, direction):\n",
    "        print(f\"자전거: {direction}회전\")\n",
    "\n",
    "    def stop(self):\n",
    "        print(f\"자전거({self.wheel_size}, {self.color}): 정지\")"
   ]
  },
  {
   "cell_type": "code",
   "execution_count": 25,
   "id": "bb98a4b0",
   "metadata": {},
   "outputs": [],
   "source": [
    "class FoldingBicycle(Bicycle): #Bicycle에 자식 클래스는 FoldingBicycle\n",
    "    def __init__(self, wheel_size, color, state):\n",
    "        super().__init__(wheel_size, color)  #자식 클래스에서 부모 클래스 받을때 super()가 부모를 지칭\n",
    "        self.state = state\n",
    "\n",
    "    def fold(self):\n",
    "        self.state = 'folding'\n",
    "        print(f\"자전거: 접기, state = {self.state}\")\n",
    "\n",
    "    def unfold(self):\n",
    "        self.state = 'unfolding'\n",
    "        print(f\"자전거: 펴기, state = {self.state}\")"
   ]
  },
  {
   "cell_type": "code",
   "execution_count": 26,
   "id": "1f11d314",
   "metadata": {},
   "outputs": [
    {
     "name": "stdout",
     "output_type": "stream",
     "text": [
      "자전거 시속 20킬로미터로 전진\n",
      "자전거: right회전\n",
      "자전거(27, white): 정지\n",
      "자전거: 접기, state = folding\n",
      "자전거: 펴기, state = unfolding\n"
     ]
    }
   ],
   "source": [
    "folding_bicycle = FoldingBicycle(27, 'white', 'unfolding')\n",
    "folding_bicycle.move(20)\n",
    "folding_bicycle.turn('right')\n",
    "folding_bicycle.stop()\n",
    "folding_bicycle.fold()\n",
    "folding_bicycle.unfold()"
   ]
  },
  {
   "cell_type": "markdown",
   "id": "afcce10e",
   "metadata": {},
   "source": [
    "### 모듈과 패키지\n",
    "#### 모듈\n",
    "● 파이썬 프로그램 코드  \n",
    "● 상수, 변수, 함수, 클래스 등을 포함"
   ]
  },
  {
   "cell_type": "code",
   "execution_count": 5,
   "id": "2f00a3e5",
   "metadata": {},
   "outputs": [],
   "source": [
    "import fah_converter"
   ]
  },
  {
   "cell_type": "code",
   "execution_count": 2,
   "id": "60f2a727",
   "metadata": {},
   "outputs": [
    {
     "name": "stdout",
     "output_type": "stream",
     "text": [
      "Enter a celsius value:4\n",
      "It's 32.72 degrees Farenheit\n"
     ]
    }
   ],
   "source": [
    "celsius = float(input('Enter a celsius value:'))\n",
    "fahrenheit = fah_converter.converter_to_f(celsius)\n",
    "print(\"It's\",fahrenheit, \"degrees Farenheit\")"
   ]
  },
  {
   "cell_type": "code",
   "execution_count": 3,
   "id": "206d40bb",
   "metadata": {},
   "outputs": [
    {
     "name": "stdout",
     "output_type": "stream",
     "text": [
      "36.5\n"
     ]
    }
   ],
   "source": [
    "import fah_converter as fah\n",
    "print(fah.converter_to_f(25))"
   ]
  },
  {
   "cell_type": "code",
   "execution_count": 1,
   "id": "e41b6424",
   "metadata": {},
   "outputs": [
    {
     "name": "stdout",
     "output_type": "stream",
     "text": [
      "Thank for using my module!\n",
      "36.5\n"
     ]
    }
   ],
   "source": [
    "from fah_converter import converter_to_f # import해서 바로 사용 가능\n",
    "# from fah_converter import converter_to_f * # 권장 안함, 단, 내가 만들고 잘알고 있을때\n",
    "print(converter_to_f(25))"
   ]
  },
  {
   "cell_type": "markdown",
   "id": "cd73f4c5",
   "metadata": {},
   "source": [
    "#### 패키지  \n",
    "● 모듈의 묶음  \n",
    "● 모듈 파일이 포함될 폴더까지 포함"
   ]
  },
  {
   "cell_type": "code",
   "execution_count": 5,
   "id": "08431e22",
   "metadata": {},
   "outputs": [],
   "source": [
    "# 예제) 인터넷에서 주식 정보를 가져와 데이터베이스에 저장, 필요한 정보를 계산\n",
    "# 패키지 명: roboadvisor\n",
    "# ● crawling: 주식 관련 데이터를 인터넷에서 가져옴\n",
    "# ● database: 가져온 데이터를 데이터베이스에 저장\n",
    "# ● analysis: 해당 정보를 분석, 의미있는 가치 추출\n",
    "\n",
    "# my_package -- roboadvisor \t-- analysis\n",
    "#   \t\t\t\t\t\t\t-- crawling\n",
    "#   \t\t\t\t\t\t\t-- database"
   ]
  },
  {
   "cell_type": "code",
   "execution_count": 8,
   "id": "42bdd4ed",
   "metadata": {},
   "outputs": [
    {
     "name": "stdout",
     "output_type": "stream",
     "text": [
      "['/Users/jungkihun/Documents/source/python/Python_basic', '/Users/jungkihun/miniconda3/envs/py39env/lib/python39.zip', '/Users/jungkihun/miniconda3/envs/py39env/lib/python3.9', '/Users/jungkihun/miniconda3/envs/py39env/lib/python3.9/lib-dynload', '', '/Users/jungkihun/miniconda3/envs/py39env/lib/python3.9/site-packages']\n"
     ]
    }
   ],
   "source": [
    "import sys  ## 패스를 추가 해줘야한다.\n",
    "print(sys.path) ### sys는 list로 되어 있다."
   ]
  },
  {
   "cell_type": "code",
   "execution_count": 2,
   "id": "d2d26413",
   "metadata": {},
   "outputs": [
    {
     "name": "stdout",
     "output_type": "stream",
     "text": [
      "series\n"
     ]
    }
   ],
   "source": [
    "import sys\n",
    "sys.path.append('/Users/jungkihun/Documents/source/python/my_packge')\n",
    "# 1방법\n",
    "import roboadvisor.analysis.series #패키지.폴더.모듈\n",
    "roboadvisor.analysis.series.series_test()"
   ]
  },
  {
   "cell_type": "code",
   "execution_count": 5,
   "id": "b4367c5c",
   "metadata": {},
   "outputs": [
    {
     "name": "stdout",
     "output_type": "stream",
     "text": [
      "series\n"
     ]
    }
   ],
   "source": [
    "import sys\n",
    "sys.path.append('/Users/jungkihun/Documents/source/python/my_packge')\n",
    "# 2 방법 : 패키지.폴더\n",
    "from roboadvisor.analysis import series #패키지.폴더.모듈\n",
    "series.series_test()"
   ]
  },
  {
   "cell_type": "code",
   "execution_count": 6,
   "id": "61b6d0c2",
   "metadata": {},
   "outputs": [
    {
     "name": "stdout",
     "output_type": "stream",
     "text": [
      "series\n"
     ]
    }
   ],
   "source": [
    "import sys\n",
    "sys.path.append('/Users/jungkihun/Documents/source/python/my_packge')\n",
    "# 3 방법 : 패키지.폴더.모듈\n",
    "from roboadvisor.analysis.series import series_test #패키지.폴더.모듈\n",
    "series_test()"
   ]
  },
  {
   "cell_type": "code",
   "execution_count": 2,
   "id": "9efb4c40",
   "metadata": {},
   "outputs": [
    {
     "name": "stdout",
     "output_type": "stream",
     "text": [
      "series\n"
     ]
    }
   ],
   "source": [
    "import sys\n",
    "sys.path.append('/Users/jungkihun/Documents/source/python/my_packge')\n",
    "# 이것은 안되지만 되게 하는 방법이 있음, __init.py안에 __all__ = ['파일이름','파일이름'] 넣어주면 돌아간다.\n",
    "import roboadvisor\n",
    "roboadvisor.analysis.series.series_test()"
   ]
  },
  {
   "cell_type": "code",
   "execution_count": 5,
   "id": "36ccf882",
   "metadata": {},
   "outputs": [
    {
     "ename": "ModuleNotFoundError",
     "evalue": "No module named 'roboadvisor.analysis.series.series_test'; 'roboadvisor.analysis.series' is not a package",
     "output_type": "error",
     "traceback": [
      "\u001b[0;31m---------------------------------------------------------------------------\u001b[0m",
      "\u001b[0;31mModuleNotFoundError\u001b[0m                       Traceback (most recent call last)",
      "Cell \u001b[0;32mIn[5], line 4\u001b[0m\n\u001b[1;32m      2\u001b[0m sys\u001b[38;5;241m.\u001b[39mpath\u001b[38;5;241m.\u001b[39mappend(\u001b[38;5;124m'\u001b[39m\u001b[38;5;124m/Users/jungkihun/Documents/source/python/my_packge\u001b[39m\u001b[38;5;124m'\u001b[39m)\n\u001b[1;32m      3\u001b[0m \u001b[38;5;66;03m# 모듈까지만  import 할수 있고 함수가 올수없다\u001b[39;00m\n\u001b[0;32m----> 4\u001b[0m \u001b[38;5;28;01mimport\u001b[39;00m \u001b[38;5;21;01mroboadvisor\u001b[39;00m\u001b[38;5;21;01m.\u001b[39;00m\u001b[38;5;21;01manalysis\u001b[39;00m\u001b[38;5;21;01m.\u001b[39;00m\u001b[38;5;21;01mseries\u001b[39;00m\u001b[38;5;21;01m.\u001b[39;00m\u001b[38;5;21;01mseries_test\u001b[39;00m\n\u001b[1;32m      5\u001b[0m series_test()\n",
      "\u001b[0;31mModuleNotFoundError\u001b[0m: No module named 'roboadvisor.analysis.series.series_test'; 'roboadvisor.analysis.series' is not a package"
     ]
    }
   ],
   "source": [
    "import sys\n",
    "sys.path.append('/Users/jungkihun/Documents/source/python/my_packge')\n",
    "# 모듈까지만  import 할수 있고 함수가 올수없다\n",
    "import roboadvisor.analysis.series.series_test\n",
    "series_test()"
   ]
  },
  {
   "cell_type": "code",
   "execution_count": 3,
   "id": "a3cec162",
   "metadata": {},
   "outputs": [
    {
     "name": "stdout",
     "output_type": "stream",
     "text": [
      "series\n"
     ]
    }
   ],
   "source": [
    "import sys\n",
    "sys.path.append('/Users/jungkihun/Documents/source/python/my_packge')\n",
    "# 어떤 모듈을 사용할지 정의 해줘야한다. why? 폴더 안에 있는 필요한것 말고 전부다 가져와진다.\n",
    "# __init__.py 파일 안에 ' __all__ = ['파일이름','파일이름'] ' 넣어줘야한다.\n",
    "# 패키지안에 폴더는 잡아줘야안다.\n",
    "from roboadvisor.analysis import *\n",
    "series.series_test()"
   ]
  },
  {
   "cell_type": "code",
   "execution_count": 4,
   "id": "2e013a7b",
   "metadata": {},
   "outputs": [
    {
     "name": "stdout",
     "output_type": "stream",
     "text": [
      "series\n"
     ]
    }
   ],
   "source": [
    "import sys\n",
    "sys.path.append('/Users/jungkihun/Documents/source/python/my_packge')\n",
    "# 모든 모듈은 된다.\n",
    "from roboadvisor.analysis.series import *\n",
    "series_test()"
   ]
  },
  {
   "cell_type": "code",
   "execution_count": 1,
   "id": "0b9d78d9",
   "metadata": {},
   "outputs": [
    {
     "name": "stdout",
     "output_type": "stream",
     "text": [
      "series\n"
     ]
    }
   ],
   "source": [
    "import sys\n",
    "sys.path.append('/Users/jungkihun/Documents/source/python/my_packge')\n",
    "# 이것은 안되지만 되게 하는 방법이 있음, __init.py안에 __all__ = ['파일이름','파일이름'] 넣어주면 돌아간다.\n",
    "# 유니파이 설정하면됨\n",
    "import roboadvisor\n",
    "roboadvisor.analysis.series.series_test()"
   ]
  },
  {
   "cell_type": "code",
   "execution_count": 1,
   "id": "564c382e",
   "metadata": {},
   "outputs": [
    {
     "name": "stdout",
     "output_type": "stream",
     "text": [
      "scrap\n",
      "connection\n"
     ]
    }
   ],
   "source": [
    "import sys\n",
    "sys.path.append('/Users/jungkihun/Documents/source/python/my_packge')\n",
    "# 모든 모듈은 된다.\n",
    "from roboadvisor.crawling.scrap import scrap_test\n",
    "scrap_test()"
   ]
  },
  {
   "cell_type": "markdown",
   "id": "af6384a0",
   "metadata": {},
   "source": [
    "### 예외처리"
   ]
  },
  {
   "cell_type": "code",
   "execution_count": 2,
   "id": "244b3b51",
   "metadata": {},
   "outputs": [
    {
     "ename": "ZeroDivisionError",
     "evalue": "division by zero",
     "output_type": "error",
     "traceback": [
      "\u001b[0;31m---------------------------------------------------------------------------\u001b[0m",
      "\u001b[0;31mZeroDivisionError\u001b[0m                         Traceback (most recent call last)",
      "Cell \u001b[0;32mIn[2], line 2\u001b[0m\n\u001b[1;32m      1\u001b[0m \u001b[38;5;28;01mfor\u001b[39;00m i \u001b[38;5;129;01min\u001b[39;00m \u001b[38;5;28mrange\u001b[39m(\u001b[38;5;241m10\u001b[39m):\n\u001b[0;32m----> 2\u001b[0m     \u001b[38;5;28mprint\u001b[39m(\u001b[38;5;241;43m10\u001b[39;49m\u001b[38;5;241;43m/\u001b[39;49m\u001b[43mi\u001b[49m)\n",
      "\u001b[0;31mZeroDivisionError\u001b[0m: division by zero"
     ]
    }
   ],
   "source": [
    "for i in range(10):\n",
    "    print(10/i) # 0으로 못 나눈다"
   ]
  },
  {
   "cell_type": "code",
   "execution_count": 4,
   "id": "7a97fd87",
   "metadata": {},
   "outputs": [
    {
     "name": "stdout",
     "output_type": "stream",
     "text": [
      "0으로 나눴잖아....\n",
      "division by zero\n",
      "10.0\n",
      "5.0\n",
      "3.3333333333333335\n",
      "2.5\n",
      "2.0\n",
      "1.6666666666666667\n",
      "1.4285714285714286\n",
      "1.25\n",
      "1.1111111111111112\n"
     ]
    }
   ],
   "source": [
    "for i in range(10):\n",
    "    try:\n",
    "        print(10/i) \n",
    "    except ZeroDivisionError as e:\n",
    "        print('0으로 나눴잖아....')\n",
    "        print(e)"
   ]
  },
  {
   "cell_type": "code",
   "execution_count": 8,
   "id": "f7014220",
   "metadata": {},
   "outputs": [
    {
     "name": "stdout",
     "output_type": "stream",
     "text": [
      "0으로 나눴잖아....\n",
      "division by zero\n",
      "10.0\n",
      "5.0\n",
      "3.3333333333333335\n",
      "2.5\n",
      "2.0\n",
      "1.6666666666666667\n",
      "1.4285714285714286\n",
      "1.25\n",
      "1.1111111111111112\n"
     ]
    }
   ],
   "source": [
    "for i in range(10):\n",
    "    try:\n",
    "        result = 10/i \n",
    "    except ZeroDivisionError as e:\n",
    "        print('0으로 나눴잖아....')\n",
    "        print(e)\n",
    "    else: # if 사용하여 발생 안시키는것이 좋다\n",
    "        print(result)\n",
    "    "
   ]
  },
  {
   "cell_type": "code",
   "execution_count": 13,
   "id": "651187f5",
   "metadata": {},
   "outputs": [
    {
     "name": "stdout",
     "output_type": "stream",
     "text": [
      "0으로 나눴잖아....\n",
      "division by zero\n",
      "여기는 항상 실행\n",
      "10.0\n",
      "여기는 항상 실행\n",
      "5.0\n",
      "여기는 항상 실행\n",
      "3.3333333333333335\n",
      "여기는 항상 실행\n",
      "2.5\n",
      "여기는 항상 실행\n",
      "2.0\n",
      "여기는 항상 실행\n",
      "1.6666666666666667\n",
      "여기는 항상 실행\n",
      "1.4285714285714286\n",
      "여기는 항상 실행\n",
      "1.25\n",
      "여기는 항상 실행\n",
      "1.1111111111111112\n",
      "여기는 항상 실행\n"
     ]
    }
   ],
   "source": [
    "for i in range(10):\n",
    "    try:\n",
    "        result = 10/i\n",
    "        print(result)\n",
    "    except ZeroDivisionError as e:\n",
    "        print('0으로 나눴잖아....')\n",
    "        print(e)\n",
    "    finally: ## except에서 뭘 하든 항상실행\n",
    "        print('여기는 항상 실행')\n",
    "    "
   ]
  },
  {
   "cell_type": "code",
   "execution_count": 15,
   "id": "6d42f65e",
   "metadata": {},
   "outputs": [
    {
     "name": "stdout",
     "output_type": "stream",
     "text": [
      "정수 입력:4\n",
      "입력한 숫자:  4\n",
      "정수 입력:₩\n"
     ]
    },
    {
     "ename": "ValueError",
     "evalue": "똑바로 넣어!!!",
     "output_type": "error",
     "traceback": [
      "\u001b[0;31m---------------------------------------------------------------------------\u001b[0m",
      "\u001b[0;31mValueError\u001b[0m                                Traceback (most recent call last)",
      "Cell \u001b[0;32mIn[15], line 5\u001b[0m\n\u001b[1;32m      3\u001b[0m \u001b[38;5;28;01mfor\u001b[39;00m digit \u001b[38;5;129;01min\u001b[39;00m value:\n\u001b[1;32m      4\u001b[0m     \u001b[38;5;28;01mif\u001b[39;00m digit \u001b[38;5;129;01mnot\u001b[39;00m \u001b[38;5;129;01min\u001b[39;00m \u001b[38;5;124m'\u001b[39m\u001b[38;5;124m0123456789\u001b[39m\u001b[38;5;124m'\u001b[39m:\n\u001b[0;32m----> 5\u001b[0m         \u001b[38;5;28;01mraise\u001b[39;00m \u001b[38;5;167;01mValueError\u001b[39;00m(\u001b[38;5;124m\"\u001b[39m\u001b[38;5;124m똑바로 넣어!!!\u001b[39m\u001b[38;5;124m\"\u001b[39m) \u001b[38;5;66;03m# except 발생시키기 --> raise 명령어 사용\u001b[39;00m\n\u001b[1;32m      6\u001b[0m \u001b[38;5;28mprint\u001b[39m(\u001b[38;5;124m'\u001b[39m\u001b[38;5;124m입력한 숫자: \u001b[39m\u001b[38;5;124m'\u001b[39m,\u001b[38;5;28mint\u001b[39m(value))\n",
      "\u001b[0;31mValueError\u001b[0m: 똑바로 넣어!!!"
     ]
    }
   ],
   "source": [
    "while True:\n",
    "    value = input('정수 입력:')\n",
    "    for digit in value:\n",
    "        if digit not in '0123456789':\n",
    "            raise ValueError(\"똑바로 넣어!!!\") # except 발생시키기 --> raise 명령어 사용\n",
    "    print('입력한 숫자: ',int(value))"
   ]
  },
  {
   "cell_type": "markdown",
   "id": "78847527",
   "metadata": {},
   "source": [
    "\\## 중간 중간 들어오는 값 체크할 경우  \n",
    "개발할때 유용함"
   ]
  },
  {
   "cell_type": "code",
   "execution_count": 23,
   "id": "18473b8c",
   "metadata": {},
   "outputs": [],
   "source": [
    "\n",
    "def get_binary_number(deciaml_number):\n",
    "    assert isinstance(deciaml_number,int),'숫자 아니잔어 바보야~~~~~~~~~~'  ## int 말고 다른 값이 들어오면 에러 \n",
    "    return bin(deciaml_number)"
   ]
  },
  {
   "cell_type": "code",
   "execution_count": 24,
   "id": "d6f81dbe",
   "metadata": {},
   "outputs": [
    {
     "name": "stdout",
     "output_type": "stream",
     "text": [
      "0b1101\n"
     ]
    }
   ],
   "source": [
    "print(get_binary_number(13))"
   ]
  },
  {
   "cell_type": "code",
   "execution_count": 25,
   "id": "3e60861a",
   "metadata": {},
   "outputs": [
    {
     "ename": "AssertionError",
     "evalue": "숫자 아니잔어 바보야~~~~~~~~~~",
     "output_type": "error",
     "traceback": [
      "\u001b[0;31m---------------------------------------------------------------------------\u001b[0m",
      "\u001b[0;31mAssertionError\u001b[0m                            Traceback (most recent call last)",
      "Cell \u001b[0;32mIn[25], line 1\u001b[0m\n\u001b[0;32m----> 1\u001b[0m \u001b[38;5;28mprint\u001b[39m(\u001b[43mget_binary_number\u001b[49m\u001b[43m(\u001b[49m\u001b[38;5;124;43m'\u001b[39;49m\u001b[38;5;124;43m13\u001b[39;49m\u001b[38;5;124;43m'\u001b[39;49m\u001b[43m)\u001b[49m)\n",
      "Cell \u001b[0;32mIn[23], line 2\u001b[0m, in \u001b[0;36mget_binary_number\u001b[0;34m(deciaml_number)\u001b[0m\n\u001b[1;32m      1\u001b[0m \u001b[38;5;28;01mdef\u001b[39;00m \u001b[38;5;21mget_binary_number\u001b[39m(deciaml_number):\n\u001b[0;32m----> 2\u001b[0m     \u001b[38;5;28;01massert\u001b[39;00m \u001b[38;5;28misinstance\u001b[39m(deciaml_number,\u001b[38;5;28mint\u001b[39m),\u001b[38;5;124m'\u001b[39m\u001b[38;5;124m숫자 아니잔어 바보야~~~~~~~~~~\u001b[39m\u001b[38;5;124m'\u001b[39m  \u001b[38;5;66;03m## int 말고 다른 값이 들어오면 에러 \u001b[39;00m\n\u001b[1;32m      3\u001b[0m     \u001b[38;5;28;01mreturn\u001b[39;00m \u001b[38;5;28mbin\u001b[39m(deciaml_number)\n",
      "\u001b[0;31mAssertionError\u001b[0m: 숫자 아니잔어 바보야~~~~~~~~~~"
     ]
    }
   ],
   "source": [
    "print(get_binary_number('13'))"
   ]
  },
  {
   "cell_type": "code",
   "execution_count": null,
   "id": "5ca81d20",
   "metadata": {},
   "outputs": [],
   "source": []
  }
 ],
 "metadata": {
  "kernelspec": {
   "display_name": "Python 3 (ipykernel)",
   "language": "python",
   "name": "python3"
  },
  "language_info": {
   "codemirror_mode": {
    "name": "ipython",
    "version": 3
   },
   "file_extension": ".py",
   "mimetype": "text/x-python",
   "name": "python",
   "nbconvert_exporter": "python",
   "pygments_lexer": "ipython3",
   "version": "3.9.16"
  }
 },
 "nbformat": 4,
 "nbformat_minor": 5
}
