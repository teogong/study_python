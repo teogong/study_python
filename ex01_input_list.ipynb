{
 "cells": [
  {
   "cell_type": "markdown",
   "id": "9b0b5598",
   "metadata": {},
   "source": [
    "# input 사용법\n",
    "- input() \n",
    "- input('Enter name')"
   ]
  },
  {
   "cell_type": "code",
   "execution_count": 7,
   "id": "eb06f40b",
   "metadata": {},
   "outputs": [
    {
     "name": "stdout",
     "output_type": "stream",
     "text": [
      "Enter name\n",
      "Tom\n",
      "Good morning Tom\n"
     ]
    }
   ],
   "source": [
    "print('Enter name')\n",
    "name = input()\n",
    "print(\"Good morning\", name)"
   ]
  },
  {
   "cell_type": "code",
   "execution_count": 9,
   "id": "1c14fb87",
   "metadata": {},
   "outputs": [
    {
     "name": "stdout",
     "output_type": "stream",
     "text": [
      "Enter nameTom\n",
      "Good morning Tom\n"
     ]
    }
   ],
   "source": [
    "name = input('Enter name')\n",
    "print(\"Good morning\", name)"
   ]
  },
  {
   "cell_type": "markdown",
   "id": "c55458a5",
   "metadata": {},
   "source": [
    "\n",
    "# list \n",
    "파이썬은 배열이 없고 다 리스트입니다  \n",
    "파이썬은 리스트는 객체고  힙에 생긱고  \n",
    "저건 단지 레퍼렌스만 가지고 있는다"
   ]
  },
  {
   "cell_type": "code",
   "execution_count": 10,
   "id": "dccd57d2",
   "metadata": {},
   "outputs": [
    {
     "name": "stdout",
     "output_type": "stream",
     "text": [
      "red\n",
      "blue\n"
     ]
    }
   ],
   "source": [
    "color = ['red','blue','green']\n",
    "print(color[0])\n",
    "print(color[1])"
   ]
  },
  {
   "cell_type": "markdown",
   "id": "cec462f4",
   "metadata": {},
   "source": [
    "len 길이를 리턴해주는 함수"
   ]
  },
  {
   "cell_type": "code",
   "execution_count": 11,
   "id": "6e877d21",
   "metadata": {},
   "outputs": [
    {
     "name": "stdout",
     "output_type": "stream",
     "text": [
      "3\n"
     ]
    }
   ],
   "source": [
    "print(len(color))"
   ]
  },
  {
   "cell_type": "markdown",
   "id": "7cd34012",
   "metadata": {},
   "source": [
    "전체를 찍어줌"
   ]
  },
  {
   "cell_type": "code",
   "execution_count": 12,
   "id": "90c632f2",
   "metadata": {},
   "outputs": [
    {
     "name": "stdout",
     "output_type": "stream",
     "text": [
      "['red', 'blue', 'green']\n"
     ]
    }
   ],
   "source": [
    "print(color)"
   ]
  },
  {
   "cell_type": "markdown",
   "id": "70943004",
   "metadata": {},
   "source": [
    "다른 list 와 다른점은 list안에 다른형식을 다집어 넣을수있다."
   ]
  },
  {
   "cell_type": "code",
   "execution_count": 13,
   "id": "de8598d6",
   "metadata": {},
   "outputs": [
    {
     "name": "stdout",
     "output_type": "stream",
     "text": [
      "[1, 2, 'Three', 4.0, True]\n"
     ]
    }
   ],
   "source": [
    "list01 = [1,2,'Three',4.0,True]\n",
    "print(list01)"
   ]
  },
  {
   "cell_type": "code",
   "execution_count": 15,
   "id": "d66ec842",
   "metadata": {},
   "outputs": [],
   "source": [
    "cities = ['서울','부산','인천','대구','대전','광주','울산','수원']"
   ]
  },
  {
   "cell_type": "markdown",
   "id": "c53154af",
   "metadata": {},
   "source": [
    "맨 뒤에서 직전까지만 출력"
   ]
  },
  {
   "cell_type": "code",
   "execution_count": 16,
   "id": "637cbc2a",
   "metadata": {},
   "outputs": [
    {
     "name": "stdout",
     "output_type": "stream",
     "text": [
      "['서울', '부산', '인천', '대구', '대전', '광주']\n"
     ]
    }
   ],
   "source": [
    "print(cities[0:6])"
   ]
  },
  {
   "cell_type": "markdown",
   "id": "2b68aa0f",
   "metadata": {},
   "source": [
    "처음 시작할때는 앞에 생략가능"
   ]
  },
  {
   "cell_type": "code",
   "execution_count": 17,
   "id": "56920d45",
   "metadata": {},
   "outputs": [
    {
     "name": "stdout",
     "output_type": "stream",
     "text": [
      "['서울', '부산', '인천', '대구', '대전', '광주']\n"
     ]
    }
   ],
   "source": [
    "print(cities[:6])"
   ]
  },
  {
   "cell_type": "markdown",
   "id": "c1d9aed8",
   "metadata": {},
   "source": [
    "끝까지 할때는 뒤에 생략가능"
   ]
  },
  {
   "cell_type": "code",
   "execution_count": 18,
   "id": "a36a680c",
   "metadata": {},
   "outputs": [
    {
     "name": "stdout",
     "output_type": "stream",
     "text": [
      "['인천', '대구', '대전', '광주', '울산', '수원']\n"
     ]
    }
   ],
   "source": [
    "print(cities[2:])"
   ]
  },
  {
   "cell_type": "markdown",
   "id": "e00aa0f3",
   "metadata": {},
   "source": [
    "cities = ['서울','부산','인천','대구','대전','광주','울산','수원']  \n",
    "마이너스 인덱스 지원함"
   ]
  },
  {
   "cell_type": "code",
   "execution_count": 19,
   "id": "19c279db",
   "metadata": {},
   "outputs": [
    {
     "name": "stdout",
     "output_type": "stream",
     "text": [
      "['부산', '인천', '대구', '대전', '광주', '울산', '수원']\n"
     ]
    }
   ],
   "source": [
    "print(cities[-7:])"
   ]
  },
  {
   "cell_type": "code",
   "execution_count": 21,
   "id": "6f96714c",
   "metadata": {},
   "outputs": [
    {
     "name": "stdout",
     "output_type": "stream",
     "text": [
      "['서울', '부산', '인천', '대구', '대전', '광주']\n"
     ]
    }
   ],
   "source": [
    "print(cities[:-2])"
   ]
  },
  {
   "cell_type": "markdown",
   "id": "47571bc2",
   "metadata": {},
   "source": [
    "처음부터 끝까지 출력"
   ]
  },
  {
   "cell_type": "code",
   "execution_count": 22,
   "id": "20d085bb",
   "metadata": {},
   "outputs": [
    {
     "name": "stdout",
     "output_type": "stream",
     "text": [
      "['서울', '부산', '인천', '대구', '대전', '광주', '울산', '수원']\n"
     ]
    }
   ],
   "source": [
    "print(cities[:])"
   ]
  },
  {
   "cell_type": "code",
   "execution_count": 23,
   "id": "ff0f7448",
   "metadata": {},
   "outputs": [
    {
     "name": "stdout",
     "output_type": "stream",
     "text": [
      "['서울', '부산', '인천', '대구', '대전', '광주', '울산', '수원']\n"
     ]
    }
   ],
   "source": [
    "print(cities)"
   ]
  },
  {
   "cell_type": "markdown",
   "id": "ef59cb1b",
   "metadata": {},
   "source": [
    "cities = ['서울','부산','인천','대구','대전','광주','울산','수원']  \n",
    "1부터 7까지 인데 2개씩 뛰어라"
   ]
  },
  {
   "cell_type": "code",
   "execution_count": 24,
   "id": "91482f1f",
   "metadata": {},
   "outputs": [
    {
     "name": "stdout",
     "output_type": "stream",
     "text": [
      "['부산', '대구', '광주']\n"
     ]
    }
   ],
   "source": [
    "print(cities[1:7:2])"
   ]
  },
  {
   "cell_type": "code",
   "execution_count": 25,
   "id": "fbc8de5a",
   "metadata": {},
   "outputs": [
    {
     "name": "stdout",
     "output_type": "stream",
     "text": [
      "['수원', '울산', '광주', '대전', '대구', '인천', '부산', '서울']\n"
     ]
    }
   ],
   "source": [
    "print(cities[::-1])"
   ]
  },
  {
   "cell_type": "code",
   "execution_count": 27,
   "id": "f897e2de",
   "metadata": {},
   "outputs": [
    {
     "name": "stdout",
     "output_type": "stream",
     "text": [
      "['서울', '인천', '대전', '울산']\n"
     ]
    }
   ],
   "source": [
    "print(cities[::2])"
   ]
  },
  {
   "cell_type": "code",
   "execution_count": 28,
   "id": "2500415e",
   "metadata": {},
   "outputs": [],
   "source": [
    "color1 = ['red','blue','green']\n",
    "color2 = ['orange','black','white']"
   ]
  },
  {
   "cell_type": "markdown",
   "id": "4a705015",
   "metadata": {},
   "source": [
    "list 사측연산"
   ]
  },
  {
   "cell_type": "code",
   "execution_count": 29,
   "id": "3b201f42",
   "metadata": {},
   "outputs": [
    {
     "name": "stdout",
     "output_type": "stream",
     "text": [
      "['red', 'blue', 'green', 'orange', 'black', 'white']\n"
     ]
    }
   ],
   "source": [
    "add_color = color1+color2\n",
    "print(add_color)"
   ]
  },
  {
   "cell_type": "code",
   "execution_count": 30,
   "id": "6b7244d2",
   "metadata": {},
   "outputs": [
    {
     "name": "stdout",
     "output_type": "stream",
     "text": [
      "['red', 'blue', 'green', 'red', 'blue', 'green']\n"
     ]
    }
   ],
   "source": [
    "mul_color = color1*2\n",
    "print(mul_color)"
   ]
  },
  {
   "cell_type": "code",
   "execution_count": 31,
   "id": "2f7f450b",
   "metadata": {},
   "outputs": [
    {
     "name": "stdout",
     "output_type": "stream",
     "text": [
      "===============================================\n"
     ]
    }
   ],
   "source": [
    "print('===============================================')"
   ]
  },
  {
   "cell_type": "code",
   "execution_count": 32,
   "id": "a39f4e04",
   "metadata": {},
   "outputs": [
    {
     "name": "stdout",
     "output_type": "stream",
     "text": [
      "========================================\n"
     ]
    }
   ],
   "source": [
    "print('='*40)"
   ]
  },
  {
   "cell_type": "markdown",
   "id": "02f6114b",
   "metadata": {},
   "source": [
    "color1 = ['red','blue','green']  \n",
    "color2 = ['orange','black','white']  \n",
    "특정 항목에 list에 있는지 확인할때 in연산자 사용"
   ]
  },
  {
   "cell_type": "code",
   "execution_count": 33,
   "id": "93265a61",
   "metadata": {},
   "outputs": [
    {
     "name": "stdout",
     "output_type": "stream",
     "text": [
      "True\n"
     ]
    }
   ],
   "source": [
    "print('blue' in color1)"
   ]
  },
  {
   "cell_type": "code",
   "execution_count": 35,
   "id": "fa186d66",
   "metadata": {},
   "outputs": [
    {
     "name": "stdout",
     "output_type": "stream",
     "text": [
      "False\n"
     ]
    }
   ],
   "source": [
    "print('orange' in color1)"
   ]
  },
  {
   "cell_type": "markdown",
   "id": "69d5ce8d",
   "metadata": {},
   "source": [
    "맨 마지막에 항목추가하는것이 append이다"
   ]
  },
  {
   "cell_type": "code",
   "execution_count": 36,
   "id": "4a25b38e",
   "metadata": {},
   "outputs": [
    {
     "name": "stdout",
     "output_type": "stream",
     "text": [
      "['red', 'blue', 'green', 'purple']\n"
     ]
    }
   ],
   "source": [
    "color1.append('purple')\n",
    "print(color1)"
   ]
  },
  {
   "cell_type": "markdown",
   "id": "7dd7f5ab",
   "metadata": {},
   "source": [
    "list로 여러개 추가할때는 extend"
   ]
  },
  {
   "cell_type": "code",
   "execution_count": 37,
   "id": "77525f78",
   "metadata": {},
   "outputs": [
    {
     "name": "stdout",
     "output_type": "stream",
     "text": [
      "['orange', 'black', 'white', 'purple', 'pink']\n"
     ]
    }
   ],
   "source": [
    "color2.extend(['purple','pink'])\n",
    "print(color2)"
   ]
  },
  {
   "cell_type": "markdown",
   "id": "248d52c3",
   "metadata": {},
   "source": [
    "insert 원하는 위치에 넣는것 그러나 내부적으로 퍼포먼스가 떨어짐"
   ]
  },
  {
   "cell_type": "code",
   "execution_count": 38,
   "id": "d2acbb51",
   "metadata": {},
   "outputs": [
    {
     "name": "stdout",
     "output_type": "stream",
     "text": [
      "['orange', 'magenta', 'black', 'white', 'purple', 'pink']\n"
     ]
    }
   ],
   "source": [
    "color2.insert(1,'magenta')\n",
    "print(color2)"
   ]
  },
  {
   "cell_type": "markdown",
   "id": "4913242b",
   "metadata": {},
   "source": [
    "list 삭제 방법"
   ]
  },
  {
   "cell_type": "code",
   "execution_count": 39,
   "id": "54f088eb",
   "metadata": {},
   "outputs": [
    {
     "name": "stdout",
     "output_type": "stream",
     "text": [
      "['orange', 'black', 'white', 'purple', 'pink']\n"
     ]
    }
   ],
   "source": [
    "color2.remove('magenta')\n",
    "print(color2)"
   ]
  },
  {
   "cell_type": "markdown",
   "id": "7a872f61",
   "metadata": {},
   "source": [
    "인덱스 삭제 (글로벌 스페이스에서 변수를 날려버릴때 사용)"
   ]
  },
  {
   "cell_type": "code",
   "execution_count": 40,
   "id": "ef535401",
   "metadata": {},
   "outputs": [
    {
     "name": "stdout",
     "output_type": "stream",
     "text": [
      "['black', 'white', 'purple', 'pink']\n"
     ]
    }
   ],
   "source": [
    "del color2[0]\n",
    "print(color2)"
   ]
  },
  {
   "cell_type": "code",
   "execution_count": 41,
   "id": "4eed5b9b",
   "metadata": {},
   "outputs": [
    {
     "name": "stdout",
     "output_type": "stream",
     "text": [
      "100\n"
     ]
    }
   ],
   "source": [
    "a= 100\n",
    "print(a)"
   ]
  },
  {
   "cell_type": "code",
   "execution_count": 43,
   "id": "ff81d1dc",
   "metadata": {},
   "outputs": [
    {
     "ename": "NameError",
     "evalue": "name 'a' is not defined",
     "output_type": "error",
     "traceback": [
      "\u001b[1;31m---------------------------------------------------------------------------\u001b[0m",
      "\u001b[1;31mNameError\u001b[0m                                 Traceback (most recent call last)",
      "Cell \u001b[1;32mIn[43], line 2\u001b[0m\n\u001b[0;32m      1\u001b[0m \u001b[38;5;28;01mdel\u001b[39;00m(a)\n\u001b[1;32m----> 2\u001b[0m \u001b[38;5;28mprint\u001b[39m(\u001b[43ma\u001b[49m)\n",
      "\u001b[1;31mNameError\u001b[0m: name 'a' is not defined"
     ]
    }
   ],
   "source": [
    "del(a)\n",
    "print(a)"
   ]
  },
  {
   "cell_type": "markdown",
   "id": "ba74ec7d",
   "metadata": {},
   "source": [
    "값 변경"
   ]
  },
  {
   "cell_type": "code",
   "execution_count": 44,
   "id": "e2ac5463",
   "metadata": {},
   "outputs": [
    {
     "name": "stdout",
     "output_type": "stream",
     "text": [
      "['black', 'red', 'purple', 'pink']\n"
     ]
    }
   ],
   "source": [
    "color2[1] = 'red'\n",
    "print(color2)"
   ]
  },
  {
   "cell_type": "markdown",
   "id": "643f99d5",
   "metadata": {},
   "source": [
    "패킹 언패킹 "
   ]
  },
  {
   "cell_type": "code",
   "execution_count": 2,
   "id": "15735ff7",
   "metadata": {},
   "outputs": [],
   "source": [
    "color = ['red','blue','green'] #packing"
   ]
  },
  {
   "cell_type": "code",
   "execution_count": 3,
   "id": "71730e88",
   "metadata": {},
   "outputs": [
    {
     "name": "stdout",
     "output_type": "stream",
     "text": [
      "red blue green\n"
     ]
    }
   ],
   "source": [
    "a, b, c = color  #unpacking\n",
    "print(a,b,c)  #단 변수 갯수가 다르면 에러 발생"
   ]
  },
  {
   "cell_type": "code",
   "execution_count": 4,
   "id": "6ddd41bc",
   "metadata": {},
   "outputs": [
    {
     "name": "stdout",
     "output_type": "stream",
     "text": [
      "red green\n"
     ]
    }
   ],
   "source": [
    "a, _, b = color #안받고 싶은때는 _ 사용해서 갯수 맞쳐줘야한다.\n",
    "print(a,b)"
   ]
  },
  {
   "cell_type": "markdown",
   "id": "4a8e1b64",
   "metadata": {},
   "source": [
    "2차원 list  \n",
    "앞에 인덱스가 row  \n",
    "뒤에 인덱스가 column"
   ]
  },
  {
   "cell_type": "code",
   "execution_count": 51,
   "id": "5c39ed56",
   "metadata": {},
   "outputs": [],
   "source": [
    "kor_score = [60, 65, 85, 100, 90]\n",
    "eng_score = [75, 80, 90, 85, 100]\n",
    "math_score = [100, 90, 70, 90, 85]\n",
    "term_score = [kor_score, eng_score, math_score]"
   ]
  },
  {
   "cell_type": "code",
   "execution_count": 52,
   "id": "738e549e",
   "metadata": {},
   "outputs": [
    {
     "name": "stdout",
     "output_type": "stream",
     "text": [
      "[[60, 65, 85, 100, 90], [75, 80, 90, 85, 100], [100, 90, 70, 90, 85]]\n"
     ]
    }
   ],
   "source": [
    "print(term_score)"
   ]
  },
  {
   "cell_type": "code",
   "execution_count": 53,
   "id": "a3d1f5db",
   "metadata": {},
   "outputs": [
    {
     "name": "stdout",
     "output_type": "stream",
     "text": [
      "[60, 65, 85, 100, 90]\n"
     ]
    }
   ],
   "source": [
    "print(term_score[0])"
   ]
  },
  {
   "cell_type": "code",
   "execution_count": 54,
   "id": "a1c4e57f",
   "metadata": {},
   "outputs": [
    {
     "name": "stdout",
     "output_type": "stream",
     "text": [
      "85\n"
     ]
    }
   ],
   "source": [
    "print(term_score[0][2])"
   ]
  },
  {
   "cell_type": "code",
   "execution_count": null,
   "id": "a75839bc",
   "metadata": {},
   "outputs": [],
   "source": []
  }
 ],
 "metadata": {
  "kernelspec": {
   "display_name": "Python 3 (ipykernel)",
   "language": "python",
   "name": "python3"
  },
  "language_info": {
   "codemirror_mode": {
    "name": "ipython",
    "version": 3
   },
   "file_extension": ".py",
   "mimetype": "text/x-python",
   "name": "python",
   "nbconvert_exporter": "python",
   "pygments_lexer": "ipython3",
   "version": "3.9.16"
  }
 },
 "nbformat": 4,
 "nbformat_minor": 5
}
